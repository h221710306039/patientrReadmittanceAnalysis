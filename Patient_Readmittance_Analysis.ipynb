{
 "cells": [
  {
   "cell_type": "markdown",
   "metadata": {
    "id": "7F59Pf3M4er_"
   },
   "source": [
    "## Setting up PySpark in Google Colab"
   ]
  },
  {
   "cell_type": "code",
   "execution_count": 1,
   "metadata": {
    "executionInfo": {
     "elapsed": 17575,
     "status": "ok",
     "timestamp": 1606639943656,
     "user": {
      "displayName": "Saruk Shaikh",
      "photoUrl": "https://lh3.googleusercontent.com/a-/AOh14Ghv-rUYie3uSseucKXRotW62K0IYvrJgTooV-W8=s64",
      "userId": "04024120848573542282"
     },
     "user_tz": -330
    },
    "id": "DR0DEg6-tpv9"
   },
   "outputs": [],
   "source": [
    "!apt-get install openjdk-8-jdk-headless -qq > /dev/null"
   ]
  },
  {
   "cell_type": "code",
   "execution_count": 2,
   "metadata": {
    "executionInfo": {
     "elapsed": 40722,
     "status": "ok",
     "timestamp": 1606639966822,
     "user": {
      "displayName": "Saruk Shaikh",
      "photoUrl": "https://lh3.googleusercontent.com/a-/AOh14Ghv-rUYie3uSseucKXRotW62K0IYvrJgTooV-W8=s64",
      "userId": "04024120848573542282"
     },
     "user_tz": -330
    },
    "id": "mEFJ71rMtvAh"
   },
   "outputs": [],
   "source": [
    "!wget -q https://downloads.apache.org/spark/spark-2.4.7/spark-2.4.7-bin-hadoop2.7.tgz"
   ]
  },
  {
   "cell_type": "code",
   "execution_count": 3,
   "metadata": {
    "colab": {
     "base_uri": "https://localhost:8080/"
    },
    "executionInfo": {
     "elapsed": 43562,
     "status": "ok",
     "timestamp": 1606639969675,
     "user": {
      "displayName": "Saruk Shaikh",
      "photoUrl": "https://lh3.googleusercontent.com/a-/AOh14Ghv-rUYie3uSseucKXRotW62K0IYvrJgTooV-W8=s64",
      "userId": "04024120848573542282"
     },
     "user_tz": -330
    },
    "id": "OQ462d1AtwmY",
    "outputId": "f97ac059-d4b9-4e6a-eb6d-d9b876aa8661"
   },
   "outputs": [
    {
     "name": "stdout",
     "output_type": "stream",
     "text": [
      "spark-2.4.7-bin-hadoop2.7/\n",
      "spark-2.4.7-bin-hadoop2.7/kubernetes/\n",
      "spark-2.4.7-bin-hadoop2.7/kubernetes/tests/\n",
      "spark-2.4.7-bin-hadoop2.7/kubernetes/tests/py_container_checks.py\n",
      "spark-2.4.7-bin-hadoop2.7/kubernetes/tests/pyfiles.py\n",
      "spark-2.4.7-bin-hadoop2.7/kubernetes/tests/worker_memory_check.py\n",
      "spark-2.4.7-bin-hadoop2.7/kubernetes/dockerfiles/\n",
      "spark-2.4.7-bin-hadoop2.7/kubernetes/dockerfiles/spark/\n",
      "spark-2.4.7-bin-hadoop2.7/kubernetes/dockerfiles/spark/entrypoint.sh\n",
      "spark-2.4.7-bin-hadoop2.7/kubernetes/dockerfiles/spark/bindings/\n",
      "spark-2.4.7-bin-hadoop2.7/kubernetes/dockerfiles/spark/bindings/python/\n",
      "spark-2.4.7-bin-hadoop2.7/kubernetes/dockerfiles/spark/bindings/python/Dockerfile\n",
      "spark-2.4.7-bin-hadoop2.7/kubernetes/dockerfiles/spark/bindings/R/\n",
      "spark-2.4.7-bin-hadoop2.7/kubernetes/dockerfiles/spark/bindings/R/Dockerfile\n",
      "spark-2.4.7-bin-hadoop2.7/kubernetes/dockerfiles/spark/Dockerfile\n",
      "spark-2.4.7-bin-hadoop2.7/NOTICE\n",
      "spark-2.4.7-bin-hadoop2.7/data/\n",
      "spark-2.4.7-bin-hadoop2.7/data/streaming/\n",
      "spark-2.4.7-bin-hadoop2.7/data/streaming/AFINN-111.txt\n",
      "spark-2.4.7-bin-hadoop2.7/data/mllib/\n",
      "spark-2.4.7-bin-hadoop2.7/data/mllib/sample_multiclass_classification_data.txt\n",
      "spark-2.4.7-bin-hadoop2.7/data/mllib/streaming_kmeans_data_test.txt\n",
      "spark-2.4.7-bin-hadoop2.7/data/mllib/ridge-data/\n",
      "spark-2.4.7-bin-hadoop2.7/data/mllib/ridge-data/lpsa.data\n",
      "spark-2.4.7-bin-hadoop2.7/data/mllib/als/\n",
      "spark-2.4.7-bin-hadoop2.7/data/mllib/als/test.data\n",
      "spark-2.4.7-bin-hadoop2.7/data/mllib/als/sample_movielens_ratings.txt\n",
      "spark-2.4.7-bin-hadoop2.7/data/mllib/sample_svm_data.txt\n",
      "spark-2.4.7-bin-hadoop2.7/data/mllib/images/\n",
      "spark-2.4.7-bin-hadoop2.7/data/mllib/images/origin/\n",
      "spark-2.4.7-bin-hadoop2.7/data/mllib/images/origin/license.txt\n",
      "spark-2.4.7-bin-hadoop2.7/data/mllib/images/origin/multi-channel/\n",
      "spark-2.4.7-bin-hadoop2.7/data/mllib/images/origin/multi-channel/grayscale.jpg\n",
      "spark-2.4.7-bin-hadoop2.7/data/mllib/images/origin/multi-channel/BGRA_alpha_60.png\n",
      "spark-2.4.7-bin-hadoop2.7/data/mllib/images/origin/multi-channel/chr30.4.184.jpg\n",
      "spark-2.4.7-bin-hadoop2.7/data/mllib/images/origin/multi-channel/BGRA.png\n",
      "spark-2.4.7-bin-hadoop2.7/data/mllib/images/origin/kittens/\n",
      "spark-2.4.7-bin-hadoop2.7/data/mllib/images/origin/kittens/not-image.txt\n",
      "spark-2.4.7-bin-hadoop2.7/data/mllib/images/origin/kittens/29.5.a_b_EGDP022204.jpg\n",
      "spark-2.4.7-bin-hadoop2.7/data/mllib/images/origin/kittens/54893.jpg\n",
      "spark-2.4.7-bin-hadoop2.7/data/mllib/images/origin/kittens/DP153539.jpg\n",
      "spark-2.4.7-bin-hadoop2.7/data/mllib/images/origin/kittens/DP802813.jpg\n",
      "spark-2.4.7-bin-hadoop2.7/data/mllib/images/partitioned/\n",
      "spark-2.4.7-bin-hadoop2.7/data/mllib/images/partitioned/cls=multichannel/\n",
      "spark-2.4.7-bin-hadoop2.7/data/mllib/images/partitioned/cls=multichannel/date=2018-01/\n",
      "spark-2.4.7-bin-hadoop2.7/data/mllib/images/partitioned/cls=multichannel/date=2018-01/BGRA_alpha_60.png\n",
      "spark-2.4.7-bin-hadoop2.7/data/mllib/images/partitioned/cls=multichannel/date=2018-01/BGRA.png\n",
      "spark-2.4.7-bin-hadoop2.7/data/mllib/images/partitioned/cls=multichannel/date=2018-02/\n",
      "spark-2.4.7-bin-hadoop2.7/data/mllib/images/partitioned/cls=multichannel/date=2018-02/grayscale.jpg\n",
      "spark-2.4.7-bin-hadoop2.7/data/mllib/images/partitioned/cls=multichannel/date=2018-02/chr30.4.184.jpg\n",
      "spark-2.4.7-bin-hadoop2.7/data/mllib/images/partitioned/cls=kittens/\n",
      "spark-2.4.7-bin-hadoop2.7/data/mllib/images/partitioned/cls=kittens/date=2018-01/\n",
      "spark-2.4.7-bin-hadoop2.7/data/mllib/images/partitioned/cls=kittens/date=2018-01/not-image.txt\n",
      "spark-2.4.7-bin-hadoop2.7/data/mllib/images/partitioned/cls=kittens/date=2018-01/29.5.a_b_EGDP022204.jpg\n",
      "spark-2.4.7-bin-hadoop2.7/data/mllib/images/partitioned/cls=kittens/date=2018-02/\n",
      "spark-2.4.7-bin-hadoop2.7/data/mllib/images/partitioned/cls=kittens/date=2018-02/54893.jpg\n",
      "spark-2.4.7-bin-hadoop2.7/data/mllib/images/partitioned/cls=kittens/date=2018-02/DP153539.jpg\n",
      "spark-2.4.7-bin-hadoop2.7/data/mllib/images/partitioned/cls=kittens/date=2018-02/DP802813.jpg\n",
      "spark-2.4.7-bin-hadoop2.7/data/mllib/images/license.txt\n",
      "spark-2.4.7-bin-hadoop2.7/data/mllib/sample_fpgrowth.txt\n",
      "spark-2.4.7-bin-hadoop2.7/data/mllib/iris_libsvm.txt\n",
      "spark-2.4.7-bin-hadoop2.7/data/mllib/sample_lda_data.txt\n",
      "spark-2.4.7-bin-hadoop2.7/data/mllib/sample_movielens_data.txt\n",
      "spark-2.4.7-bin-hadoop2.7/data/mllib/sample_binary_classification_data.txt\n",
      "spark-2.4.7-bin-hadoop2.7/data/mllib/sample_lda_libsvm_data.txt\n",
      "spark-2.4.7-bin-hadoop2.7/data/mllib/pagerank_data.txt\n",
      "spark-2.4.7-bin-hadoop2.7/data/mllib/sample_linear_regression_data.txt\n",
      "spark-2.4.7-bin-hadoop2.7/data/mllib/gmm_data.txt\n",
      "spark-2.4.7-bin-hadoop2.7/data/mllib/sample_kmeans_data.txt\n",
      "spark-2.4.7-bin-hadoop2.7/data/mllib/pic_data.txt\n",
      "spark-2.4.7-bin-hadoop2.7/data/mllib/kmeans_data.txt\n",
      "spark-2.4.7-bin-hadoop2.7/data/mllib/sample_isotonic_regression_libsvm_data.txt\n",
      "spark-2.4.7-bin-hadoop2.7/data/mllib/sample_libsvm_data.txt\n",
      "spark-2.4.7-bin-hadoop2.7/data/graphx/\n",
      "spark-2.4.7-bin-hadoop2.7/data/graphx/followers.txt\n",
      "spark-2.4.7-bin-hadoop2.7/data/graphx/users.txt\n",
      "spark-2.4.7-bin-hadoop2.7/README.md\n",
      "spark-2.4.7-bin-hadoop2.7/conf/\n",
      "spark-2.4.7-bin-hadoop2.7/conf/docker.properties.template\n",
      "spark-2.4.7-bin-hadoop2.7/conf/spark-env.sh.template\n",
      "spark-2.4.7-bin-hadoop2.7/conf/metrics.properties.template\n",
      "spark-2.4.7-bin-hadoop2.7/conf/log4j.properties.template\n",
      "spark-2.4.7-bin-hadoop2.7/conf/spark-defaults.conf.template\n",
      "spark-2.4.7-bin-hadoop2.7/conf/fairscheduler.xml.template\n",
      "spark-2.4.7-bin-hadoop2.7/conf/slaves.template\n",
      "spark-2.4.7-bin-hadoop2.7/licenses/\n",
      "spark-2.4.7-bin-hadoop2.7/licenses/LICENSE-jline.txt\n",
      "spark-2.4.7-bin-hadoop2.7/licenses/LICENSE-javolution.txt\n",
      "spark-2.4.7-bin-hadoop2.7/licenses/LICENSE-heapq.txt\n",
      "spark-2.4.7-bin-hadoop2.7/licenses/LICENSE-dagre-d3.txt\n",
      "spark-2.4.7-bin-hadoop2.7/licenses/LICENSE-modernizr.txt\n",
      "spark-2.4.7-bin-hadoop2.7/licenses/LICENSE-bootstrap.txt\n",
      "spark-2.4.7-bin-hadoop2.7/licenses/LICENSE-mustache.txt\n",
      "spark-2.4.7-bin-hadoop2.7/licenses/LICENSE-respond.txt\n",
      "spark-2.4.7-bin-hadoop2.7/licenses/LICENSE-jtransforms.html\n",
      "spark-2.4.7-bin-hadoop2.7/licenses/LICENSE-zstd-jni.txt\n",
      "spark-2.4.7-bin-hadoop2.7/licenses/LICENSE-vis-timeline.txt\n",
      "spark-2.4.7-bin-hadoop2.7/licenses/LICENSE-protobuf.txt\n",
      "spark-2.4.7-bin-hadoop2.7/licenses/LICENSE-netlib.txt\n",
      "spark-2.4.7-bin-hadoop2.7/licenses/LICENSE-xmlenc.txt\n",
      "spark-2.4.7-bin-hadoop2.7/licenses/LICENSE-reflectasm.txt\n",
      "spark-2.4.7-bin-hadoop2.7/licenses/LICENSE-jodd.txt\n",
      "spark-2.4.7-bin-hadoop2.7/licenses/LICENSE-arpack.txt\n",
      "spark-2.4.7-bin-hadoop2.7/licenses/LICENSE-zstd.txt\n",
      "spark-2.4.7-bin-hadoop2.7/licenses/LICENSE-machinist.txt\n",
      "spark-2.4.7-bin-hadoop2.7/licenses/LICENSE-CC0.txt\n",
      "spark-2.4.7-bin-hadoop2.7/licenses/LICENSE-leveldbjni.txt\n",
      "spark-2.4.7-bin-hadoop2.7/licenses/LICENSE-minlog.txt\n",
      "spark-2.4.7-bin-hadoop2.7/licenses/LICENSE-spire.txt\n",
      "spark-2.4.7-bin-hadoop2.7/licenses/LICENSE-scala.txt\n",
      "spark-2.4.7-bin-hadoop2.7/licenses/LICENSE-janino.txt\n",
      "spark-2.4.7-bin-hadoop2.7/licenses/LICENSE-antlr.txt\n",
      "spark-2.4.7-bin-hadoop2.7/licenses/LICENSE-AnchorJS.txt\n",
      "spark-2.4.7-bin-hadoop2.7/licenses/LICENSE-cloudpickle.txt\n",
      "spark-2.4.7-bin-hadoop2.7/licenses/LICENSE-f2j.txt\n",
      "spark-2.4.7-bin-hadoop2.7/licenses/LICENSE-graphlib-dot.txt\n",
      "spark-2.4.7-bin-hadoop2.7/licenses/LICENSE-pyrolite.txt\n",
      "spark-2.4.7-bin-hadoop2.7/licenses/LICENSE-datatables.txt\n",
      "spark-2.4.7-bin-hadoop2.7/licenses/LICENSE-kryo.txt\n",
      "spark-2.4.7-bin-hadoop2.7/licenses/LICENSE-join.txt\n",
      "spark-2.4.7-bin-hadoop2.7/licenses/LICENSE-scopt.txt\n",
      "spark-2.4.7-bin-hadoop2.7/licenses/LICENSE-sbt-launch-lib.txt\n",
      "spark-2.4.7-bin-hadoop2.7/licenses/LICENSE-paranamer.txt\n",
      "spark-2.4.7-bin-hadoop2.7/licenses/LICENSE-d3.min.js.txt\n",
      "spark-2.4.7-bin-hadoop2.7/licenses/LICENSE-automaton.txt\n",
      "spark-2.4.7-bin-hadoop2.7/licenses/LICENSE-slf4j.txt\n",
      "spark-2.4.7-bin-hadoop2.7/licenses/LICENSE-matchMedia-polyfill.txt\n",
      "spark-2.4.7-bin-hadoop2.7/licenses/LICENSE-javassist.html\n",
      "spark-2.4.7-bin-hadoop2.7/licenses/LICENSE-pmml-model.txt\n",
      "spark-2.4.7-bin-hadoop2.7/licenses/LICENSE-jquery.txt\n",
      "spark-2.4.7-bin-hadoop2.7/licenses/LICENSE-sorttable.js.txt\n",
      "spark-2.4.7-bin-hadoop2.7/licenses/LICENSE-py4j.txt\n",
      "spark-2.4.7-bin-hadoop2.7/licenses/LICENSE-json-formatter.txt\n",
      "spark-2.4.7-bin-hadoop2.7/yarn/\n",
      "spark-2.4.7-bin-hadoop2.7/yarn/spark-2.4.7-yarn-shuffle.jar\n",
      "spark-2.4.7-bin-hadoop2.7/bin/\n",
      "spark-2.4.7-bin-hadoop2.7/bin/spark-shell\n",
      "spark-2.4.7-bin-hadoop2.7/bin/spark-sql.cmd\n",
      "spark-2.4.7-bin-hadoop2.7/bin/spark-shell2.cmd\n",
      "spark-2.4.7-bin-hadoop2.7/bin/find-spark-home.cmd\n",
      "spark-2.4.7-bin-hadoop2.7/bin/load-spark-env.sh\n",
      "spark-2.4.7-bin-hadoop2.7/bin/beeline.cmd\n",
      "spark-2.4.7-bin-hadoop2.7/bin/spark-class\n",
      "spark-2.4.7-bin-hadoop2.7/bin/sparkR2.cmd\n",
      "spark-2.4.7-bin-hadoop2.7/bin/run-example\n",
      "spark-2.4.7-bin-hadoop2.7/bin/sparkR\n",
      "spark-2.4.7-bin-hadoop2.7/bin/pyspark2.cmd\n",
      "spark-2.4.7-bin-hadoop2.7/bin/run-example.cmd\n",
      "spark-2.4.7-bin-hadoop2.7/bin/spark-sql2.cmd\n",
      "spark-2.4.7-bin-hadoop2.7/bin/spark-submit\n",
      "spark-2.4.7-bin-hadoop2.7/bin/spark-shell.cmd\n",
      "spark-2.4.7-bin-hadoop2.7/bin/docker-image-tool.sh\n",
      "spark-2.4.7-bin-hadoop2.7/bin/find-spark-home\n",
      "spark-2.4.7-bin-hadoop2.7/bin/sparkR.cmd\n",
      "spark-2.4.7-bin-hadoop2.7/bin/load-spark-env.cmd\n",
      "spark-2.4.7-bin-hadoop2.7/bin/pyspark\n",
      "spark-2.4.7-bin-hadoop2.7/bin/beeline\n",
      "spark-2.4.7-bin-hadoop2.7/bin/spark-sql\n",
      "spark-2.4.7-bin-hadoop2.7/bin/spark-submit.cmd\n",
      "spark-2.4.7-bin-hadoop2.7/bin/spark-submit2.cmd\n",
      "spark-2.4.7-bin-hadoop2.7/bin/spark-class2.cmd\n",
      "spark-2.4.7-bin-hadoop2.7/bin/pyspark.cmd\n",
      "spark-2.4.7-bin-hadoop2.7/bin/spark-class.cmd\n",
      "spark-2.4.7-bin-hadoop2.7/sbin/\n",
      "spark-2.4.7-bin-hadoop2.7/sbin/stop-shuffle-service.sh\n",
      "spark-2.4.7-bin-hadoop2.7/sbin/start-master.sh\n",
      "spark-2.4.7-bin-hadoop2.7/sbin/start-mesos-dispatcher.sh\n",
      "spark-2.4.7-bin-hadoop2.7/sbin/stop-slave.sh\n",
      "spark-2.4.7-bin-hadoop2.7/sbin/stop-thriftserver.sh\n",
      "spark-2.4.7-bin-hadoop2.7/sbin/stop-history-server.sh\n",
      "spark-2.4.7-bin-hadoop2.7/sbin/start-thriftserver.sh\n",
      "spark-2.4.7-bin-hadoop2.7/sbin/stop-master.sh\n",
      "spark-2.4.7-bin-hadoop2.7/sbin/start-history-server.sh\n",
      "spark-2.4.7-bin-hadoop2.7/sbin/stop-mesos-shuffle-service.sh\n",
      "spark-2.4.7-bin-hadoop2.7/sbin/stop-mesos-dispatcher.sh\n",
      "spark-2.4.7-bin-hadoop2.7/sbin/stop-all.sh\n",
      "spark-2.4.7-bin-hadoop2.7/sbin/start-mesos-shuffle-service.sh\n",
      "spark-2.4.7-bin-hadoop2.7/sbin/start-slaves.sh\n",
      "spark-2.4.7-bin-hadoop2.7/sbin/spark-config.sh\n",
      "spark-2.4.7-bin-hadoop2.7/sbin/start-shuffle-service.sh\n",
      "spark-2.4.7-bin-hadoop2.7/sbin/start-slave.sh\n",
      "spark-2.4.7-bin-hadoop2.7/sbin/spark-daemons.sh\n",
      "spark-2.4.7-bin-hadoop2.7/sbin/start-all.sh\n",
      "spark-2.4.7-bin-hadoop2.7/sbin/spark-daemon.sh\n",
      "spark-2.4.7-bin-hadoop2.7/sbin/slaves.sh\n",
      "spark-2.4.7-bin-hadoop2.7/sbin/stop-slaves.sh\n",
      "spark-2.4.7-bin-hadoop2.7/LICENSE\n",
      "spark-2.4.7-bin-hadoop2.7/python/\n",
      "spark-2.4.7-bin-hadoop2.7/python/setup.py\n",
      "spark-2.4.7-bin-hadoop2.7/python/pylintrc\n",
      "spark-2.4.7-bin-hadoop2.7/python/README.md\n",
      "spark-2.4.7-bin-hadoop2.7/python/run-tests.py\n",
      "spark-2.4.7-bin-hadoop2.7/python/.coveragerc\n",
      "spark-2.4.7-bin-hadoop2.7/python/run-tests-with-coverage\n",
      "spark-2.4.7-bin-hadoop2.7/python/.gitignore\n",
      "spark-2.4.7-bin-hadoop2.7/python/test_support/\n",
      "spark-2.4.7-bin-hadoop2.7/python/test_support/userlibrary.py\n",
      "spark-2.4.7-bin-hadoop2.7/python/test_support/sql/\n",
      "spark-2.4.7-bin-hadoop2.7/python/test_support/sql/parquet_partitioned/\n",
      "spark-2.4.7-bin-hadoop2.7/python/test_support/sql/parquet_partitioned/_SUCCESS\n",
      "spark-2.4.7-bin-hadoop2.7/python/test_support/sql/parquet_partitioned/year=2014/\n",
      "spark-2.4.7-bin-hadoop2.7/python/test_support/sql/parquet_partitioned/year=2014/month=9/\n",
      "spark-2.4.7-bin-hadoop2.7/python/test_support/sql/parquet_partitioned/year=2014/month=9/day=1/\n",
      "spark-2.4.7-bin-hadoop2.7/python/test_support/sql/parquet_partitioned/year=2014/month=9/day=1/.part-r-00008.gz.parquet.crc\n",
      "spark-2.4.7-bin-hadoop2.7/python/test_support/sql/parquet_partitioned/year=2014/month=9/day=1/part-r-00008.gz.parquet\n",
      "spark-2.4.7-bin-hadoop2.7/python/test_support/sql/parquet_partitioned/year=2015/\n",
      "spark-2.4.7-bin-hadoop2.7/python/test_support/sql/parquet_partitioned/year=2015/month=10/\n",
      "spark-2.4.7-bin-hadoop2.7/python/test_support/sql/parquet_partitioned/year=2015/month=10/day=26/\n",
      "spark-2.4.7-bin-hadoop2.7/python/test_support/sql/parquet_partitioned/year=2015/month=10/day=26/part-r-00005.gz.parquet\n",
      "spark-2.4.7-bin-hadoop2.7/python/test_support/sql/parquet_partitioned/year=2015/month=10/day=26/.part-r-00005.gz.parquet.crc\n",
      "spark-2.4.7-bin-hadoop2.7/python/test_support/sql/parquet_partitioned/year=2015/month=10/day=25/\n",
      "spark-2.4.7-bin-hadoop2.7/python/test_support/sql/parquet_partitioned/year=2015/month=10/day=25/part-r-00002.gz.parquet\n",
      "spark-2.4.7-bin-hadoop2.7/python/test_support/sql/parquet_partitioned/year=2015/month=10/day=25/.part-r-00002.gz.parquet.crc\n",
      "spark-2.4.7-bin-hadoop2.7/python/test_support/sql/parquet_partitioned/year=2015/month=10/day=25/.part-r-00004.gz.parquet.crc\n",
      "spark-2.4.7-bin-hadoop2.7/python/test_support/sql/parquet_partitioned/year=2015/month=10/day=25/part-r-00004.gz.parquet\n",
      "spark-2.4.7-bin-hadoop2.7/python/test_support/sql/parquet_partitioned/year=2015/month=9/\n",
      "spark-2.4.7-bin-hadoop2.7/python/test_support/sql/parquet_partitioned/year=2015/month=9/day=1/\n",
      "spark-2.4.7-bin-hadoop2.7/python/test_support/sql/parquet_partitioned/year=2015/month=9/day=1/.part-r-00007.gz.parquet.crc\n",
      "spark-2.4.7-bin-hadoop2.7/python/test_support/sql/parquet_partitioned/year=2015/month=9/day=1/part-r-00007.gz.parquet\n",
      "spark-2.4.7-bin-hadoop2.7/python/test_support/sql/parquet_partitioned/_metadata\n",
      "spark-2.4.7-bin-hadoop2.7/python/test_support/sql/parquet_partitioned/_common_metadata\n",
      "spark-2.4.7-bin-hadoop2.7/python/test_support/sql/people_array.json\n",
      "spark-2.4.7-bin-hadoop2.7/python/test_support/sql/ages.csv\n",
      "spark-2.4.7-bin-hadoop2.7/python/test_support/sql/ages_newlines.csv\n",
      "spark-2.4.7-bin-hadoop2.7/python/test_support/sql/people_array_utf16le.json\n",
      "spark-2.4.7-bin-hadoop2.7/python/test_support/sql/people1.json\n",
      "spark-2.4.7-bin-hadoop2.7/python/test_support/sql/people.json\n",
      "spark-2.4.7-bin-hadoop2.7/python/test_support/sql/orc_partitioned/\n",
      "spark-2.4.7-bin-hadoop2.7/python/test_support/sql/orc_partitioned/_SUCCESS\n",
      "spark-2.4.7-bin-hadoop2.7/python/test_support/sql/orc_partitioned/b=0/\n",
      "spark-2.4.7-bin-hadoop2.7/python/test_support/sql/orc_partitioned/b=0/c=0/\n",
      "spark-2.4.7-bin-hadoop2.7/python/test_support/sql/orc_partitioned/b=0/c=0/part-r-00000-829af031-b970-49d6-ad39-30460a0be2c8.orc\n",
      "spark-2.4.7-bin-hadoop2.7/python/test_support/sql/orc_partitioned/b=0/c=0/.part-r-00000-829af031-b970-49d6-ad39-30460a0be2c8.orc.crc\n",
      "spark-2.4.7-bin-hadoop2.7/python/test_support/sql/orc_partitioned/b=1/\n",
      "spark-2.4.7-bin-hadoop2.7/python/test_support/sql/orc_partitioned/b=1/c=1/\n",
      "spark-2.4.7-bin-hadoop2.7/python/test_support/sql/orc_partitioned/b=1/c=1/part-r-00000-829af031-b970-49d6-ad39-30460a0be2c8.orc\n",
      "spark-2.4.7-bin-hadoop2.7/python/test_support/sql/orc_partitioned/b=1/c=1/.part-r-00000-829af031-b970-49d6-ad39-30460a0be2c8.orc.crc\n",
      "spark-2.4.7-bin-hadoop2.7/python/test_support/sql/streaming/\n",
      "spark-2.4.7-bin-hadoop2.7/python/test_support/sql/streaming/text-test.txt\n",
      "spark-2.4.7-bin-hadoop2.7/python/test_support/sql/text-test.txt\n",
      "spark-2.4.7-bin-hadoop2.7/python/test_support/userlib-0.1.zip\n",
      "spark-2.4.7-bin-hadoop2.7/python/test_support/SimpleHTTPServer.py\n",
      "spark-2.4.7-bin-hadoop2.7/python/test_support/hello/\n",
      "spark-2.4.7-bin-hadoop2.7/python/test_support/hello/sub_hello/\n",
      "spark-2.4.7-bin-hadoop2.7/python/test_support/hello/sub_hello/sub_hello.txt\n",
      "spark-2.4.7-bin-hadoop2.7/python/test_support/hello/hello.txt\n",
      "spark-2.4.7-bin-hadoop2.7/python/MANIFEST.in\n",
      "spark-2.4.7-bin-hadoop2.7/python/lib/\n",
      "spark-2.4.7-bin-hadoop2.7/python/lib/PY4J_LICENSE.txt\n",
      "spark-2.4.7-bin-hadoop2.7/python/lib/pyspark.zip\n",
      "spark-2.4.7-bin-hadoop2.7/python/lib/py4j-0.10.7-src.zip\n",
      "spark-2.4.7-bin-hadoop2.7/python/pyspark/\n",
      "spark-2.4.7-bin-hadoop2.7/python/pyspark/find_spark_home.py\n",
      "spark-2.4.7-bin-hadoop2.7/python/pyspark/serializers.py\n",
      "spark-2.4.7-bin-hadoop2.7/python/pyspark/__init__.py\n",
      "spark-2.4.7-bin-hadoop2.7/python/pyspark/util.py\n",
      "spark-2.4.7-bin-hadoop2.7/python/pyspark/_globals.py\n",
      "spark-2.4.7-bin-hadoop2.7/python/pyspark/heapq3.py\n",
      "spark-2.4.7-bin-hadoop2.7/python/pyspark/cloudpickle.py\n",
      "spark-2.4.7-bin-hadoop2.7/python/pyspark/version.py\n",
      "spark-2.4.7-bin-hadoop2.7/python/pyspark/shell.py\n",
      "spark-2.4.7-bin-hadoop2.7/python/pyspark/traceback_utils.py\n",
      "spark-2.4.7-bin-hadoop2.7/python/pyspark/taskcontext.py\n",
      "spark-2.4.7-bin-hadoop2.7/python/pyspark/worker.py\n",
      "spark-2.4.7-bin-hadoop2.7/python/pyspark/daemon.py\n",
      "spark-2.4.7-bin-hadoop2.7/python/pyspark/statcounter.py\n",
      "spark-2.4.7-bin-hadoop2.7/python/pyspark/java_gateway.py\n",
      "spark-2.4.7-bin-hadoop2.7/python/pyspark/context.py\n",
      "spark-2.4.7-bin-hadoop2.7/python/pyspark/sql/\n",
      "spark-2.4.7-bin-hadoop2.7/python/pyspark/sql/readwriter.py\n",
      "spark-2.4.7-bin-hadoop2.7/python/pyspark/sql/streaming.py\n",
      "spark-2.4.7-bin-hadoop2.7/python/pyspark/sql/__init__.py\n",
      "spark-2.4.7-bin-hadoop2.7/python/pyspark/sql/utils.py\n",
      "spark-2.4.7-bin-hadoop2.7/python/pyspark/sql/udf.py\n",
      "spark-2.4.7-bin-hadoop2.7/python/pyspark/sql/session.py\n",
      "spark-2.4.7-bin-hadoop2.7/python/pyspark/sql/dataframe.py\n",
      "spark-2.4.7-bin-hadoop2.7/python/pyspark/sql/column.py\n",
      "spark-2.4.7-bin-hadoop2.7/python/pyspark/sql/context.py\n",
      "spark-2.4.7-bin-hadoop2.7/python/pyspark/sql/functions.py\n",
      "spark-2.4.7-bin-hadoop2.7/python/pyspark/sql/types.py\n",
      "spark-2.4.7-bin-hadoop2.7/python/pyspark/sql/catalog.py\n",
      "spark-2.4.7-bin-hadoop2.7/python/pyspark/sql/tests.py\n",
      "spark-2.4.7-bin-hadoop2.7/python/pyspark/sql/conf.py\n",
      "spark-2.4.7-bin-hadoop2.7/python/pyspark/sql/window.py\n",
      "spark-2.4.7-bin-hadoop2.7/python/pyspark/sql/group.py\n",
      "spark-2.4.7-bin-hadoop2.7/python/pyspark/shuffle.py\n",
      "spark-2.4.7-bin-hadoop2.7/python/pyspark/test_serializers.py\n",
      "spark-2.4.7-bin-hadoop2.7/python/pyspark/rddsampler.py\n",
      "spark-2.4.7-bin-hadoop2.7/python/pyspark/files.py\n",
      "spark-2.4.7-bin-hadoop2.7/python/pyspark/join.py\n",
      "spark-2.4.7-bin-hadoop2.7/python/pyspark/profiler.py\n",
      "spark-2.4.7-bin-hadoop2.7/python/pyspark/streaming/\n",
      "spark-2.4.7-bin-hadoop2.7/python/pyspark/streaming/__init__.py\n",
      "spark-2.4.7-bin-hadoop2.7/python/pyspark/streaming/util.py\n",
      "spark-2.4.7-bin-hadoop2.7/python/pyspark/streaming/flume.py\n",
      "spark-2.4.7-bin-hadoop2.7/python/pyspark/streaming/context.py\n",
      "spark-2.4.7-bin-hadoop2.7/python/pyspark/streaming/listener.py\n",
      "spark-2.4.7-bin-hadoop2.7/python/pyspark/streaming/kafka.py\n",
      "spark-2.4.7-bin-hadoop2.7/python/pyspark/streaming/kinesis.py\n",
      "spark-2.4.7-bin-hadoop2.7/python/pyspark/streaming/dstream.py\n",
      "spark-2.4.7-bin-hadoop2.7/python/pyspark/streaming/tests.py\n",
      "spark-2.4.7-bin-hadoop2.7/python/pyspark/ml/\n",
      "spark-2.4.7-bin-hadoop2.7/python/pyspark/ml/recommendation.py\n",
      "spark-2.4.7-bin-hadoop2.7/python/pyspark/ml/linalg/\n",
      "spark-2.4.7-bin-hadoop2.7/python/pyspark/ml/linalg/__init__.py\n",
      "spark-2.4.7-bin-hadoop2.7/python/pyspark/ml/clustering.py\n",
      "spark-2.4.7-bin-hadoop2.7/python/pyspark/ml/__init__.py\n",
      "spark-2.4.7-bin-hadoop2.7/python/pyspark/ml/tuning.py\n",
      "spark-2.4.7-bin-hadoop2.7/python/pyspark/ml/util.py\n",
      "spark-2.4.7-bin-hadoop2.7/python/pyspark/ml/classification.py\n",
      "spark-2.4.7-bin-hadoop2.7/python/pyspark/ml/wrapper.py\n",
      "spark-2.4.7-bin-hadoop2.7/python/pyspark/ml/param/\n",
      "spark-2.4.7-bin-hadoop2.7/python/pyspark/ml/param/__init__.py\n",
      "spark-2.4.7-bin-hadoop2.7/python/pyspark/ml/param/_shared_params_code_gen.py\n",
      "spark-2.4.7-bin-hadoop2.7/python/pyspark/ml/param/shared.py\n",
      "spark-2.4.7-bin-hadoop2.7/python/pyspark/ml/feature.py\n",
      "spark-2.4.7-bin-hadoop2.7/python/pyspark/ml/regression.py\n",
      "spark-2.4.7-bin-hadoop2.7/python/pyspark/ml/stat.py\n",
      "spark-2.4.7-bin-hadoop2.7/python/pyspark/ml/common.py\n",
      "spark-2.4.7-bin-hadoop2.7/python/pyspark/ml/evaluation.py\n",
      "spark-2.4.7-bin-hadoop2.7/python/pyspark/ml/tests.py\n",
      "spark-2.4.7-bin-hadoop2.7/python/pyspark/ml/image.py\n",
      "spark-2.4.7-bin-hadoop2.7/python/pyspark/ml/pipeline.py\n",
      "spark-2.4.7-bin-hadoop2.7/python/pyspark/ml/fpm.py\n",
      "spark-2.4.7-bin-hadoop2.7/python/pyspark/ml/base.py\n",
      "spark-2.4.7-bin-hadoop2.7/python/pyspark/resultiterable.py\n",
      "spark-2.4.7-bin-hadoop2.7/python/pyspark/tests.py\n",
      "spark-2.4.7-bin-hadoop2.7/python/pyspark/conf.py\n",
      "spark-2.4.7-bin-hadoop2.7/python/pyspark/broadcast.py\n",
      "spark-2.4.7-bin-hadoop2.7/python/pyspark/accumulators.py\n",
      "spark-2.4.7-bin-hadoop2.7/python/pyspark/python/\n",
      "spark-2.4.7-bin-hadoop2.7/python/pyspark/python/pyspark/\n",
      "spark-2.4.7-bin-hadoop2.7/python/pyspark/python/pyspark/shell.py\n",
      "spark-2.4.7-bin-hadoop2.7/python/pyspark/status.py\n",
      "spark-2.4.7-bin-hadoop2.7/python/pyspark/test_broadcast.py\n",
      "spark-2.4.7-bin-hadoop2.7/python/pyspark/mllib/\n",
      "spark-2.4.7-bin-hadoop2.7/python/pyspark/mllib/recommendation.py\n",
      "spark-2.4.7-bin-hadoop2.7/python/pyspark/mllib/linalg/\n",
      "spark-2.4.7-bin-hadoop2.7/python/pyspark/mllib/linalg/distributed.py\n",
      "spark-2.4.7-bin-hadoop2.7/python/pyspark/mllib/linalg/__init__.py\n",
      "spark-2.4.7-bin-hadoop2.7/python/pyspark/mllib/clustering.py\n",
      "spark-2.4.7-bin-hadoop2.7/python/pyspark/mllib/random.py\n",
      "spark-2.4.7-bin-hadoop2.7/python/pyspark/mllib/__init__.py\n",
      "spark-2.4.7-bin-hadoop2.7/python/pyspark/mllib/util.py\n",
      "spark-2.4.7-bin-hadoop2.7/python/pyspark/mllib/classification.py\n",
      "spark-2.4.7-bin-hadoop2.7/python/pyspark/mllib/stat/\n",
      "spark-2.4.7-bin-hadoop2.7/python/pyspark/mllib/stat/_statistics.py\n",
      "spark-2.4.7-bin-hadoop2.7/python/pyspark/mllib/stat/__init__.py\n",
      "spark-2.4.7-bin-hadoop2.7/python/pyspark/mllib/stat/KernelDensity.py\n",
      "spark-2.4.7-bin-hadoop2.7/python/pyspark/mllib/stat/distribution.py\n",
      "spark-2.4.7-bin-hadoop2.7/python/pyspark/mllib/stat/test.py\n",
      "spark-2.4.7-bin-hadoop2.7/python/pyspark/mllib/feature.py\n",
      "spark-2.4.7-bin-hadoop2.7/python/pyspark/mllib/regression.py\n",
      "spark-2.4.7-bin-hadoop2.7/python/pyspark/mllib/common.py\n",
      "spark-2.4.7-bin-hadoop2.7/python/pyspark/mllib/evaluation.py\n",
      "spark-2.4.7-bin-hadoop2.7/python/pyspark/mllib/tests.py\n",
      "spark-2.4.7-bin-hadoop2.7/python/pyspark/mllib/tree.py\n",
      "spark-2.4.7-bin-hadoop2.7/python/pyspark/mllib/fpm.py\n",
      "spark-2.4.7-bin-hadoop2.7/python/pyspark/rdd.py\n",
      "spark-2.4.7-bin-hadoop2.7/python/pyspark/storagelevel.py\n",
      "spark-2.4.7-bin-hadoop2.7/python/dist/\n",
      "spark-2.4.7-bin-hadoop2.7/python/setup.cfg\n",
      "spark-2.4.7-bin-hadoop2.7/python/pyspark.egg-info/\n",
      "spark-2.4.7-bin-hadoop2.7/python/pyspark.egg-info/top_level.txt\n",
      "spark-2.4.7-bin-hadoop2.7/python/pyspark.egg-info/SOURCES.txt\n",
      "spark-2.4.7-bin-hadoop2.7/python/pyspark.egg-info/PKG-INFO\n",
      "spark-2.4.7-bin-hadoop2.7/python/pyspark.egg-info/requires.txt\n",
      "spark-2.4.7-bin-hadoop2.7/python/pyspark.egg-info/dependency_links.txt\n",
      "spark-2.4.7-bin-hadoop2.7/python/docs/\n",
      "spark-2.4.7-bin-hadoop2.7/python/docs/pyspark.ml.rst\n",
      "spark-2.4.7-bin-hadoop2.7/python/docs/epytext.py\n",
      "spark-2.4.7-bin-hadoop2.7/python/docs/Makefile\n",
      "spark-2.4.7-bin-hadoop2.7/python/docs/pyspark.sql.rst\n",
      "spark-2.4.7-bin-hadoop2.7/python/docs/pyspark.streaming.rst\n",
      "spark-2.4.7-bin-hadoop2.7/python/docs/pyspark.mllib.rst\n",
      "spark-2.4.7-bin-hadoop2.7/python/docs/make.bat\n",
      "spark-2.4.7-bin-hadoop2.7/python/docs/conf.py\n",
      "spark-2.4.7-bin-hadoop2.7/python/docs/_templates/\n",
      "spark-2.4.7-bin-hadoop2.7/python/docs/_templates/layout.html\n",
      "spark-2.4.7-bin-hadoop2.7/python/docs/_static/\n",
      "spark-2.4.7-bin-hadoop2.7/python/docs/_static/pyspark.js\n",
      "spark-2.4.7-bin-hadoop2.7/python/docs/_static/pyspark.css\n",
      "spark-2.4.7-bin-hadoop2.7/python/docs/make2.bat\n",
      "spark-2.4.7-bin-hadoop2.7/python/docs/index.rst\n",
      "spark-2.4.7-bin-hadoop2.7/python/docs/pyspark.rst\n",
      "spark-2.4.7-bin-hadoop2.7/python/run-tests\n",
      "spark-2.4.7-bin-hadoop2.7/python/test_coverage/\n",
      "spark-2.4.7-bin-hadoop2.7/python/test_coverage/conf/\n",
      "spark-2.4.7-bin-hadoop2.7/python/test_coverage/conf/spark-defaults.conf\n",
      "spark-2.4.7-bin-hadoop2.7/python/test_coverage/coverage_daemon.py\n",
      "spark-2.4.7-bin-hadoop2.7/python/test_coverage/sitecustomize.py\n",
      "spark-2.4.7-bin-hadoop2.7/examples/\n",
      "spark-2.4.7-bin-hadoop2.7/examples/src/\n",
      "spark-2.4.7-bin-hadoop2.7/examples/src/main/\n",
      "spark-2.4.7-bin-hadoop2.7/examples/src/main/r/\n",
      "spark-2.4.7-bin-hadoop2.7/examples/src/main/r/dataframe.R\n",
      "spark-2.4.7-bin-hadoop2.7/examples/src/main/r/data-manipulation.R\n",
      "spark-2.4.7-bin-hadoop2.7/examples/src/main/r/RSparkSQLExample.R\n",
      "spark-2.4.7-bin-hadoop2.7/examples/src/main/r/streaming/\n",
      "spark-2.4.7-bin-hadoop2.7/examples/src/main/r/streaming/structured_network_wordcount.R\n",
      "spark-2.4.7-bin-hadoop2.7/examples/src/main/r/ml/\n",
      "spark-2.4.7-bin-hadoop2.7/examples/src/main/r/ml/fpm.R\n",
      "spark-2.4.7-bin-hadoop2.7/examples/src/main/r/ml/glm.R\n",
      "spark-2.4.7-bin-hadoop2.7/examples/src/main/r/ml/mlp.R\n",
      "spark-2.4.7-bin-hadoop2.7/examples/src/main/r/ml/naiveBayes.R\n",
      "spark-2.4.7-bin-hadoop2.7/examples/src/main/r/ml/logit.R\n",
      "spark-2.4.7-bin-hadoop2.7/examples/src/main/r/ml/decisionTree.R\n",
      "spark-2.4.7-bin-hadoop2.7/examples/src/main/r/ml/svmLinear.R\n",
      "spark-2.4.7-bin-hadoop2.7/examples/src/main/r/ml/isoreg.R\n",
      "spark-2.4.7-bin-hadoop2.7/examples/src/main/r/ml/gaussianMixture.R\n",
      "spark-2.4.7-bin-hadoop2.7/examples/src/main/r/ml/randomForest.R\n",
      "spark-2.4.7-bin-hadoop2.7/examples/src/main/r/ml/gbt.R\n",
      "spark-2.4.7-bin-hadoop2.7/examples/src/main/r/ml/als.R\n",
      "spark-2.4.7-bin-hadoop2.7/examples/src/main/r/ml/lda.R\n",
      "spark-2.4.7-bin-hadoop2.7/examples/src/main/r/ml/ml.R\n",
      "spark-2.4.7-bin-hadoop2.7/examples/src/main/r/ml/survreg.R\n",
      "spark-2.4.7-bin-hadoop2.7/examples/src/main/r/ml/bisectingKmeans.R\n",
      "spark-2.4.7-bin-hadoop2.7/examples/src/main/r/ml/kmeans.R\n",
      "spark-2.4.7-bin-hadoop2.7/examples/src/main/r/ml/kstest.R\n",
      "spark-2.4.7-bin-hadoop2.7/examples/src/main/resources/\n",
      "spark-2.4.7-bin-hadoop2.7/examples/src/main/resources/users.avro\n",
      "spark-2.4.7-bin-hadoop2.7/examples/src/main/resources/people.txt\n",
      "spark-2.4.7-bin-hadoop2.7/examples/src/main/resources/people.csv\n",
      "spark-2.4.7-bin-hadoop2.7/examples/src/main/resources/users.parquet\n",
      "spark-2.4.7-bin-hadoop2.7/examples/src/main/resources/kv1.txt\n",
      "spark-2.4.7-bin-hadoop2.7/examples/src/main/resources/people.json\n",
      "spark-2.4.7-bin-hadoop2.7/examples/src/main/resources/employees.json\n",
      "spark-2.4.7-bin-hadoop2.7/examples/src/main/resources/user.avsc\n",
      "spark-2.4.7-bin-hadoop2.7/examples/src/main/resources/full_user.avsc\n",
      "spark-2.4.7-bin-hadoop2.7/examples/src/main/resources/users.orc\n",
      "spark-2.4.7-bin-hadoop2.7/examples/src/main/scala/\n",
      "spark-2.4.7-bin-hadoop2.7/examples/src/main/scala/org/\n",
      "spark-2.4.7-bin-hadoop2.7/examples/src/main/scala/org/apache/\n",
      "spark-2.4.7-bin-hadoop2.7/examples/src/main/scala/org/apache/spark/\n",
      "spark-2.4.7-bin-hadoop2.7/examples/src/main/scala/org/apache/spark/examples/\n",
      "spark-2.4.7-bin-hadoop2.7/examples/src/main/scala/org/apache/spark/examples/ExceptionHandlingTest.scala\n",
      "spark-2.4.7-bin-hadoop2.7/examples/src/main/scala/org/apache/spark/examples/GroupByTest.scala\n",
      "spark-2.4.7-bin-hadoop2.7/examples/src/main/scala/org/apache/spark/examples/LogQuery.scala\n",
      "spark-2.4.7-bin-hadoop2.7/examples/src/main/scala/org/apache/spark/examples/DriverSubmissionTest.scala\n",
      "spark-2.4.7-bin-hadoop2.7/examples/src/main/scala/org/apache/spark/examples/SparkPi.scala\n",
      "spark-2.4.7-bin-hadoop2.7/examples/src/main/scala/org/apache/spark/examples/SparkALS.scala\n",
      "spark-2.4.7-bin-hadoop2.7/examples/src/main/scala/org/apache/spark/examples/SparkRemoteFileTest.scala\n",
      "spark-2.4.7-bin-hadoop2.7/examples/src/main/scala/org/apache/spark/examples/SparkLR.scala\n",
      "spark-2.4.7-bin-hadoop2.7/examples/src/main/scala/org/apache/spark/examples/SparkKMeans.scala\n",
      "spark-2.4.7-bin-hadoop2.7/examples/src/main/scala/org/apache/spark/examples/SparkPageRank.scala\n",
      "spark-2.4.7-bin-hadoop2.7/examples/src/main/scala/org/apache/spark/examples/LocalPi.scala\n",
      "spark-2.4.7-bin-hadoop2.7/examples/src/main/scala/org/apache/spark/examples/BroadcastTest.scala\n",
      "spark-2.4.7-bin-hadoop2.7/examples/src/main/scala/org/apache/spark/examples/SimpleSkewedGroupByTest.scala\n",
      "spark-2.4.7-bin-hadoop2.7/examples/src/main/scala/org/apache/spark/examples/pythonconverters/\n",
      "spark-2.4.7-bin-hadoop2.7/examples/src/main/scala/org/apache/spark/examples/pythonconverters/AvroConverters.scala\n",
      "spark-2.4.7-bin-hadoop2.7/examples/src/main/scala/org/apache/spark/examples/LocalKMeans.scala\n",
      "spark-2.4.7-bin-hadoop2.7/examples/src/main/scala/org/apache/spark/examples/sql/\n",
      "spark-2.4.7-bin-hadoop2.7/examples/src/main/scala/org/apache/spark/examples/sql/UserDefinedTypedAggregation.scala\n",
      "spark-2.4.7-bin-hadoop2.7/examples/src/main/scala/org/apache/spark/examples/sql/SparkSQLExample.scala\n",
      "spark-2.4.7-bin-hadoop2.7/examples/src/main/scala/org/apache/spark/examples/sql/SQLDataSourceExample.scala\n",
      "spark-2.4.7-bin-hadoop2.7/examples/src/main/scala/org/apache/spark/examples/sql/RDDRelation.scala\n",
      "spark-2.4.7-bin-hadoop2.7/examples/src/main/scala/org/apache/spark/examples/sql/UserDefinedUntypedAggregation.scala\n",
      "spark-2.4.7-bin-hadoop2.7/examples/src/main/scala/org/apache/spark/examples/sql/streaming/\n",
      "spark-2.4.7-bin-hadoop2.7/examples/src/main/scala/org/apache/spark/examples/sql/streaming/StructuredNetworkWordCount.scala\n",
      "spark-2.4.7-bin-hadoop2.7/examples/src/main/scala/org/apache/spark/examples/sql/streaming/StructuredKafkaWordCount.scala\n",
      "spark-2.4.7-bin-hadoop2.7/examples/src/main/scala/org/apache/spark/examples/sql/streaming/StructuredSessionization.scala\n",
      "spark-2.4.7-bin-hadoop2.7/examples/src/main/scala/org/apache/spark/examples/sql/streaming/StructuredNetworkWordCountWindowed.scala\n",
      "spark-2.4.7-bin-hadoop2.7/examples/src/main/scala/org/apache/spark/examples/sql/hive/\n",
      "spark-2.4.7-bin-hadoop2.7/examples/src/main/scala/org/apache/spark/examples/sql/hive/SparkHiveExample.scala\n",
      "spark-2.4.7-bin-hadoop2.7/examples/src/main/scala/org/apache/spark/examples/SparkHdfsLR.scala\n",
      "spark-2.4.7-bin-hadoop2.7/examples/src/main/scala/org/apache/spark/examples/SparkTC.scala\n",
      "spark-2.4.7-bin-hadoop2.7/examples/src/main/scala/org/apache/spark/examples/LocalLR.scala\n",
      "spark-2.4.7-bin-hadoop2.7/examples/src/main/scala/org/apache/spark/examples/LocalFileLR.scala\n",
      "spark-2.4.7-bin-hadoop2.7/examples/src/main/scala/org/apache/spark/examples/streaming/\n",
      "spark-2.4.7-bin-hadoop2.7/examples/src/main/scala/org/apache/spark/examples/streaming/clickstream/\n",
      "spark-2.4.7-bin-hadoop2.7/examples/src/main/scala/org/apache/spark/examples/streaming/clickstream/PageViewStream.scala\n",
      "spark-2.4.7-bin-hadoop2.7/examples/src/main/scala/org/apache/spark/examples/streaming/clickstream/PageViewGenerator.scala\n",
      "spark-2.4.7-bin-hadoop2.7/examples/src/main/scala/org/apache/spark/examples/streaming/QueueStream.scala\n",
      "spark-2.4.7-bin-hadoop2.7/examples/src/main/scala/org/apache/spark/examples/streaming/RecoverableNetworkWordCount.scala\n",
      "spark-2.4.7-bin-hadoop2.7/examples/src/main/scala/org/apache/spark/examples/streaming/DirectKafkaWordCount.scala\n",
      "spark-2.4.7-bin-hadoop2.7/examples/src/main/scala/org/apache/spark/examples/streaming/StreamingExamples.scala\n",
      "spark-2.4.7-bin-hadoop2.7/examples/src/main/scala/org/apache/spark/examples/streaming/CustomReceiver.scala\n",
      "spark-2.4.7-bin-hadoop2.7/examples/src/main/scala/org/apache/spark/examples/streaming/NetworkWordCount.scala\n",
      "spark-2.4.7-bin-hadoop2.7/examples/src/main/scala/org/apache/spark/examples/streaming/StatefulNetworkWordCount.scala\n",
      "spark-2.4.7-bin-hadoop2.7/examples/src/main/scala/org/apache/spark/examples/streaming/SqlNetworkWordCount.scala\n",
      "spark-2.4.7-bin-hadoop2.7/examples/src/main/scala/org/apache/spark/examples/streaming/HdfsWordCount.scala\n",
      "spark-2.4.7-bin-hadoop2.7/examples/src/main/scala/org/apache/spark/examples/streaming/RawNetworkGrep.scala\n",
      "spark-2.4.7-bin-hadoop2.7/examples/src/main/scala/org/apache/spark/examples/MultiBroadcastTest.scala\n",
      "spark-2.4.7-bin-hadoop2.7/examples/src/main/scala/org/apache/spark/examples/ml/\n",
      "spark-2.4.7-bin-hadoop2.7/examples/src/main/scala/org/apache/spark/examples/ml/StringIndexerExample.scala\n",
      "spark-2.4.7-bin-hadoop2.7/examples/src/main/scala/org/apache/spark/examples/ml/StopWordsRemoverExample.scala\n",
      "spark-2.4.7-bin-hadoop2.7/examples/src/main/scala/org/apache/spark/examples/ml/ModelSelectionViaTrainValidationSplitExample.scala\n",
      "spark-2.4.7-bin-hadoop2.7/examples/src/main/scala/org/apache/spark/examples/ml/StandardScalerExample.scala\n",
      "spark-2.4.7-bin-hadoop2.7/examples/src/main/scala/org/apache/spark/examples/ml/ImputerExample.scala\n",
      "spark-2.4.7-bin-hadoop2.7/examples/src/main/scala/org/apache/spark/examples/ml/CorrelationExample.scala\n",
      "spark-2.4.7-bin-hadoop2.7/examples/src/main/scala/org/apache/spark/examples/ml/ElementwiseProductExample.scala\n",
      "spark-2.4.7-bin-hadoop2.7/examples/src/main/scala/org/apache/spark/examples/ml/NormalizerExample.scala\n",
      "spark-2.4.7-bin-hadoop2.7/examples/src/main/scala/org/apache/spark/examples/ml/ChiSqSelectorExample.scala\n",
      "spark-2.4.7-bin-hadoop2.7/examples/src/main/scala/org/apache/spark/examples/ml/NaiveBayesExample.scala\n",
      "spark-2.4.7-bin-hadoop2.7/examples/src/main/scala/org/apache/spark/examples/ml/SQLTransformerExample.scala\n",
      "spark-2.4.7-bin-hadoop2.7/examples/src/main/scala/org/apache/spark/examples/ml/MinHashLSHExample.scala\n",
      "spark-2.4.7-bin-hadoop2.7/examples/src/main/scala/org/apache/spark/examples/ml/FPGrowthExample.scala\n",
      "spark-2.4.7-bin-hadoop2.7/examples/src/main/scala/org/apache/spark/examples/ml/LogisticRegressionSummaryExample.scala\n",
      "spark-2.4.7-bin-hadoop2.7/examples/src/main/scala/org/apache/spark/examples/ml/DataFrameExample.scala\n",
      "spark-2.4.7-bin-hadoop2.7/examples/src/main/scala/org/apache/spark/examples/ml/VectorSlicerExample.scala\n",
      "spark-2.4.7-bin-hadoop2.7/examples/src/main/scala/org/apache/spark/examples/ml/VectorAssemblerExample.scala\n",
      "spark-2.4.7-bin-hadoop2.7/examples/src/main/scala/org/apache/spark/examples/ml/VectorSizeHintExample.scala\n",
      "spark-2.4.7-bin-hadoop2.7/examples/src/main/scala/org/apache/spark/examples/ml/DecisionTreeClassificationExample.scala\n",
      "spark-2.4.7-bin-hadoop2.7/examples/src/main/scala/org/apache/spark/examples/ml/RFormulaExample.scala\n",
      "spark-2.4.7-bin-hadoop2.7/examples/src/main/scala/org/apache/spark/examples/ml/BinarizerExample.scala\n",
      "spark-2.4.7-bin-hadoop2.7/examples/src/main/scala/org/apache/spark/examples/ml/TfIdfExample.scala\n",
      "spark-2.4.7-bin-hadoop2.7/examples/src/main/scala/org/apache/spark/examples/ml/RandomForestRegressorExample.scala\n",
      "spark-2.4.7-bin-hadoop2.7/examples/src/main/scala/org/apache/spark/examples/ml/LinearSVCExample.scala\n",
      "spark-2.4.7-bin-hadoop2.7/examples/src/main/scala/org/apache/spark/examples/ml/DecisionTreeRegressionExample.scala\n",
      "spark-2.4.7-bin-hadoop2.7/examples/src/main/scala/org/apache/spark/examples/ml/MinMaxScalerExample.scala\n",
      "spark-2.4.7-bin-hadoop2.7/examples/src/main/scala/org/apache/spark/examples/ml/CountVectorizerExample.scala\n",
      "spark-2.4.7-bin-hadoop2.7/examples/src/main/scala/org/apache/spark/examples/ml/DecisionTreeExample.scala\n",
      "spark-2.4.7-bin-hadoop2.7/examples/src/main/scala/org/apache/spark/examples/ml/LinearRegressionWithElasticNetExample.scala\n",
      "spark-2.4.7-bin-hadoop2.7/examples/src/main/scala/org/apache/spark/examples/ml/FeatureHasherExample.scala\n",
      "spark-2.4.7-bin-hadoop2.7/examples/src/main/scala/org/apache/spark/examples/ml/ALSExample.scala\n",
      "spark-2.4.7-bin-hadoop2.7/examples/src/main/scala/org/apache/spark/examples/ml/GeneralizedLinearRegressionExample.scala\n",
      "spark-2.4.7-bin-hadoop2.7/examples/src/main/scala/org/apache/spark/examples/ml/LinearRegressionExample.scala\n",
      "spark-2.4.7-bin-hadoop2.7/examples/src/main/scala/org/apache/spark/examples/ml/VectorIndexerExample.scala\n",
      "spark-2.4.7-bin-hadoop2.7/examples/src/main/scala/org/apache/spark/examples/ml/BucketizerExample.scala\n",
      "spark-2.4.7-bin-hadoop2.7/examples/src/main/scala/org/apache/spark/examples/ml/AFTSurvivalRegressionExample.scala\n",
      "spark-2.4.7-bin-hadoop2.7/examples/src/main/scala/org/apache/spark/examples/ml/TokenizerExample.scala\n",
      "spark-2.4.7-bin-hadoop2.7/examples/src/main/scala/org/apache/spark/examples/ml/QuantileDiscretizerExample.scala\n",
      "spark-2.4.7-bin-hadoop2.7/examples/src/main/scala/org/apache/spark/examples/ml/GaussianMixtureExample.scala\n",
      "spark-2.4.7-bin-hadoop2.7/examples/src/main/scala/org/apache/spark/examples/ml/DeveloperApiExample.scala\n",
      "spark-2.4.7-bin-hadoop2.7/examples/src/main/scala/org/apache/spark/examples/ml/IsotonicRegressionExample.scala\n",
      "spark-2.4.7-bin-hadoop2.7/examples/src/main/scala/org/apache/spark/examples/ml/GBTExample.scala\n",
      "spark-2.4.7-bin-hadoop2.7/examples/src/main/scala/org/apache/spark/examples/ml/MaxAbsScalerExample.scala\n",
      "spark-2.4.7-bin-hadoop2.7/examples/src/main/scala/org/apache/spark/examples/ml/ChiSquareTestExample.scala\n",
      "spark-2.4.7-bin-hadoop2.7/examples/src/main/scala/org/apache/spark/examples/ml/BucketedRandomProjectionLSHExample.scala\n",
      "spark-2.4.7-bin-hadoop2.7/examples/src/main/scala/org/apache/spark/examples/ml/Word2VecExample.scala\n",
      "spark-2.4.7-bin-hadoop2.7/examples/src/main/scala/org/apache/spark/examples/ml/NGramExample.scala\n",
      "spark-2.4.7-bin-hadoop2.7/examples/src/main/scala/org/apache/spark/examples/ml/DCTExample.scala\n",
      "spark-2.4.7-bin-hadoop2.7/examples/src/main/scala/org/apache/spark/examples/ml/LDAExample.scala\n",
      "spark-2.4.7-bin-hadoop2.7/examples/src/main/scala/org/apache/spark/examples/ml/SummarizerExample.scala\n",
      "spark-2.4.7-bin-hadoop2.7/examples/src/main/scala/org/apache/spark/examples/ml/InteractionExample.scala\n",
      "spark-2.4.7-bin-hadoop2.7/examples/src/main/scala/org/apache/spark/examples/ml/RandomForestClassifierExample.scala\n",
      "spark-2.4.7-bin-hadoop2.7/examples/src/main/scala/org/apache/spark/examples/ml/RandomForestExample.scala\n",
      "spark-2.4.7-bin-hadoop2.7/examples/src/main/scala/org/apache/spark/examples/ml/ModelSelectionViaCrossValidationExample.scala\n",
      "spark-2.4.7-bin-hadoop2.7/examples/src/main/scala/org/apache/spark/examples/ml/KMeansExample.scala\n",
      "spark-2.4.7-bin-hadoop2.7/examples/src/main/scala/org/apache/spark/examples/ml/GradientBoostedTreeRegressorExample.scala\n",
      "spark-2.4.7-bin-hadoop2.7/examples/src/main/scala/org/apache/spark/examples/ml/UnaryTransformerExample.scala\n",
      "spark-2.4.7-bin-hadoop2.7/examples/src/main/scala/org/apache/spark/examples/ml/PolynomialExpansionExample.scala\n",
      "spark-2.4.7-bin-hadoop2.7/examples/src/main/scala/org/apache/spark/examples/ml/IndexToStringExample.scala\n",
      "spark-2.4.7-bin-hadoop2.7/examples/src/main/scala/org/apache/spark/examples/ml/LogisticRegressionWithElasticNetExample.scala\n",
      "spark-2.4.7-bin-hadoop2.7/examples/src/main/scala/org/apache/spark/examples/ml/BisectingKMeansExample.scala\n",
      "spark-2.4.7-bin-hadoop2.7/examples/src/main/scala/org/apache/spark/examples/ml/LogisticRegressionExample.scala\n",
      "spark-2.4.7-bin-hadoop2.7/examples/src/main/scala/org/apache/spark/examples/ml/MulticlassLogisticRegressionWithElasticNetExample.scala\n",
      "spark-2.4.7-bin-hadoop2.7/examples/src/main/scala/org/apache/spark/examples/ml/PipelineExample.scala\n",
      "spark-2.4.7-bin-hadoop2.7/examples/src/main/scala/org/apache/spark/examples/ml/PCAExample.scala\n",
      "spark-2.4.7-bin-hadoop2.7/examples/src/main/scala/org/apache/spark/examples/ml/OneVsRestExample.scala\n",
      "spark-2.4.7-bin-hadoop2.7/examples/src/main/scala/org/apache/spark/examples/ml/MultilayerPerceptronClassifierExample.scala\n",
      "spark-2.4.7-bin-hadoop2.7/examples/src/main/scala/org/apache/spark/examples/ml/EstimatorTransformerParamExample.scala\n",
      "spark-2.4.7-bin-hadoop2.7/examples/src/main/scala/org/apache/spark/examples/ml/OneHotEncoderEstimatorExample.scala\n",
      "spark-2.4.7-bin-hadoop2.7/examples/src/main/scala/org/apache/spark/examples/ml/GradientBoostedTreeClassifierExample.scala\n",
      "spark-2.4.7-bin-hadoop2.7/examples/src/main/scala/org/apache/spark/examples/ml/PrefixSpanExample.scala\n",
      "spark-2.4.7-bin-hadoop2.7/examples/src/main/scala/org/apache/spark/examples/ml/PowerIterationClusteringExample.scala\n",
      "spark-2.4.7-bin-hadoop2.7/examples/src/main/scala/org/apache/spark/examples/HdfsTest.scala\n",
      "spark-2.4.7-bin-hadoop2.7/examples/src/main/scala/org/apache/spark/examples/LocalALS.scala\n",
      "spark-2.4.7-bin-hadoop2.7/examples/src/main/scala/org/apache/spark/examples/mllib/\n",
      "spark-2.4.7-bin-hadoop2.7/examples/src/main/scala/org/apache/spark/examples/mllib/LinearRegressionWithSGDExample.scala\n",
      "spark-2.4.7-bin-hadoop2.7/examples/src/main/scala/org/apache/spark/examples/mllib/StandardScalerExample.scala\n",
      "spark-2.4.7-bin-hadoop2.7/examples/src/main/scala/org/apache/spark/examples/mllib/MultiLabelMetricsExample.scala\n",
      "spark-2.4.7-bin-hadoop2.7/examples/src/main/scala/org/apache/spark/examples/mllib/HypothesisTestingKolmogorovSmirnovTestExample.scala\n",
      "spark-2.4.7-bin-hadoop2.7/examples/src/main/scala/org/apache/spark/examples/mllib/StreamingLogisticRegression.scala\n",
      "spark-2.4.7-bin-hadoop2.7/examples/src/main/scala/org/apache/spark/examples/mllib/RandomForestRegressionExample.scala\n",
      "spark-2.4.7-bin-hadoop2.7/examples/src/main/scala/org/apache/spark/examples/mllib/RandomForestClassificationExample.scala\n",
      "spark-2.4.7-bin-hadoop2.7/examples/src/main/scala/org/apache/spark/examples/mllib/ElementwiseProductExample.scala\n",
      "spark-2.4.7-bin-hadoop2.7/examples/src/main/scala/org/apache/spark/examples/mllib/NormalizerExample.scala\n",
      "spark-2.4.7-bin-hadoop2.7/examples/src/main/scala/org/apache/spark/examples/mllib/ChiSqSelectorExample.scala\n",
      "spark-2.4.7-bin-hadoop2.7/examples/src/main/scala/org/apache/spark/examples/mllib/NaiveBayesExample.scala\n",
      "spark-2.4.7-bin-hadoop2.7/examples/src/main/scala/org/apache/spark/examples/mllib/RecommendationExample.scala\n",
      "spark-2.4.7-bin-hadoop2.7/examples/src/main/scala/org/apache/spark/examples/mllib/BinaryClassification.scala\n",
      "spark-2.4.7-bin-hadoop2.7/examples/src/main/scala/org/apache/spark/examples/mllib/StreamingTestExample.scala\n",
      "spark-2.4.7-bin-hadoop2.7/examples/src/main/scala/org/apache/spark/examples/mllib/FPGrowthExample.scala\n",
      "spark-2.4.7-bin-hadoop2.7/examples/src/main/scala/org/apache/spark/examples/mllib/GradientBoostingClassificationExample.scala\n",
      "spark-2.4.7-bin-hadoop2.7/examples/src/main/scala/org/apache/spark/examples/mllib/BinaryClassificationMetricsExample.scala\n",
      "spark-2.4.7-bin-hadoop2.7/examples/src/main/scala/org/apache/spark/examples/mllib/AssociationRulesExample.scala\n",
      "spark-2.4.7-bin-hadoop2.7/examples/src/main/scala/org/apache/spark/examples/mllib/DecisionTreeRunner.scala\n",
      "spark-2.4.7-bin-hadoop2.7/examples/src/main/scala/org/apache/spark/examples/mllib/DecisionTreeClassificationExample.scala\n",
      "spark-2.4.7-bin-hadoop2.7/examples/src/main/scala/org/apache/spark/examples/mllib/MulticlassMetricsExample.scala\n",
      "spark-2.4.7-bin-hadoop2.7/examples/src/main/scala/org/apache/spark/examples/mllib/RankingMetricsExample.scala\n",
      "spark-2.4.7-bin-hadoop2.7/examples/src/main/scala/org/apache/spark/examples/mllib/StreamingLinearRegressionExample.scala\n",
      "spark-2.4.7-bin-hadoop2.7/examples/src/main/scala/org/apache/spark/examples/mllib/MovieLensALS.scala\n",
      "spark-2.4.7-bin-hadoop2.7/examples/src/main/scala/org/apache/spark/examples/mllib/DecisionTreeRegressionExample.scala\n",
      "spark-2.4.7-bin-hadoop2.7/examples/src/main/scala/org/apache/spark/examples/mllib/TallSkinnySVD.scala\n",
      "spark-2.4.7-bin-hadoop2.7/examples/src/main/scala/org/apache/spark/examples/mllib/SummaryStatisticsExample.scala\n",
      "spark-2.4.7-bin-hadoop2.7/examples/src/main/scala/org/apache/spark/examples/mllib/CosineSimilarity.scala\n",
      "spark-2.4.7-bin-hadoop2.7/examples/src/main/scala/org/apache/spark/examples/mllib/CorrelationsExample.scala\n",
      "spark-2.4.7-bin-hadoop2.7/examples/src/main/scala/org/apache/spark/examples/mllib/LatentDirichletAllocationExample.scala\n",
      "spark-2.4.7-bin-hadoop2.7/examples/src/main/scala/org/apache/spark/examples/mllib/LBFGSExample.scala\n",
      "spark-2.4.7-bin-hadoop2.7/examples/src/main/scala/org/apache/spark/examples/mllib/PCAOnRowMatrixExample.scala\n",
      "spark-2.4.7-bin-hadoop2.7/examples/src/main/scala/org/apache/spark/examples/mllib/SVDExample.scala\n",
      "spark-2.4.7-bin-hadoop2.7/examples/src/main/scala/org/apache/spark/examples/mllib/TFIDFExample.scala\n",
      "spark-2.4.7-bin-hadoop2.7/examples/src/main/scala/org/apache/spark/examples/mllib/GaussianMixtureExample.scala\n",
      "spark-2.4.7-bin-hadoop2.7/examples/src/main/scala/org/apache/spark/examples/mllib/SampledRDDs.scala\n",
      "spark-2.4.7-bin-hadoop2.7/examples/src/main/scala/org/apache/spark/examples/mllib/DenseKMeans.scala\n",
      "spark-2.4.7-bin-hadoop2.7/examples/src/main/scala/org/apache/spark/examples/mllib/IsotonicRegressionExample.scala\n",
      "spark-2.4.7-bin-hadoop2.7/examples/src/main/scala/org/apache/spark/examples/mllib/SVMWithSGDExample.scala\n",
      "spark-2.4.7-bin-hadoop2.7/examples/src/main/scala/org/apache/spark/examples/mllib/GradientBoostingRegressionExample.scala\n",
      "spark-2.4.7-bin-hadoop2.7/examples/src/main/scala/org/apache/spark/examples/mllib/StratifiedSamplingExample.scala\n",
      "spark-2.4.7-bin-hadoop2.7/examples/src/main/scala/org/apache/spark/examples/mllib/StreamingKMeansExample.scala\n",
      "spark-2.4.7-bin-hadoop2.7/examples/src/main/scala/org/apache/spark/examples/mllib/SparseNaiveBayes.scala\n",
      "spark-2.4.7-bin-hadoop2.7/examples/src/main/scala/org/apache/spark/examples/mllib/Word2VecExample.scala\n",
      "spark-2.4.7-bin-hadoop2.7/examples/src/main/scala/org/apache/spark/examples/mllib/LDAExample.scala\n",
      "spark-2.4.7-bin-hadoop2.7/examples/src/main/scala/org/apache/spark/examples/mllib/PMMLModelExportExample.scala\n",
      "spark-2.4.7-bin-hadoop2.7/examples/src/main/scala/org/apache/spark/examples/mllib/Correlations.scala\n",
      "spark-2.4.7-bin-hadoop2.7/examples/src/main/scala/org/apache/spark/examples/mllib/MultivariateSummarizer.scala\n",
      "spark-2.4.7-bin-hadoop2.7/examples/src/main/scala/org/apache/spark/examples/mllib/KMeansExample.scala\n",
      "spark-2.4.7-bin-hadoop2.7/examples/src/main/scala/org/apache/spark/examples/mllib/LinearRegression.scala\n",
      "spark-2.4.7-bin-hadoop2.7/examples/src/main/scala/org/apache/spark/examples/mllib/KernelDensityEstimationExample.scala\n",
      "spark-2.4.7-bin-hadoop2.7/examples/src/main/scala/org/apache/spark/examples/mllib/PCAOnSourceVectorExample.scala\n",
      "spark-2.4.7-bin-hadoop2.7/examples/src/main/scala/org/apache/spark/examples/mllib/RandomRDDGeneration.scala\n",
      "spark-2.4.7-bin-hadoop2.7/examples/src/main/scala/org/apache/spark/examples/mllib/TallSkinnyPCA.scala\n",
      "spark-2.4.7-bin-hadoop2.7/examples/src/main/scala/org/apache/spark/examples/mllib/GradientBoostedTreesRunner.scala\n",
      "spark-2.4.7-bin-hadoop2.7/examples/src/main/scala/org/apache/spark/examples/mllib/LogisticRegressionWithLBFGSExample.scala\n",
      "spark-2.4.7-bin-hadoop2.7/examples/src/main/scala/org/apache/spark/examples/mllib/BisectingKMeansExample.scala\n",
      "spark-2.4.7-bin-hadoop2.7/examples/src/main/scala/org/apache/spark/examples/mllib/PCAExample.scala\n",
      "spark-2.4.7-bin-hadoop2.7/examples/src/main/scala/org/apache/spark/examples/mllib/RegressionMetricsExample.scala\n",
      "spark-2.4.7-bin-hadoop2.7/examples/src/main/scala/org/apache/spark/examples/mllib/AbstractParams.scala\n",
      "spark-2.4.7-bin-hadoop2.7/examples/src/main/scala/org/apache/spark/examples/mllib/PrefixSpanExample.scala\n",
      "spark-2.4.7-bin-hadoop2.7/examples/src/main/scala/org/apache/spark/examples/mllib/HypothesisTestingExample.scala\n",
      "spark-2.4.7-bin-hadoop2.7/examples/src/main/scala/org/apache/spark/examples/mllib/SimpleFPGrowth.scala\n",
      "spark-2.4.7-bin-hadoop2.7/examples/src/main/scala/org/apache/spark/examples/mllib/PowerIterationClusteringExample.scala\n",
      "spark-2.4.7-bin-hadoop2.7/examples/src/main/scala/org/apache/spark/examples/graphx/\n",
      "spark-2.4.7-bin-hadoop2.7/examples/src/main/scala/org/apache/spark/examples/graphx/AggregateMessagesExample.scala\n",
      "spark-2.4.7-bin-hadoop2.7/examples/src/main/scala/org/apache/spark/examples/graphx/SynthBenchmark.scala\n",
      "spark-2.4.7-bin-hadoop2.7/examples/src/main/scala/org/apache/spark/examples/graphx/TriangleCountingExample.scala\n",
      "spark-2.4.7-bin-hadoop2.7/examples/src/main/scala/org/apache/spark/examples/graphx/ComprehensiveExample.scala\n",
      "spark-2.4.7-bin-hadoop2.7/examples/src/main/scala/org/apache/spark/examples/graphx/Analytics.scala\n",
      "spark-2.4.7-bin-hadoop2.7/examples/src/main/scala/org/apache/spark/examples/graphx/SSSPExample.scala\n",
      "spark-2.4.7-bin-hadoop2.7/examples/src/main/scala/org/apache/spark/examples/graphx/ConnectedComponentsExample.scala\n",
      "spark-2.4.7-bin-hadoop2.7/examples/src/main/scala/org/apache/spark/examples/graphx/PageRankExample.scala\n",
      "spark-2.4.7-bin-hadoop2.7/examples/src/main/scala/org/apache/spark/examples/graphx/LiveJournalPageRank.scala\n",
      "spark-2.4.7-bin-hadoop2.7/examples/src/main/scala/org/apache/spark/examples/SkewedGroupByTest.scala\n",
      "spark-2.4.7-bin-hadoop2.7/examples/src/main/scala/org/apache/spark/examples/DFSReadWriteTest.scala\n",
      "spark-2.4.7-bin-hadoop2.7/examples/src/main/java/\n",
      "spark-2.4.7-bin-hadoop2.7/examples/src/main/java/org/\n",
      "spark-2.4.7-bin-hadoop2.7/examples/src/main/java/org/apache/\n",
      "spark-2.4.7-bin-hadoop2.7/examples/src/main/java/org/apache/spark/\n",
      "spark-2.4.7-bin-hadoop2.7/examples/src/main/java/org/apache/spark/examples/\n",
      "spark-2.4.7-bin-hadoop2.7/examples/src/main/java/org/apache/spark/examples/JavaTC.java\n",
      "spark-2.4.7-bin-hadoop2.7/examples/src/main/java/org/apache/spark/examples/JavaStatusTrackerDemo.java\n",
      "spark-2.4.7-bin-hadoop2.7/examples/src/main/java/org/apache/spark/examples/JavaWordCount.java\n",
      "spark-2.4.7-bin-hadoop2.7/examples/src/main/java/org/apache/spark/examples/JavaPageRank.java\n",
      "spark-2.4.7-bin-hadoop2.7/examples/src/main/java/org/apache/spark/examples/JavaHdfsLR.java\n",
      "spark-2.4.7-bin-hadoop2.7/examples/src/main/java/org/apache/spark/examples/sql/\n",
      "spark-2.4.7-bin-hadoop2.7/examples/src/main/java/org/apache/spark/examples/sql/JavaSparkSQLExample.java\n",
      "spark-2.4.7-bin-hadoop2.7/examples/src/main/java/org/apache/spark/examples/sql/JavaUserDefinedTypedAggregation.java\n",
      "spark-2.4.7-bin-hadoop2.7/examples/src/main/java/org/apache/spark/examples/sql/JavaSQLDataSourceExample.java\n",
      "spark-2.4.7-bin-hadoop2.7/examples/src/main/java/org/apache/spark/examples/sql/streaming/\n",
      "spark-2.4.7-bin-hadoop2.7/examples/src/main/java/org/apache/spark/examples/sql/streaming/JavaStructuredNetworkWordCount.java\n",
      "spark-2.4.7-bin-hadoop2.7/examples/src/main/java/org/apache/spark/examples/sql/streaming/JavaStructuredKafkaWordCount.java\n",
      "spark-2.4.7-bin-hadoop2.7/examples/src/main/java/org/apache/spark/examples/sql/streaming/JavaStructuredSessionization.java\n",
      "spark-2.4.7-bin-hadoop2.7/examples/src/main/java/org/apache/spark/examples/sql/streaming/JavaStructuredNetworkWordCountWindowed.java\n",
      "spark-2.4.7-bin-hadoop2.7/examples/src/main/java/org/apache/spark/examples/sql/JavaUserDefinedUntypedAggregation.java\n",
      "spark-2.4.7-bin-hadoop2.7/examples/src/main/java/org/apache/spark/examples/sql/hive/\n",
      "spark-2.4.7-bin-hadoop2.7/examples/src/main/java/org/apache/spark/examples/sql/hive/JavaSparkHiveExample.java\n",
      "spark-2.4.7-bin-hadoop2.7/examples/src/main/java/org/apache/spark/examples/streaming/\n",
      "spark-2.4.7-bin-hadoop2.7/examples/src/main/java/org/apache/spark/examples/streaming/JavaCustomReceiver.java\n",
      "spark-2.4.7-bin-hadoop2.7/examples/src/main/java/org/apache/spark/examples/streaming/JavaRecord.java\n",
      "spark-2.4.7-bin-hadoop2.7/examples/src/main/java/org/apache/spark/examples/streaming/JavaQueueStream.java\n",
      "spark-2.4.7-bin-hadoop2.7/examples/src/main/java/org/apache/spark/examples/streaming/JavaRecoverableNetworkWordCount.java\n",
      "spark-2.4.7-bin-hadoop2.7/examples/src/main/java/org/apache/spark/examples/streaming/JavaSqlNetworkWordCount.java\n",
      "spark-2.4.7-bin-hadoop2.7/examples/src/main/java/org/apache/spark/examples/streaming/JavaStatefulNetworkWordCount.java\n",
      "spark-2.4.7-bin-hadoop2.7/examples/src/main/java/org/apache/spark/examples/streaming/JavaDirectKafkaWordCount.java\n",
      "spark-2.4.7-bin-hadoop2.7/examples/src/main/java/org/apache/spark/examples/streaming/JavaNetworkWordCount.java\n",
      "spark-2.4.7-bin-hadoop2.7/examples/src/main/java/org/apache/spark/examples/ml/\n",
      "spark-2.4.7-bin-hadoop2.7/examples/src/main/java/org/apache/spark/examples/ml/JavaGradientBoostedTreeRegressorExample.java\n",
      "spark-2.4.7-bin-hadoop2.7/examples/src/main/java/org/apache/spark/examples/ml/JavaPowerIterationClusteringExample.java\n",
      "spark-2.4.7-bin-hadoop2.7/examples/src/main/java/org/apache/spark/examples/ml/JavaMaxAbsScalerExample.java\n",
      "spark-2.4.7-bin-hadoop2.7/examples/src/main/java/org/apache/spark/examples/ml/JavaGradientBoostedTreeClassifierExample.java\n",
      "spark-2.4.7-bin-hadoop2.7/examples/src/main/java/org/apache/spark/examples/ml/JavaSQLTransformerExample.java\n",
      "spark-2.4.7-bin-hadoop2.7/examples/src/main/java/org/apache/spark/examples/ml/JavaModelSelectionViaCrossValidationExample.java\n",
      "spark-2.4.7-bin-hadoop2.7/examples/src/main/java/org/apache/spark/examples/ml/JavaCorrelationExample.java\n",
      "spark-2.4.7-bin-hadoop2.7/examples/src/main/java/org/apache/spark/examples/ml/JavaDecisionTreeClassificationExample.java\n",
      "spark-2.4.7-bin-hadoop2.7/examples/src/main/java/org/apache/spark/examples/ml/JavaDocument.java\n",
      "spark-2.4.7-bin-hadoop2.7/examples/src/main/java/org/apache/spark/examples/ml/JavaChiSqSelectorExample.java\n",
      "spark-2.4.7-bin-hadoop2.7/examples/src/main/java/org/apache/spark/examples/ml/JavaLabeledDocument.java\n",
      "spark-2.4.7-bin-hadoop2.7/examples/src/main/java/org/apache/spark/examples/ml/JavaGaussianMixtureExample.java\n",
      "spark-2.4.7-bin-hadoop2.7/examples/src/main/java/org/apache/spark/examples/ml/JavaModelSelectionViaTrainValidationSplitExample.java\n",
      "spark-2.4.7-bin-hadoop2.7/examples/src/main/java/org/apache/spark/examples/ml/JavaDCTExample.java\n",
      "spark-2.4.7-bin-hadoop2.7/examples/src/main/java/org/apache/spark/examples/ml/JavaNaiveBayesExample.java\n",
      "spark-2.4.7-bin-hadoop2.7/examples/src/main/java/org/apache/spark/examples/ml/JavaRandomForestRegressorExample.java\n",
      "spark-2.4.7-bin-hadoop2.7/examples/src/main/java/org/apache/spark/examples/ml/JavaPolynomialExpansionExample.java\n",
      "spark-2.4.7-bin-hadoop2.7/examples/src/main/java/org/apache/spark/examples/ml/JavaLDAExample.java\n",
      "spark-2.4.7-bin-hadoop2.7/examples/src/main/java/org/apache/spark/examples/ml/JavaAFTSurvivalRegressionExample.java\n",
      "spark-2.4.7-bin-hadoop2.7/examples/src/main/java/org/apache/spark/examples/ml/JavaEstimatorTransformerParamExample.java\n",
      "spark-2.4.7-bin-hadoop2.7/examples/src/main/java/org/apache/spark/examples/ml/JavaMultilayerPerceptronClassifierExample.java\n",
      "spark-2.4.7-bin-hadoop2.7/examples/src/main/java/org/apache/spark/examples/ml/JavaRFormulaExample.java\n",
      "spark-2.4.7-bin-hadoop2.7/examples/src/main/java/org/apache/spark/examples/ml/JavaBucketedRandomProjectionLSHExample.java\n",
      "spark-2.4.7-bin-hadoop2.7/examples/src/main/java/org/apache/spark/examples/ml/JavaLogisticRegressionWithElasticNetExample.java\n",
      "spark-2.4.7-bin-hadoop2.7/examples/src/main/java/org/apache/spark/examples/ml/JavaVectorSlicerExample.java\n",
      "spark-2.4.7-bin-hadoop2.7/examples/src/main/java/org/apache/spark/examples/ml/JavaMinHashLSHExample.java\n",
      "spark-2.4.7-bin-hadoop2.7/examples/src/main/java/org/apache/spark/examples/ml/JavaBisectingKMeansExample.java\n",
      "spark-2.4.7-bin-hadoop2.7/examples/src/main/java/org/apache/spark/examples/ml/JavaStandardScalerExample.java\n",
      "spark-2.4.7-bin-hadoop2.7/examples/src/main/java/org/apache/spark/examples/ml/JavaIndexToStringExample.java\n",
      "spark-2.4.7-bin-hadoop2.7/examples/src/main/java/org/apache/spark/examples/ml/JavaPipelineExample.java\n",
      "spark-2.4.7-bin-hadoop2.7/examples/src/main/java/org/apache/spark/examples/ml/JavaNGramExample.java\n",
      "spark-2.4.7-bin-hadoop2.7/examples/src/main/java/org/apache/spark/examples/ml/JavaGeneralizedLinearRegressionExample.java\n",
      "spark-2.4.7-bin-hadoop2.7/examples/src/main/java/org/apache/spark/examples/ml/JavaIsotonicRegressionExample.java\n",
      "spark-2.4.7-bin-hadoop2.7/examples/src/main/java/org/apache/spark/examples/ml/JavaWord2VecExample.java\n",
      "spark-2.4.7-bin-hadoop2.7/examples/src/main/java/org/apache/spark/examples/ml/JavaFPGrowthExample.java\n",
      "spark-2.4.7-bin-hadoop2.7/examples/src/main/java/org/apache/spark/examples/ml/JavaMulticlassLogisticRegressionWithElasticNetExample.java\n",
      "spark-2.4.7-bin-hadoop2.7/examples/src/main/java/org/apache/spark/examples/ml/JavaVectorAssemblerExample.java\n",
      "spark-2.4.7-bin-hadoop2.7/examples/src/main/java/org/apache/spark/examples/ml/JavaLinearRegressionWithElasticNetExample.java\n",
      "spark-2.4.7-bin-hadoop2.7/examples/src/main/java/org/apache/spark/examples/ml/JavaElementwiseProductExample.java\n",
      "spark-2.4.7-bin-hadoop2.7/examples/src/main/java/org/apache/spark/examples/ml/JavaOneVsRestExample.java\n",
      "spark-2.4.7-bin-hadoop2.7/examples/src/main/java/org/apache/spark/examples/ml/JavaInteractionExample.java\n",
      "spark-2.4.7-bin-hadoop2.7/examples/src/main/java/org/apache/spark/examples/ml/JavaVectorSizeHintExample.java\n",
      "spark-2.4.7-bin-hadoop2.7/examples/src/main/java/org/apache/spark/examples/ml/JavaPrefixSpanExample.java\n",
      "spark-2.4.7-bin-hadoop2.7/examples/src/main/java/org/apache/spark/examples/ml/JavaNormalizerExample.java\n",
      "spark-2.4.7-bin-hadoop2.7/examples/src/main/java/org/apache/spark/examples/ml/JavaTokenizerExample.java\n",
      "spark-2.4.7-bin-hadoop2.7/examples/src/main/java/org/apache/spark/examples/ml/JavaLinearSVCExample.java\n",
      "spark-2.4.7-bin-hadoop2.7/examples/src/main/java/org/apache/spark/examples/ml/JavaVectorIndexerExample.java\n",
      "spark-2.4.7-bin-hadoop2.7/examples/src/main/java/org/apache/spark/examples/ml/JavaCountVectorizerExample.java\n",
      "spark-2.4.7-bin-hadoop2.7/examples/src/main/java/org/apache/spark/examples/ml/JavaStringIndexerExample.java\n",
      "spark-2.4.7-bin-hadoop2.7/examples/src/main/java/org/apache/spark/examples/ml/JavaBinarizerExample.java\n",
      "spark-2.4.7-bin-hadoop2.7/examples/src/main/java/org/apache/spark/examples/ml/JavaChiSquareTestExample.java\n",
      "spark-2.4.7-bin-hadoop2.7/examples/src/main/java/org/apache/spark/examples/ml/JavaPCAExample.java\n",
      "spark-2.4.7-bin-hadoop2.7/examples/src/main/java/org/apache/spark/examples/ml/JavaRandomForestClassifierExample.java\n",
      "spark-2.4.7-bin-hadoop2.7/examples/src/main/java/org/apache/spark/examples/ml/JavaSummarizerExample.java\n",
      "spark-2.4.7-bin-hadoop2.7/examples/src/main/java/org/apache/spark/examples/ml/JavaQuantileDiscretizerExample.java\n",
      "spark-2.4.7-bin-hadoop2.7/examples/src/main/java/org/apache/spark/examples/ml/JavaALSExample.java\n",
      "spark-2.4.7-bin-hadoop2.7/examples/src/main/java/org/apache/spark/examples/ml/JavaOneHotEncoderEstimatorExample.java\n",
      "spark-2.4.7-bin-hadoop2.7/examples/src/main/java/org/apache/spark/examples/ml/JavaFeatureHasherExample.java\n",
      "spark-2.4.7-bin-hadoop2.7/examples/src/main/java/org/apache/spark/examples/ml/JavaTfIdfExample.java\n",
      "spark-2.4.7-bin-hadoop2.7/examples/src/main/java/org/apache/spark/examples/ml/JavaStopWordsRemoverExample.java\n",
      "spark-2.4.7-bin-hadoop2.7/examples/src/main/java/org/apache/spark/examples/ml/JavaMinMaxScalerExample.java\n",
      "spark-2.4.7-bin-hadoop2.7/examples/src/main/java/org/apache/spark/examples/ml/JavaLogisticRegressionSummaryExample.java\n",
      "spark-2.4.7-bin-hadoop2.7/examples/src/main/java/org/apache/spark/examples/ml/JavaKMeansExample.java\n",
      "spark-2.4.7-bin-hadoop2.7/examples/src/main/java/org/apache/spark/examples/ml/JavaDecisionTreeRegressionExample.java\n",
      "spark-2.4.7-bin-hadoop2.7/examples/src/main/java/org/apache/spark/examples/ml/JavaBucketizerExample.java\n",
      "spark-2.4.7-bin-hadoop2.7/examples/src/main/java/org/apache/spark/examples/ml/JavaImputerExample.java\n",
      "spark-2.4.7-bin-hadoop2.7/examples/src/main/java/org/apache/spark/examples/JavaLogQuery.java\n",
      "spark-2.4.7-bin-hadoop2.7/examples/src/main/java/org/apache/spark/examples/JavaSparkPi.java\n",
      "spark-2.4.7-bin-hadoop2.7/examples/src/main/java/org/apache/spark/examples/mllib/\n",
      "spark-2.4.7-bin-hadoop2.7/examples/src/main/java/org/apache/spark/examples/mllib/JavaPowerIterationClusteringExample.java\n",
      "spark-2.4.7-bin-hadoop2.7/examples/src/main/java/org/apache/spark/examples/mllib/JavaALS.java\n",
      "spark-2.4.7-bin-hadoop2.7/examples/src/main/java/org/apache/spark/examples/mllib/JavaDecisionTreeClassificationExample.java\n",
      "spark-2.4.7-bin-hadoop2.7/examples/src/main/java/org/apache/spark/examples/mllib/JavaSVMWithSGDExample.java\n",
      "spark-2.4.7-bin-hadoop2.7/examples/src/main/java/org/apache/spark/examples/mllib/JavaLinearRegressionWithSGDExample.java\n",
      "spark-2.4.7-bin-hadoop2.7/examples/src/main/java/org/apache/spark/examples/mllib/JavaGradientBoostingClassificationExample.java\n",
      "spark-2.4.7-bin-hadoop2.7/examples/src/main/java/org/apache/spark/examples/mllib/JavaChiSqSelectorExample.java\n",
      "spark-2.4.7-bin-hadoop2.7/examples/src/main/java/org/apache/spark/examples/mllib/JavaRankingMetricsExample.java\n",
      "spark-2.4.7-bin-hadoop2.7/examples/src/main/java/org/apache/spark/examples/mllib/JavaKernelDensityEstimationExample.java\n",
      "spark-2.4.7-bin-hadoop2.7/examples/src/main/java/org/apache/spark/examples/mllib/JavaGaussianMixtureExample.java\n",
      "spark-2.4.7-bin-hadoop2.7/examples/src/main/java/org/apache/spark/examples/mllib/JavaNaiveBayesExample.java\n",
      "spark-2.4.7-bin-hadoop2.7/examples/src/main/java/org/apache/spark/examples/mllib/JavaStreamingTestExample.java\n",
      "spark-2.4.7-bin-hadoop2.7/examples/src/main/java/org/apache/spark/examples/mllib/JavaSimpleFPGrowth.java\n",
      "spark-2.4.7-bin-hadoop2.7/examples/src/main/java/org/apache/spark/examples/mllib/JavaAssociationRulesExample.java\n",
      "spark-2.4.7-bin-hadoop2.7/examples/src/main/java/org/apache/spark/examples/mllib/JavaLBFGSExample.java\n",
      "spark-2.4.7-bin-hadoop2.7/examples/src/main/java/org/apache/spark/examples/mllib/JavaBinaryClassificationMetricsExample.java\n",
      "spark-2.4.7-bin-hadoop2.7/examples/src/main/java/org/apache/spark/examples/mllib/JavaRecommendationExample.java\n",
      "spark-2.4.7-bin-hadoop2.7/examples/src/main/java/org/apache/spark/examples/mllib/JavaBisectingKMeansExample.java\n",
      "spark-2.4.7-bin-hadoop2.7/examples/src/main/java/org/apache/spark/examples/mllib/JavaHypothesisTestingExample.java\n",
      "spark-2.4.7-bin-hadoop2.7/examples/src/main/java/org/apache/spark/examples/mllib/JavaLatentDirichletAllocationExample.java\n",
      "spark-2.4.7-bin-hadoop2.7/examples/src/main/java/org/apache/spark/examples/mllib/JavaIsotonicRegressionExample.java\n",
      "spark-2.4.7-bin-hadoop2.7/examples/src/main/java/org/apache/spark/examples/mllib/JavaMulticlassClassificationMetricsExample.java\n",
      "spark-2.4.7-bin-hadoop2.7/examples/src/main/java/org/apache/spark/examples/mllib/JavaSVDExample.java\n",
      "spark-2.4.7-bin-hadoop2.7/examples/src/main/java/org/apache/spark/examples/mllib/JavaStratifiedSamplingExample.java\n",
      "spark-2.4.7-bin-hadoop2.7/examples/src/main/java/org/apache/spark/examples/mllib/JavaElementwiseProductExample.java\n",
      "spark-2.4.7-bin-hadoop2.7/examples/src/main/java/org/apache/spark/examples/mllib/JavaRegressionMetricsExample.java\n",
      "spark-2.4.7-bin-hadoop2.7/examples/src/main/java/org/apache/spark/examples/mllib/JavaLogisticRegressionWithLBFGSExample.java\n",
      "spark-2.4.7-bin-hadoop2.7/examples/src/main/java/org/apache/spark/examples/mllib/JavaPrefixSpanExample.java\n",
      "spark-2.4.7-bin-hadoop2.7/examples/src/main/java/org/apache/spark/examples/mllib/JavaRandomForestClassificationExample.java\n",
      "spark-2.4.7-bin-hadoop2.7/examples/src/main/java/org/apache/spark/examples/mllib/JavaHypothesisTestingKolmogorovSmirnovTestExample.java\n",
      "spark-2.4.7-bin-hadoop2.7/examples/src/main/java/org/apache/spark/examples/mllib/JavaRandomForestRegressionExample.java\n",
      "spark-2.4.7-bin-hadoop2.7/examples/src/main/java/org/apache/spark/examples/mllib/JavaCorrelationsExample.java\n",
      "spark-2.4.7-bin-hadoop2.7/examples/src/main/java/org/apache/spark/examples/mllib/JavaMultiLabelClassificationMetricsExample.java\n",
      "spark-2.4.7-bin-hadoop2.7/examples/src/main/java/org/apache/spark/examples/mllib/JavaPCAExample.java\n",
      "spark-2.4.7-bin-hadoop2.7/examples/src/main/java/org/apache/spark/examples/mllib/JavaKMeansExample.java\n",
      "spark-2.4.7-bin-hadoop2.7/examples/src/main/java/org/apache/spark/examples/mllib/JavaDecisionTreeRegressionExample.java\n",
      "spark-2.4.7-bin-hadoop2.7/examples/src/main/java/org/apache/spark/examples/mllib/JavaSummaryStatisticsExample.java\n",
      "spark-2.4.7-bin-hadoop2.7/examples/src/main/java/org/apache/spark/examples/mllib/JavaGradientBoostingRegressionExample.java\n",
      "spark-2.4.7-bin-hadoop2.7/examples/src/main/python/\n",
      "spark-2.4.7-bin-hadoop2.7/examples/src/main/python/parquet_inputformat.py\n",
      "spark-2.4.7-bin-hadoop2.7/examples/src/main/python/pagerank.py\n",
      "spark-2.4.7-bin-hadoop2.7/examples/src/main/python/transitive_closure.py\n",
      "spark-2.4.7-bin-hadoop2.7/examples/src/main/python/logistic_regression.py\n",
      "spark-2.4.7-bin-hadoop2.7/examples/src/main/python/kmeans.py\n",
      "spark-2.4.7-bin-hadoop2.7/examples/src/main/python/wordcount.py\n",
      "spark-2.4.7-bin-hadoop2.7/examples/src/main/python/sql/\n",
      "spark-2.4.7-bin-hadoop2.7/examples/src/main/python/sql/basic.py\n",
      "spark-2.4.7-bin-hadoop2.7/examples/src/main/python/sql/arrow.py\n",
      "spark-2.4.7-bin-hadoop2.7/examples/src/main/python/sql/hive.py\n",
      "spark-2.4.7-bin-hadoop2.7/examples/src/main/python/sql/streaming/\n",
      "spark-2.4.7-bin-hadoop2.7/examples/src/main/python/sql/streaming/structured_network_wordcount.py\n",
      "spark-2.4.7-bin-hadoop2.7/examples/src/main/python/sql/streaming/structured_kafka_wordcount.py\n",
      "spark-2.4.7-bin-hadoop2.7/examples/src/main/python/sql/streaming/structured_network_wordcount_windowed.py\n",
      "spark-2.4.7-bin-hadoop2.7/examples/src/main/python/sql/datasource.py\n",
      "spark-2.4.7-bin-hadoop2.7/examples/src/main/python/status_api_demo.py\n",
      "spark-2.4.7-bin-hadoop2.7/examples/src/main/python/pi.py\n",
      "spark-2.4.7-bin-hadoop2.7/examples/src/main/python/streaming/\n",
      "spark-2.4.7-bin-hadoop2.7/examples/src/main/python/streaming/hdfs_wordcount.py\n",
      "spark-2.4.7-bin-hadoop2.7/examples/src/main/python/streaming/recoverable_network_wordcount.py\n",
      "spark-2.4.7-bin-hadoop2.7/examples/src/main/python/streaming/network_wordjoinsentiments.py\n",
      "spark-2.4.7-bin-hadoop2.7/examples/src/main/python/streaming/stateful_network_wordcount.py\n",
      "spark-2.4.7-bin-hadoop2.7/examples/src/main/python/streaming/kafka_wordcount.py\n",
      "spark-2.4.7-bin-hadoop2.7/examples/src/main/python/streaming/sql_network_wordcount.py\n",
      "spark-2.4.7-bin-hadoop2.7/examples/src/main/python/streaming/network_wordcount.py\n",
      "spark-2.4.7-bin-hadoop2.7/examples/src/main/python/streaming/direct_kafka_wordcount.py\n",
      "spark-2.4.7-bin-hadoop2.7/examples/src/main/python/streaming/flume_wordcount.py\n",
      "spark-2.4.7-bin-hadoop2.7/examples/src/main/python/streaming/queue_stream.py\n",
      "spark-2.4.7-bin-hadoop2.7/examples/src/main/python/ml/\n",
      "spark-2.4.7-bin-hadoop2.7/examples/src/main/python/ml/logistic_regression_with_elastic_net.py\n",
      "spark-2.4.7-bin-hadoop2.7/examples/src/main/python/ml/decision_tree_regression_example.py\n",
      "spark-2.4.7-bin-hadoop2.7/examples/src/main/python/ml/generalized_linear_regression_example.py\n",
      "spark-2.4.7-bin-hadoop2.7/examples/src/main/python/ml/vector_assembler_example.py\n",
      "spark-2.4.7-bin-hadoop2.7/examples/src/main/python/ml/elementwise_product_example.py\n",
      "spark-2.4.7-bin-hadoop2.7/examples/src/main/python/ml/polynomial_expansion_example.py\n",
      "spark-2.4.7-bin-hadoop2.7/examples/src/main/python/ml/vector_slicer_example.py\n",
      "spark-2.4.7-bin-hadoop2.7/examples/src/main/python/ml/train_validation_split.py\n",
      "spark-2.4.7-bin-hadoop2.7/examples/src/main/python/ml/index_to_string_example.py\n",
      "spark-2.4.7-bin-hadoop2.7/examples/src/main/python/ml/n_gram_example.py\n",
      "spark-2.4.7-bin-hadoop2.7/examples/src/main/python/ml/pca_example.py\n",
      "spark-2.4.7-bin-hadoop2.7/examples/src/main/python/ml/one_vs_rest_example.py\n",
      "spark-2.4.7-bin-hadoop2.7/examples/src/main/python/ml/logistic_regression_summary_example.py\n",
      "spark-2.4.7-bin-hadoop2.7/examples/src/main/python/ml/dct_example.py\n",
      "spark-2.4.7-bin-hadoop2.7/examples/src/main/python/ml/quantile_discretizer_example.py\n",
      "spark-2.4.7-bin-hadoop2.7/examples/src/main/python/ml/bucketizer_example.py\n",
      "spark-2.4.7-bin-hadoop2.7/examples/src/main/python/ml/binarizer_example.py\n",
      "spark-2.4.7-bin-hadoop2.7/examples/src/main/python/ml/fpgrowth_example.py\n",
      "spark-2.4.7-bin-hadoop2.7/examples/src/main/python/ml/stopwords_remover_example.py\n",
      "spark-2.4.7-bin-hadoop2.7/examples/src/main/python/ml/correlation_example.py\n",
      "spark-2.4.7-bin-hadoop2.7/examples/src/main/python/ml/min_hash_lsh_example.py\n",
      "spark-2.4.7-bin-hadoop2.7/examples/src/main/python/ml/standard_scaler_example.py\n",
      "spark-2.4.7-bin-hadoop2.7/examples/src/main/python/ml/multiclass_logistic_regression_with_elastic_net.py\n",
      "spark-2.4.7-bin-hadoop2.7/examples/src/main/python/ml/naive_bayes_example.py\n",
      "spark-2.4.7-bin-hadoop2.7/examples/src/main/python/ml/linearsvc.py\n",
      "spark-2.4.7-bin-hadoop2.7/examples/src/main/python/ml/vector_size_hint_example.py\n",
      "spark-2.4.7-bin-hadoop2.7/examples/src/main/python/ml/rformula_example.py\n",
      "spark-2.4.7-bin-hadoop2.7/examples/src/main/python/ml/count_vectorizer_example.py\n",
      "spark-2.4.7-bin-hadoop2.7/examples/src/main/python/ml/min_max_scaler_example.py\n",
      "spark-2.4.7-bin-hadoop2.7/examples/src/main/python/ml/cross_validator.py\n",
      "spark-2.4.7-bin-hadoop2.7/examples/src/main/python/ml/gaussian_mixture_example.py\n",
      "spark-2.4.7-bin-hadoop2.7/examples/src/main/python/ml/tokenizer_example.py\n",
      "spark-2.4.7-bin-hadoop2.7/examples/src/main/python/ml/dataframe_example.py\n",
      "spark-2.4.7-bin-hadoop2.7/examples/src/main/python/ml/chisq_selector_example.py\n",
      "spark-2.4.7-bin-hadoop2.7/examples/src/main/python/ml/max_abs_scaler_example.py\n",
      "spark-2.4.7-bin-hadoop2.7/examples/src/main/python/ml/gradient_boosted_tree_classifier_example.py\n",
      "spark-2.4.7-bin-hadoop2.7/examples/src/main/python/ml/random_forest_classifier_example.py\n",
      "spark-2.4.7-bin-hadoop2.7/examples/src/main/python/ml/bisecting_k_means_example.py\n",
      "spark-2.4.7-bin-hadoop2.7/examples/src/main/python/ml/aft_survival_regression.py\n",
      "spark-2.4.7-bin-hadoop2.7/examples/src/main/python/ml/kmeans_example.py\n",
      "spark-2.4.7-bin-hadoop2.7/examples/src/main/python/ml/decision_tree_classification_example.py\n",
      "spark-2.4.7-bin-hadoop2.7/examples/src/main/python/ml/linear_regression_with_elastic_net.py\n",
      "spark-2.4.7-bin-hadoop2.7/examples/src/main/python/ml/lda_example.py\n",
      "spark-2.4.7-bin-hadoop2.7/examples/src/main/python/ml/string_indexer_example.py\n",
      "spark-2.4.7-bin-hadoop2.7/examples/src/main/python/ml/estimator_transformer_param_example.py\n",
      "spark-2.4.7-bin-hadoop2.7/examples/src/main/python/ml/imputer_example.py\n",
      "spark-2.4.7-bin-hadoop2.7/examples/src/main/python/ml/isotonic_regression_example.py\n",
      "spark-2.4.7-bin-hadoop2.7/examples/src/main/python/ml/als_example.py\n",
      "spark-2.4.7-bin-hadoop2.7/examples/src/main/python/ml/sql_transformer.py\n",
      "spark-2.4.7-bin-hadoop2.7/examples/src/main/python/ml/summarizer_example.py\n",
      "spark-2.4.7-bin-hadoop2.7/examples/src/main/python/ml/multilayer_perceptron_classification.py\n",
      "spark-2.4.7-bin-hadoop2.7/examples/src/main/python/ml/prefixspan_example.py\n",
      "spark-2.4.7-bin-hadoop2.7/examples/src/main/python/ml/normalizer_example.py\n",
      "spark-2.4.7-bin-hadoop2.7/examples/src/main/python/ml/bucketed_random_projection_lsh_example.py\n",
      "spark-2.4.7-bin-hadoop2.7/examples/src/main/python/ml/feature_hasher_example.py\n",
      "spark-2.4.7-bin-hadoop2.7/examples/src/main/python/ml/random_forest_regressor_example.py\n",
      "spark-2.4.7-bin-hadoop2.7/examples/src/main/python/ml/chi_square_test_example.py\n",
      "spark-2.4.7-bin-hadoop2.7/examples/src/main/python/ml/tf_idf_example.py\n",
      "spark-2.4.7-bin-hadoop2.7/examples/src/main/python/ml/vector_indexer_example.py\n",
      "spark-2.4.7-bin-hadoop2.7/examples/src/main/python/ml/onehot_encoder_estimator_example.py\n",
      "spark-2.4.7-bin-hadoop2.7/examples/src/main/python/ml/pipeline_example.py\n",
      "spark-2.4.7-bin-hadoop2.7/examples/src/main/python/ml/word2vec_example.py\n",
      "spark-2.4.7-bin-hadoop2.7/examples/src/main/python/ml/gradient_boosted_tree_regressor_example.py\n",
      "spark-2.4.7-bin-hadoop2.7/examples/src/main/python/mllib/\n",
      "spark-2.4.7-bin-hadoop2.7/examples/src/main/python/mllib/summary_statistics_example.py\n",
      "spark-2.4.7-bin-hadoop2.7/examples/src/main/python/mllib/decision_tree_regression_example.py\n",
      "spark-2.4.7-bin-hadoop2.7/examples/src/main/python/mllib/stratified_sampling_example.py\n",
      "spark-2.4.7-bin-hadoop2.7/examples/src/main/python/mllib/multi_class_metrics_example.py\n",
      "spark-2.4.7-bin-hadoop2.7/examples/src/main/python/mllib/elementwise_product_example.py\n",
      "spark-2.4.7-bin-hadoop2.7/examples/src/main/python/mllib/streaming_k_means_example.py\n",
      "spark-2.4.7-bin-hadoop2.7/examples/src/main/python/mllib/binary_classification_metrics_example.py\n",
      "spark-2.4.7-bin-hadoop2.7/examples/src/main/python/mllib/svd_example.py\n",
      "spark-2.4.7-bin-hadoop2.7/examples/src/main/python/mllib/random_forest_classification_example.py\n",
      "spark-2.4.7-bin-hadoop2.7/examples/src/main/python/mllib/correlations_example.py\n",
      "spark-2.4.7-bin-hadoop2.7/examples/src/main/python/mllib/pca_rowmatrix_example.py\n",
      "spark-2.4.7-bin-hadoop2.7/examples/src/main/python/mllib/hypothesis_testing_kolmogorov_smirnov_test_example.py\n",
      "spark-2.4.7-bin-hadoop2.7/examples/src/main/python/mllib/sampled_rdds.py\n",
      "spark-2.4.7-bin-hadoop2.7/examples/src/main/python/mllib/correlations.py\n",
      "spark-2.4.7-bin-hadoop2.7/examples/src/main/python/mllib/regression_metrics_example.py\n",
      "spark-2.4.7-bin-hadoop2.7/examples/src/main/python/mllib/logistic_regression.py\n",
      "spark-2.4.7-bin-hadoop2.7/examples/src/main/python/mllib/linear_regression_with_sgd_example.py\n",
      "spark-2.4.7-bin-hadoop2.7/examples/src/main/python/mllib/logistic_regression_with_lbfgs_example.py\n",
      "spark-2.4.7-bin-hadoop2.7/examples/src/main/python/mllib/fpgrowth_example.py\n",
      "spark-2.4.7-bin-hadoop2.7/examples/src/main/python/mllib/svm_with_sgd_example.py\n",
      "spark-2.4.7-bin-hadoop2.7/examples/src/main/python/mllib/standard_scaler_example.py\n",
      "spark-2.4.7-bin-hadoop2.7/examples/src/main/python/mllib/naive_bayes_example.py\n",
      "spark-2.4.7-bin-hadoop2.7/examples/src/main/python/mllib/power_iteration_clustering_example.py\n",
      "spark-2.4.7-bin-hadoop2.7/examples/src/main/python/mllib/k_means_example.py\n",
      "spark-2.4.7-bin-hadoop2.7/examples/src/main/python/mllib/kmeans.py\n",
      "spark-2.4.7-bin-hadoop2.7/examples/src/main/python/mllib/kernel_density_estimation_example.py\n",
      "spark-2.4.7-bin-hadoop2.7/examples/src/main/python/mllib/gaussian_mixture_example.py\n",
      "spark-2.4.7-bin-hadoop2.7/examples/src/main/python/mllib/word2vec.py\n",
      "spark-2.4.7-bin-hadoop2.7/examples/src/main/python/mllib/random_rdd_generation.py\n",
      "spark-2.4.7-bin-hadoop2.7/examples/src/main/python/mllib/multi_label_metrics_example.py\n",
      "spark-2.4.7-bin-hadoop2.7/examples/src/main/python/mllib/bisecting_k_means_example.py\n",
      "spark-2.4.7-bin-hadoop2.7/examples/src/main/python/mllib/gradient_boosting_classification_example.py\n",
      "spark-2.4.7-bin-hadoop2.7/examples/src/main/python/mllib/hypothesis_testing_example.py\n",
      "spark-2.4.7-bin-hadoop2.7/examples/src/main/python/mllib/decision_tree_classification_example.py\n",
      "spark-2.4.7-bin-hadoop2.7/examples/src/main/python/mllib/recommendation_example.py\n",
      "spark-2.4.7-bin-hadoop2.7/examples/src/main/python/mllib/gaussian_mixture_model.py\n",
      "spark-2.4.7-bin-hadoop2.7/examples/src/main/python/mllib/isotonic_regression_example.py\n",
      "spark-2.4.7-bin-hadoop2.7/examples/src/main/python/mllib/gradient_boosting_regression_example.py\n",
      "spark-2.4.7-bin-hadoop2.7/examples/src/main/python/mllib/normalizer_example.py\n",
      "spark-2.4.7-bin-hadoop2.7/examples/src/main/python/mllib/random_forest_regression_example.py\n",
      "spark-2.4.7-bin-hadoop2.7/examples/src/main/python/mllib/tf_idf_example.py\n",
      "spark-2.4.7-bin-hadoop2.7/examples/src/main/python/mllib/latent_dirichlet_allocation_example.py\n",
      "spark-2.4.7-bin-hadoop2.7/examples/src/main/python/mllib/ranking_metrics_example.py\n",
      "spark-2.4.7-bin-hadoop2.7/examples/src/main/python/mllib/word2vec_example.py\n",
      "spark-2.4.7-bin-hadoop2.7/examples/src/main/python/mllib/streaming_linear_regression_example.py\n",
      "spark-2.4.7-bin-hadoop2.7/examples/src/main/python/als.py\n",
      "spark-2.4.7-bin-hadoop2.7/examples/src/main/python/sort.py\n",
      "spark-2.4.7-bin-hadoop2.7/examples/src/main/python/avro_inputformat.py\n",
      "spark-2.4.7-bin-hadoop2.7/examples/jars/\n",
      "spark-2.4.7-bin-hadoop2.7/examples/jars/spark-examples_2.11-2.4.7.jar\n",
      "spark-2.4.7-bin-hadoop2.7/examples/jars/scopt_2.11-3.7.0.jar\n",
      "spark-2.4.7-bin-hadoop2.7/R/\n",
      "spark-2.4.7-bin-hadoop2.7/R/lib/\n",
      "spark-2.4.7-bin-hadoop2.7/R/lib/SparkR/\n",
      "spark-2.4.7-bin-hadoop2.7/R/lib/SparkR/tests/\n",
      "spark-2.4.7-bin-hadoop2.7/R/lib/SparkR/tests/testthat/\n",
      "spark-2.4.7-bin-hadoop2.7/R/lib/SparkR/tests/testthat/test_basic.R\n",
      "spark-2.4.7-bin-hadoop2.7/R/lib/SparkR/html/\n",
      "spark-2.4.7-bin-hadoop2.7/R/lib/SparkR/html/R.css\n",
      "spark-2.4.7-bin-hadoop2.7/R/lib/SparkR/html/00Index.html\n",
      "spark-2.4.7-bin-hadoop2.7/R/lib/SparkR/NAMESPACE\n",
      "spark-2.4.7-bin-hadoop2.7/R/lib/SparkR/profile/\n",
      "spark-2.4.7-bin-hadoop2.7/R/lib/SparkR/profile/shell.R\n",
      "spark-2.4.7-bin-hadoop2.7/R/lib/SparkR/profile/general.R\n",
      "spark-2.4.7-bin-hadoop2.7/R/lib/SparkR/Meta/\n",
      "spark-2.4.7-bin-hadoop2.7/R/lib/SparkR/Meta/Rd.rds\n",
      "spark-2.4.7-bin-hadoop2.7/R/lib/SparkR/Meta/features.rds\n",
      "spark-2.4.7-bin-hadoop2.7/R/lib/SparkR/Meta/hsearch.rds\n",
      "spark-2.4.7-bin-hadoop2.7/R/lib/SparkR/Meta/links.rds\n",
      "spark-2.4.7-bin-hadoop2.7/R/lib/SparkR/Meta/nsInfo.rds\n",
      "spark-2.4.7-bin-hadoop2.7/R/lib/SparkR/Meta/package.rds\n",
      "spark-2.4.7-bin-hadoop2.7/R/lib/SparkR/worker/\n",
      "spark-2.4.7-bin-hadoop2.7/R/lib/SparkR/worker/daemon.R\n",
      "spark-2.4.7-bin-hadoop2.7/R/lib/SparkR/worker/worker.R\n",
      "spark-2.4.7-bin-hadoop2.7/R/lib/SparkR/help/\n",
      "spark-2.4.7-bin-hadoop2.7/R/lib/SparkR/help/paths.rds\n",
      "spark-2.4.7-bin-hadoop2.7/R/lib/SparkR/help/aliases.rds\n",
      "spark-2.4.7-bin-hadoop2.7/R/lib/SparkR/help/SparkR.rdx\n",
      "spark-2.4.7-bin-hadoop2.7/R/lib/SparkR/help/AnIndex\n",
      "spark-2.4.7-bin-hadoop2.7/R/lib/SparkR/help/SparkR.rdb\n",
      "spark-2.4.7-bin-hadoop2.7/R/lib/SparkR/DESCRIPTION\n",
      "spark-2.4.7-bin-hadoop2.7/R/lib/SparkR/INDEX\n",
      "spark-2.4.7-bin-hadoop2.7/R/lib/SparkR/R/\n",
      "spark-2.4.7-bin-hadoop2.7/R/lib/SparkR/R/SparkR\n",
      "spark-2.4.7-bin-hadoop2.7/R/lib/SparkR/R/SparkR.rdx\n",
      "spark-2.4.7-bin-hadoop2.7/R/lib/SparkR/R/SparkR.rdb\n",
      "spark-2.4.7-bin-hadoop2.7/R/lib/sparkr.zip\n",
      "spark-2.4.7-bin-hadoop2.7/RELEASE\n",
      "spark-2.4.7-bin-hadoop2.7/jars/\n",
      "spark-2.4.7-bin-hadoop2.7/jars/hadoop-client-2.7.3.jar\n",
      "spark-2.4.7-bin-hadoop2.7/jars/compress-lzf-1.0.3.jar\n",
      "spark-2.4.7-bin-hadoop2.7/jars/activation-1.1.1.jar\n",
      "spark-2.4.7-bin-hadoop2.7/jars/json4s-scalap_2.11-3.5.3.jar\n",
      "spark-2.4.7-bin-hadoop2.7/jars/chill-java-0.9.3.jar\n",
      "spark-2.4.7-bin-hadoop2.7/jars/hk2-locator-2.4.0-b34.jar\n",
      "spark-2.4.7-bin-hadoop2.7/jars/validation-api-1.1.0.Final.jar\n",
      "spark-2.4.7-bin-hadoop2.7/jars/super-csv-2.2.0.jar\n",
      "spark-2.4.7-bin-hadoop2.7/jars/leveldbjni-all-1.8.jar\n",
      "spark-2.4.7-bin-hadoop2.7/jars/arrow-format-0.10.0.jar\n",
      "spark-2.4.7-bin-hadoop2.7/jars/hadoop-common-2.7.3.jar\n",
      "spark-2.4.7-bin-hadoop2.7/jars/spark-hive_2.11-2.4.7.jar\n",
      "spark-2.4.7-bin-hadoop2.7/jars/javassist-3.18.1-GA.jar\n",
      "spark-2.4.7-bin-hadoop2.7/jars/oro-2.0.8.jar\n",
      "spark-2.4.7-bin-hadoop2.7/jars/jersey-client-2.22.2.jar\n",
      "spark-2.4.7-bin-hadoop2.7/jars/parquet-encoding-1.10.1.jar\n",
      "spark-2.4.7-bin-hadoop2.7/jars/janino-3.0.16.jar\n",
      "spark-2.4.7-bin-hadoop2.7/jars/arrow-memory-0.10.0.jar\n",
      "spark-2.4.7-bin-hadoop2.7/jars/hadoop-mapreduce-client-core-2.7.3.jar\n",
      "spark-2.4.7-bin-hadoop2.7/jars/logging-interceptor-3.12.0.jar\n",
      "spark-2.4.7-bin-hadoop2.7/jars/flatbuffers-1.2.0-3f79e055.jar\n",
      "spark-2.4.7-bin-hadoop2.7/jars/slf4j-log4j12-1.7.16.jar\n",
      "spark-2.4.7-bin-hadoop2.7/jars/guava-14.0.1.jar\n",
      "spark-2.4.7-bin-hadoop2.7/jars/datanucleus-core-3.2.10.jar\n",
      "spark-2.4.7-bin-hadoop2.7/jars/calcite-core-1.2.0-incubating.jar\n",
      "spark-2.4.7-bin-hadoop2.7/jars/antlr-2.7.7.jar\n",
      "spark-2.4.7-bin-hadoop2.7/jars/jackson-core-2.6.7.jar\n",
      "spark-2.4.7-bin-hadoop2.7/jars/jaxb-api-2.2.2.jar\n",
      "spark-2.4.7-bin-hadoop2.7/jars/commons-configuration-1.6.jar\n",
      "spark-2.4.7-bin-hadoop2.7/jars/json4s-ast_2.11-3.5.3.jar\n",
      "spark-2.4.7-bin-hadoop2.7/jars/hive-jdbc-1.2.1.spark2.jar\n",
      "spark-2.4.7-bin-hadoop2.7/jars/jackson-module-jaxb-annotations-2.6.7.jar\n",
      "spark-2.4.7-bin-hadoop2.7/jars/bonecp-0.8.0.RELEASE.jar\n",
      "spark-2.4.7-bin-hadoop2.7/jars/spark-hive-thriftserver_2.11-2.4.7.jar\n",
      "spark-2.4.7-bin-hadoop2.7/jars/hadoop-yarn-client-2.7.3.jar\n",
      "spark-2.4.7-bin-hadoop2.7/jars/machinist_2.11-0.6.1.jar\n",
      "spark-2.4.7-bin-hadoop2.7/jars/kubernetes-model-common-4.6.1.jar\n",
      "spark-2.4.7-bin-hadoop2.7/jars/hive-beeline-1.2.1.spark2.jar\n",
      "spark-2.4.7-bin-hadoop2.7/jars/libthrift-0.9.3.jar\n",
      "spark-2.4.7-bin-hadoop2.7/jars/commons-pool-1.5.4.jar\n",
      "spark-2.4.7-bin-hadoop2.7/jars/metrics-graphite-3.1.5.jar\n",
      "spark-2.4.7-bin-hadoop2.7/jars/libfb303-0.9.3.jar\n",
      "spark-2.4.7-bin-hadoop2.7/jars/commons-lang-2.6.jar\n",
      "spark-2.4.7-bin-hadoop2.7/jars/pyrolite-4.13.jar\n",
      "spark-2.4.7-bin-hadoop2.7/jars/lz4-java-1.4.0.jar\n",
      "spark-2.4.7-bin-hadoop2.7/jars/orc-core-1.5.5-nohive.jar\n",
      "spark-2.4.7-bin-hadoop2.7/jars/calcite-linq4j-1.2.0-incubating.jar\n",
      "spark-2.4.7-bin-hadoop2.7/jars/hk2-api-2.4.0-b34.jar\n",
      "spark-2.4.7-bin-hadoop2.7/jars/snakeyaml-1.15.jar\n",
      "spark-2.4.7-bin-hadoop2.7/jars/shapeless_2.11-2.3.2.jar\n",
      "spark-2.4.7-bin-hadoop2.7/jars/arrow-vector-0.10.0.jar\n",
      "spark-2.4.7-bin-hadoop2.7/jars/spark-tags_2.11-2.4.7-tests.jar\n",
      "spark-2.4.7-bin-hadoop2.7/jars/jackson-module-paranamer-2.7.9.jar\n",
      "spark-2.4.7-bin-hadoop2.7/jars/api-asn1-api-1.0.0-M20.jar\n",
      "spark-2.4.7-bin-hadoop2.7/jars/minlog-1.3.0.jar\n",
      "spark-2.4.7-bin-hadoop2.7/jars/spark-yarn_2.11-2.4.7.jar\n",
      "spark-2.4.7-bin-hadoop2.7/jars/curator-framework-2.7.1.jar\n",
      "spark-2.4.7-bin-hadoop2.7/jars/commons-compress-1.8.1.jar\n",
      "spark-2.4.7-bin-hadoop2.7/jars/javax.ws.rs-api-2.0.1.jar\n",
      "spark-2.4.7-bin-hadoop2.7/jars/scala-compiler-2.11.12.jar\n",
      "spark-2.4.7-bin-hadoop2.7/jars/jackson-xc-1.9.13.jar\n",
      "spark-2.4.7-bin-hadoop2.7/jars/jackson-databind-2.6.7.3.jar\n",
      "spark-2.4.7-bin-hadoop2.7/jars/jersey-media-jaxb-2.22.2.jar\n",
      "spark-2.4.7-bin-hadoop2.7/jars/arpack_combined_all-0.1.jar\n",
      "spark-2.4.7-bin-hadoop2.7/jars/gson-2.2.4.jar\n",
      "spark-2.4.7-bin-hadoop2.7/jars/hadoop-yarn-api-2.7.3.jar\n",
      "spark-2.4.7-bin-hadoop2.7/jars/parquet-hadoop-1.10.1.jar\n",
      "spark-2.4.7-bin-hadoop2.7/jars/apacheds-i18n-2.0.0-M15.jar\n",
      "spark-2.4.7-bin-hadoop2.7/jars/metrics-json-3.1.5.jar\n",
      "spark-2.4.7-bin-hadoop2.7/jars/hk2-utils-2.4.0-b34.jar\n",
      "spark-2.4.7-bin-hadoop2.7/jars/log4j-1.2.17.jar\n",
      "spark-2.4.7-bin-hadoop2.7/jars/javolution-5.5.1.jar\n",
      "spark-2.4.7-bin-hadoop2.7/jars/macro-compat_2.11-1.1.1.jar\n",
      "spark-2.4.7-bin-hadoop2.7/jars/aopalliance-repackaged-2.4.0-b34.jar\n",
      "spark-2.4.7-bin-hadoop2.7/jars/spark-graphx_2.11-2.4.7.jar\n",
      "spark-2.4.7-bin-hadoop2.7/jars/commons-beanutils-1.9.4.jar\n",
      "spark-2.4.7-bin-hadoop2.7/jars/xz-1.5.jar\n",
      "spark-2.4.7-bin-hadoop2.7/jars/xmlenc-0.52.jar\n",
      "spark-2.4.7-bin-hadoop2.7/jars/jersey-container-servlet-2.22.2.jar\n",
      "spark-2.4.7-bin-hadoop2.7/jars/jcl-over-slf4j-1.7.16.jar\n",
      "spark-2.4.7-bin-hadoop2.7/jars/parquet-format-2.4.0.jar\n",
      "spark-2.4.7-bin-hadoop2.7/jars/spark-streaming_2.11-2.4.7.jar\n",
      "spark-2.4.7-bin-hadoop2.7/jars/spark-sql_2.11-2.4.7.jar\n",
      "spark-2.4.7-bin-hadoop2.7/jars/jdo-api-3.0.1.jar\n",
      "spark-2.4.7-bin-hadoop2.7/jars/jpam-1.1.jar\n",
      "spark-2.4.7-bin-hadoop2.7/jars/spark-tags_2.11-2.4.7.jar\n",
      "spark-2.4.7-bin-hadoop2.7/jars/json4s-core_2.11-3.5.3.jar\n",
      "spark-2.4.7-bin-hadoop2.7/jars/core-1.1.2.jar\n",
      "spark-2.4.7-bin-hadoop2.7/jars/hppc-0.7.2.jar\n",
      "spark-2.4.7-bin-hadoop2.7/jars/datanucleus-api-jdo-3.2.6.jar\n",
      "spark-2.4.7-bin-hadoop2.7/jars/commons-math3-3.4.1.jar\n",
      "spark-2.4.7-bin-hadoop2.7/jars/spark-network-common_2.11-2.4.7.jar\n",
      "spark-2.4.7-bin-hadoop2.7/jars/commons-net-3.1.jar\n",
      "spark-2.4.7-bin-hadoop2.7/jars/commons-compiler-3.0.16.jar\n",
      "spark-2.4.7-bin-hadoop2.7/jars/spire_2.11-0.13.0.jar\n",
      "spark-2.4.7-bin-hadoop2.7/jars/aircompressor-0.10.jar\n",
      "spark-2.4.7-bin-hadoop2.7/jars/derby-10.12.1.1.jar\n",
      "spark-2.4.7-bin-hadoop2.7/jars/datanucleus-rdbms-3.2.9.jar\n",
      "spark-2.4.7-bin-hadoop2.7/jars/hadoop-mapreduce-client-jobclient-2.7.3.jar\n",
      "spark-2.4.7-bin-hadoop2.7/jars/avro-1.8.2.jar\n",
      "spark-2.4.7-bin-hadoop2.7/jars/chill_2.11-0.9.3.jar\n",
      "spark-2.4.7-bin-hadoop2.7/jars/hadoop-auth-2.7.3.jar\n",
      "spark-2.4.7-bin-hadoop2.7/jars/stream-2.7.0.jar\n",
      "spark-2.4.7-bin-hadoop2.7/jars/apacheds-kerberos-codec-2.0.0-M15.jar\n",
      "spark-2.4.7-bin-hadoop2.7/jars/antlr4-runtime-4.7.jar\n",
      "spark-2.4.7-bin-hadoop2.7/jars/osgi-resource-locator-1.0.1.jar\n",
      "spark-2.4.7-bin-hadoop2.7/jars/httpcore-4.4.10.jar\n",
      "spark-2.4.7-bin-hadoop2.7/jars/ivy-2.4.0.jar\n",
      "spark-2.4.7-bin-hadoop2.7/jars/kryo-shaded-4.0.2.jar\n",
      "spark-2.4.7-bin-hadoop2.7/jars/jackson-module-scala_2.11-2.6.7.1.jar\n",
      "spark-2.4.7-bin-hadoop2.7/jars/orc-shims-1.5.5.jar\n",
      "spark-2.4.7-bin-hadoop2.7/jars/curator-recipes-2.7.1.jar\n",
      "spark-2.4.7-bin-hadoop2.7/jars/json4s-jackson_2.11-3.5.3.jar\n",
      "spark-2.4.7-bin-hadoop2.7/jars/commons-cli-1.2.jar\n",
      "spark-2.4.7-bin-hadoop2.7/jars/slf4j-api-1.7.16.jar\n",
      "spark-2.4.7-bin-hadoop2.7/jars/jetty-6.1.26.jar\n",
      "spark-2.4.7-bin-hadoop2.7/jars/spark-catalyst_2.11-2.4.7.jar\n",
      "spark-2.4.7-bin-hadoop2.7/jars/stax-api-1.0.1.jar\n",
      "spark-2.4.7-bin-hadoop2.7/jars/eigenbase-properties-1.1.5.jar\n",
      "spark-2.4.7-bin-hadoop2.7/jars/spark-unsafe_2.11-2.4.7.jar\n",
      "spark-2.4.7-bin-hadoop2.7/jars/commons-io-2.4.jar\n",
      "spark-2.4.7-bin-hadoop2.7/jars/javax.inject-1.jar\n",
      "spark-2.4.7-bin-hadoop2.7/jars/guice-3.0.jar\n",
      "spark-2.4.7-bin-hadoop2.7/jars/commons-logging-1.1.3.jar\n",
      "spark-2.4.7-bin-hadoop2.7/jars/spark-mllib_2.11-2.4.7.jar\n",
      "spark-2.4.7-bin-hadoop2.7/jars/hadoop-mapreduce-client-common-2.7.3.jar\n",
      "spark-2.4.7-bin-hadoop2.7/jars/zjsonpatch-0.3.0.jar\n",
      "spark-2.4.7-bin-hadoop2.7/jars/spark-sketch_2.11-2.4.7.jar\n",
      "spark-2.4.7-bin-hadoop2.7/jars/univocity-parsers-2.7.3.jar\n",
      "spark-2.4.7-bin-hadoop2.7/jars/scala-reflect-2.11.12.jar\n",
      "spark-2.4.7-bin-hadoop2.7/jars/jsp-api-2.1.jar\n",
      "spark-2.4.7-bin-hadoop2.7/jars/kubernetes-model-4.6.1.jar\n",
      "spark-2.4.7-bin-hadoop2.7/jars/parquet-jackson-1.10.1.jar\n",
      "spark-2.4.7-bin-hadoop2.7/jars/jackson-core-asl-1.9.13.jar\n",
      "spark-2.4.7-bin-hadoop2.7/jars/aopalliance-1.0.jar\n",
      "spark-2.4.7-bin-hadoop2.7/jars/hadoop-yarn-server-web-proxy-2.7.3.jar\n",
      "spark-2.4.7-bin-hadoop2.7/jars/metrics-jvm-3.1.5.jar\n",
      "spark-2.4.7-bin-hadoop2.7/jars/spark-mesos_2.11-2.4.7.jar\n",
      "spark-2.4.7-bin-hadoop2.7/jars/hive-cli-1.2.1.spark2.jar\n",
      "spark-2.4.7-bin-hadoop2.7/jars/apache-log4j-extras-1.2.17.jar\n",
      "spark-2.4.7-bin-hadoop2.7/jars/guice-servlet-3.0.jar\n",
      "spark-2.4.7-bin-hadoop2.7/jars/commons-dbcp-1.4.jar\n",
      "spark-2.4.7-bin-hadoop2.7/jars/netty-all-4.1.47.Final.jar\n",
      "spark-2.4.7-bin-hadoop2.7/jars/protobuf-java-2.5.0.jar\n",
      "spark-2.4.7-bin-hadoop2.7/jars/jta-1.1.jar\n",
      "spark-2.4.7-bin-hadoop2.7/jars/netty-3.9.9.Final.jar\n",
      "spark-2.4.7-bin-hadoop2.7/jars/orc-mapreduce-1.5.5-nohive.jar\n",
      "spark-2.4.7-bin-hadoop2.7/jars/spark-core_2.11-2.4.7.jar\n",
      "spark-2.4.7-bin-hadoop2.7/jars/scala-xml_2.11-1.0.5.jar\n",
      "spark-2.4.7-bin-hadoop2.7/jars/javax.annotation-api-1.2.jar\n",
      "spark-2.4.7-bin-hadoop2.7/jars/hadoop-yarn-common-2.7.3.jar\n",
      "spark-2.4.7-bin-hadoop2.7/jars/jackson-mapper-asl-1.9.13.jar\n",
      "spark-2.4.7-bin-hadoop2.7/jars/jul-to-slf4j-1.7.16.jar\n",
      "spark-2.4.7-bin-hadoop2.7/jars/spire-macros_2.11-0.13.0.jar\n",
      "spark-2.4.7-bin-hadoop2.7/jars/javax.servlet-api-3.1.0.jar\n",
      "spark-2.4.7-bin-hadoop2.7/jars/hive-exec-1.2.1.spark2.jar\n",
      "spark-2.4.7-bin-hadoop2.7/jars/mesos-1.4.0-shaded-protobuf.jar\n",
      "spark-2.4.7-bin-hadoop2.7/jars/jodd-core-3.5.2.jar\n",
      "spark-2.4.7-bin-hadoop2.7/jars/curator-client-2.7.1.jar\n",
      "spark-2.4.7-bin-hadoop2.7/jars/zookeeper-3.4.6.jar\n",
      "spark-2.4.7-bin-hadoop2.7/jars/commons-digester-1.8.jar\n",
      "spark-2.4.7-bin-hadoop2.7/jars/xbean-asm6-shaded-4.8.jar\n",
      "spark-2.4.7-bin-hadoop2.7/jars/scala-parser-combinators_2.11-1.1.0.jar\n",
      "spark-2.4.7-bin-hadoop2.7/jars/spark-launcher_2.11-2.4.7.jar\n",
      "spark-2.4.7-bin-hadoop2.7/jars/jsr305-1.3.9.jar\n",
      "spark-2.4.7-bin-hadoop2.7/jars/scala-library-2.11.12.jar\n",
      "spark-2.4.7-bin-hadoop2.7/jars/jersey-container-servlet-core-2.22.2.jar\n",
      "spark-2.4.7-bin-hadoop2.7/jars/spark-repl_2.11-2.4.7.jar\n",
      "spark-2.4.7-bin-hadoop2.7/jars/jackson-jaxrs-1.9.13.jar\n",
      "spark-2.4.7-bin-hadoop2.7/jars/opencsv-2.3.jar\n",
      "spark-2.4.7-bin-hadoop2.7/jars/commons-lang3-3.5.jar\n",
      "spark-2.4.7-bin-hadoop2.7/jars/jetty-util-6.1.26.jar\n",
      "spark-2.4.7-bin-hadoop2.7/jars/generex-1.0.2.jar\n",
      "spark-2.4.7-bin-hadoop2.7/jars/joda-time-2.9.3.jar\n",
      "spark-2.4.7-bin-hadoop2.7/jars/shims-0.7.45.jar\n",
      "spark-2.4.7-bin-hadoop2.7/jars/objenesis-2.5.1.jar\n",
      "spark-2.4.7-bin-hadoop2.7/jars/commons-codec-1.10.jar\n",
      "spark-2.4.7-bin-hadoop2.7/jars/py4j-0.10.7.jar\n",
      "spark-2.4.7-bin-hadoop2.7/jars/avro-mapred-1.8.2-hadoop2.jar\n",
      "spark-2.4.7-bin-hadoop2.7/jars/RoaringBitmap-0.7.45.jar\n",
      "spark-2.4.7-bin-hadoop2.7/jars/zstd-jni-1.3.2-2.jar\n",
      "spark-2.4.7-bin-hadoop2.7/jars/hadoop-annotations-2.7.3.jar\n",
      "spark-2.4.7-bin-hadoop2.7/jars/commons-collections-3.2.2.jar\n",
      "spark-2.4.7-bin-hadoop2.7/jars/parquet-column-1.10.1.jar\n",
      "spark-2.4.7-bin-hadoop2.7/jars/commons-crypto-1.0.0.jar\n",
      "spark-2.4.7-bin-hadoop2.7/jars/spark-kvstore_2.11-2.4.7.jar\n",
      "spark-2.4.7-bin-hadoop2.7/jars/snappy-java-1.1.7.5.jar\n",
      "spark-2.4.7-bin-hadoop2.7/jars/httpclient-4.5.6.jar\n",
      "spark-2.4.7-bin-hadoop2.7/jars/spark-mllib-local_2.11-2.4.7.jar\n",
      "spark-2.4.7-bin-hadoop2.7/jars/okio-1.15.0.jar\n",
      "spark-2.4.7-bin-hadoop2.7/jars/hadoop-hdfs-2.7.3.jar\n",
      "spark-2.4.7-bin-hadoop2.7/jars/breeze_2.11-0.13.2.jar\n",
      "spark-2.4.7-bin-hadoop2.7/jars/hadoop-yarn-server-common-2.7.3.jar\n",
      "spark-2.4.7-bin-hadoop2.7/jars/paranamer-2.8.jar\n",
      "spark-2.4.7-bin-hadoop2.7/jars/commons-httpclient-3.1.jar\n",
      "spark-2.4.7-bin-hadoop2.7/jars/jersey-server-2.22.2.jar\n",
      "spark-2.4.7-bin-hadoop2.7/jars/jline-2.14.6.jar\n",
      "spark-2.4.7-bin-hadoop2.7/jars/spark-network-shuffle_2.11-2.4.7.jar\n",
      "spark-2.4.7-bin-hadoop2.7/jars/spark-kubernetes_2.11-2.4.7.jar\n",
      "spark-2.4.7-bin-hadoop2.7/jars/jackson-annotations-2.6.7.jar\n",
      "spark-2.4.7-bin-hadoop2.7/jars/parquet-common-1.10.1.jar\n",
      "spark-2.4.7-bin-hadoop2.7/jars/ST4-4.0.4.jar\n",
      "spark-2.4.7-bin-hadoop2.7/jars/htrace-core-3.1.0-incubating.jar\n",
      "spark-2.4.7-bin-hadoop2.7/jars/JavaEWAH-0.3.2.jar\n",
      "spark-2.4.7-bin-hadoop2.7/jars/api-util-1.0.0-M20.jar\n",
      "spark-2.4.7-bin-hadoop2.7/jars/parquet-hadoop-bundle-1.6.0.jar\n",
      "spark-2.4.7-bin-hadoop2.7/jars/breeze-macros_2.11-0.13.2.jar\n",
      "spark-2.4.7-bin-hadoop2.7/jars/snappy-0.2.jar\n",
      "spark-2.4.7-bin-hadoop2.7/jars/stringtemplate-3.2.1.jar\n",
      "spark-2.4.7-bin-hadoop2.7/jars/kubernetes-client-4.6.1.jar\n",
      "spark-2.4.7-bin-hadoop2.7/jars/automaton-1.11-8.jar\n",
      "spark-2.4.7-bin-hadoop2.7/jars/hive-metastore-1.2.1.spark2.jar\n",
      "spark-2.4.7-bin-hadoop2.7/jars/jersey-common-2.22.2.jar\n",
      "spark-2.4.7-bin-hadoop2.7/jars/javax.inject-2.4.0-b34.jar\n",
      "spark-2.4.7-bin-hadoop2.7/jars/okhttp-3.12.0.jar\n",
      "spark-2.4.7-bin-hadoop2.7/jars/antlr-runtime-3.4.jar\n",
      "spark-2.4.7-bin-hadoop2.7/jars/hadoop-mapreduce-client-app-2.7.3.jar\n",
      "spark-2.4.7-bin-hadoop2.7/jars/xercesImpl-2.9.1.jar\n",
      "spark-2.4.7-bin-hadoop2.7/jars/jersey-guava-2.22.2.jar\n",
      "spark-2.4.7-bin-hadoop2.7/jars/jtransforms-2.4.0.jar\n",
      "spark-2.4.7-bin-hadoop2.7/jars/hadoop-mapreduce-client-shuffle-2.7.3.jar\n",
      "spark-2.4.7-bin-hadoop2.7/jars/stax-api-1.0-2.jar\n",
      "spark-2.4.7-bin-hadoop2.7/jars/metrics-core-3.1.5.jar\n",
      "spark-2.4.7-bin-hadoop2.7/jars/jackson-dataformat-yaml-2.6.7.jar\n",
      "spark-2.4.7-bin-hadoop2.7/jars/avro-ipc-1.8.2.jar\n",
      "spark-2.4.7-bin-hadoop2.7/jars/calcite-avatica-1.2.0-incubating.jar\n"
     ]
    }
   ],
   "source": [
    "!tar -xvf spark-2.4.7-bin-hadoop2.7.tgz"
   ]
  },
  {
   "cell_type": "markdown",
   "metadata": {
    "id": "V-mcREks4olC"
   },
   "source": [
    "### Installing Pyspark"
   ]
  },
  {
   "cell_type": "code",
   "execution_count": 4,
   "metadata": {
    "executionInfo": {
     "elapsed": 47325,
     "status": "ok",
     "timestamp": 1606639973451,
     "user": {
      "displayName": "Saruk Shaikh",
      "photoUrl": "https://lh3.googleusercontent.com/a-/AOh14Ghv-rUYie3uSseucKXRotW62K0IYvrJgTooV-W8=s64",
      "userId": "04024120848573542282"
     },
     "user_tz": -330
    },
    "id": "uCr4b1p9tyQO"
   },
   "outputs": [],
   "source": [
    "!pip install -q findspark"
   ]
  },
  {
   "cell_type": "markdown",
   "metadata": {
    "id": "eNcO95er4sjZ"
   },
   "source": [
    "### Loading environment"
   ]
  },
  {
   "cell_type": "code",
   "execution_count": 5,
   "metadata": {
    "executionInfo": {
     "elapsed": 47320,
     "status": "ok",
     "timestamp": 1606639973453,
     "user": {
      "displayName": "Saruk Shaikh",
      "photoUrl": "https://lh3.googleusercontent.com/a-/AOh14Ghv-rUYie3uSseucKXRotW62K0IYvrJgTooV-W8=s64",
      "userId": "04024120848573542282"
     },
     "user_tz": -330
    },
    "id": "u2tkiLEOtzjX"
   },
   "outputs": [],
   "source": [
    "import os\n",
    "os.environ[\"JAVA_HOME\"] = \"/usr/lib/jvm/java-8-openjdk-amd64\"\n",
    "os.environ[\"SPARK_HOME\"] = \"/content/spark-2.4.7-bin-hadoop2.7\""
   ]
  },
  {
   "cell_type": "code",
   "execution_count": 6,
   "metadata": {
    "executionInfo": {
     "elapsed": 51918,
     "status": "ok",
     "timestamp": 1606639978056,
     "user": {
      "displayName": "Saruk Shaikh",
      "photoUrl": "https://lh3.googleusercontent.com/a-/AOh14Ghv-rUYie3uSseucKXRotW62K0IYvrJgTooV-W8=s64",
      "userId": "04024120848573542282"
     },
     "user_tz": -330
    },
    "id": "iriUCGYNt2Pp"
   },
   "outputs": [],
   "source": [
    "import findspark\n",
    "\n",
    "findspark.init()\n",
    "from pyspark.sql import SparkSession\n",
    "spark = SparkSession.builder.master(\"local[*]\").getOrCreate()\n",
    "import pyspark.sql.functions as F"
   ]
  },
  {
   "cell_type": "code",
   "execution_count": 7,
   "metadata": {
    "executionInfo": {
     "elapsed": 52560,
     "status": "ok",
     "timestamp": 1606639978703,
     "user": {
      "displayName": "Saruk Shaikh",
      "photoUrl": "https://lh3.googleusercontent.com/a-/AOh14Ghv-rUYie3uSseucKXRotW62K0IYvrJgTooV-W8=s64",
      "userId": "04024120848573542282"
     },
     "user_tz": -330
    },
    "id": "14W44zadt4Ft"
   },
   "outputs": [],
   "source": [
    "import matplotlib.pyplot as plt\n",
    "import pandas as pd\n",
    "import numpy as np\n",
    "import seaborn as sns\n",
    "%matplotlib inline\n",
    "plt.style.use('ggplot')\n",
    "\n",
    "import warnings\n",
    "def ignore_warn(*args, **kwagrs):\n",
    "    pass\n",
    "warnings.warn = ignore_warn"
   ]
  },
  {
   "cell_type": "markdown",
   "metadata": {
    "id": "ZabaRO4U4wgK"
   },
   "source": [
    "### Mounting the Drive"
   ]
  },
  {
   "cell_type": "code",
   "execution_count": 8,
   "metadata": {
    "colab": {
     "base_uri": "https://localhost:8080/"
    },
    "executionInfo": {
     "elapsed": 516326,
     "status": "ok",
     "timestamp": 1606640442478,
     "user": {
      "displayName": "Saruk Shaikh",
      "photoUrl": "https://lh3.googleusercontent.com/a-/AOh14Ghv-rUYie3uSseucKXRotW62K0IYvrJgTooV-W8=s64",
      "userId": "04024120848573542282"
     },
     "user_tz": -330
    },
    "id": "450qck2mt7pq",
    "outputId": "f3b7aaf4-24be-4a2a-c541-8b2276d62c60"
   },
   "outputs": [
    {
     "name": "stdout",
     "output_type": "stream",
     "text": [
      "Mounted at /content/gdrive\n"
     ]
    }
   ],
   "source": [
    "from google.colab import drive\n",
    "drive.mount('/content/gdrive', force_remount=True)"
   ]
  },
  {
   "cell_type": "markdown",
   "metadata": {
    "id": "j5-CGlMz40Kg"
   },
   "source": [
    "### Reading DataSet"
   ]
  },
  {
   "cell_type": "code",
   "execution_count": 9,
   "metadata": {
    "colab": {
     "base_uri": "https://localhost:8080/"
    },
    "executionInfo": {
     "elapsed": 525340,
     "status": "ok",
     "timestamp": 1606640451504,
     "user": {
      "displayName": "Saruk Shaikh",
      "photoUrl": "https://lh3.googleusercontent.com/a-/AOh14Ghv-rUYie3uSseucKXRotW62K0IYvrJgTooV-W8=s64",
      "userId": "04024120848573542282"
     },
     "user_tz": -330
    },
    "id": "XZ0CYb4st9x4",
    "outputId": "b4b3a342-1991-44c7-8778-c6f99406589f"
   },
   "outputs": [
    {
     "name": "stdout",
     "output_type": "stream",
     "text": [
      "root\n",
      " |-- encounter_id: integer (nullable = true)\n",
      " |-- patient_nbr: integer (nullable = true)\n",
      " |-- race: string (nullable = true)\n",
      " |-- gender: string (nullable = true)\n",
      " |-- age: string (nullable = true)\n",
      " |-- weight: string (nullable = true)\n",
      " |-- admission_type_id: integer (nullable = true)\n",
      " |-- discharge_disposition_id: integer (nullable = true)\n",
      " |-- admission_source_id: integer (nullable = true)\n",
      " |-- time_in_hospital: integer (nullable = true)\n",
      " |-- payer_code: string (nullable = true)\n",
      " |-- medical_specialty: string (nullable = true)\n",
      " |-- num_lab_procedures: integer (nullable = true)\n",
      " |-- num_procedures: integer (nullable = true)\n",
      " |-- num_medications: integer (nullable = true)\n",
      " |-- number_outpatient: integer (nullable = true)\n",
      " |-- number_emergency: integer (nullable = true)\n",
      " |-- number_inpatient: integer (nullable = true)\n",
      " |-- diag_1: string (nullable = true)\n",
      " |-- diag_2: string (nullable = true)\n",
      " |-- diag_3: string (nullable = true)\n",
      " |-- number_diagnoses: integer (nullable = true)\n",
      " |-- max_glu_serum: string (nullable = true)\n",
      " |-- A1Cresult: string (nullable = true)\n",
      " |-- metformin: string (nullable = true)\n",
      " |-- repaglinide: string (nullable = true)\n",
      " |-- nateglinide: string (nullable = true)\n",
      " |-- chlorpropamide: string (nullable = true)\n",
      " |-- glimepiride: string (nullable = true)\n",
      " |-- acetohexamide: string (nullable = true)\n",
      " |-- glipizide: string (nullable = true)\n",
      " |-- glyburide: string (nullable = true)\n",
      " |-- tolbutamide: string (nullable = true)\n",
      " |-- pioglitazone: string (nullable = true)\n",
      " |-- rosiglitazone: string (nullable = true)\n",
      " |-- acarbose: string (nullable = true)\n",
      " |-- miglitol: string (nullable = true)\n",
      " |-- troglitazone: string (nullable = true)\n",
      " |-- tolazamide: string (nullable = true)\n",
      " |-- examide: string (nullable = true)\n",
      " |-- citoglipton: string (nullable = true)\n",
      " |-- insulin: string (nullable = true)\n",
      " |-- glyburide-metformin: string (nullable = true)\n",
      " |-- glipizide-metformin: string (nullable = true)\n",
      " |-- glimepiride-pioglitazone: string (nullable = true)\n",
      " |-- metformin-rosiglitazone: string (nullable = true)\n",
      " |-- metformin-pioglitazone: string (nullable = true)\n",
      " |-- change: string (nullable = true)\n",
      " |-- diabetesMed: string (nullable = true)\n",
      " |-- readmitted: string (nullable = true)\n",
      "\n"
     ]
    }
   ],
   "source": [
    "from pyspark.sql import SparkSession\n",
    "spark = SparkSession.builder.appName('diabetic').getOrCreate()\n",
    "path = 'gdrive/MyDrive/HealthCareBigData/diabetic_data.csv'\n",
    "df = spark.read.csv(path, header = True, inferSchema = True, nullValue=\"?\")\n",
    "df2 = df\n",
    "df.printSchema()"
   ]
  },
  {
   "cell_type": "markdown",
   "metadata": {
    "id": "fnQHQV1B463H"
   },
   "source": [
    "### Lets have a view on the Dataset\n"
   ]
  },
  {
   "cell_type": "code",
   "execution_count": 10,
   "metadata": {
    "colab": {
     "base_uri": "https://localhost:8080/",
     "height": 1000
    },
    "executionInfo": {
     "elapsed": 525328,
     "status": "ok",
     "timestamp": 1606640451506,
     "user": {
      "displayName": "Saruk Shaikh",
      "photoUrl": "https://lh3.googleusercontent.com/a-/AOh14Ghv-rUYie3uSseucKXRotW62K0IYvrJgTooV-W8=s64",
      "userId": "04024120848573542282"
     },
     "user_tz": -330
    },
    "id": "Ctz1WJsl3uT7",
    "outputId": "b91b7534-0720-4186-ca0d-909a3885e4c2"
   },
   "outputs": [
    {
     "data": {
      "text/html": [
       "<div>\n",
       "<style scoped>\n",
       "    .dataframe tbody tr th:only-of-type {\n",
       "        vertical-align: middle;\n",
       "    }\n",
       "\n",
       "    .dataframe tbody tr th {\n",
       "        vertical-align: top;\n",
       "    }\n",
       "\n",
       "    .dataframe thead th {\n",
       "        text-align: right;\n",
       "    }\n",
       "</style>\n",
       "<table border=\"1\" class=\"dataframe\">\n",
       "  <thead>\n",
       "    <tr style=\"text-align: right;\">\n",
       "      <th></th>\n",
       "      <th>0</th>\n",
       "      <th>1</th>\n",
       "      <th>2</th>\n",
       "      <th>3</th>\n",
       "      <th>4</th>\n",
       "    </tr>\n",
       "  </thead>\n",
       "  <tbody>\n",
       "    <tr>\n",
       "      <th>encounter_id</th>\n",
       "      <td>2278392</td>\n",
       "      <td>149190</td>\n",
       "      <td>64410</td>\n",
       "      <td>500364</td>\n",
       "      <td>16680</td>\n",
       "    </tr>\n",
       "    <tr>\n",
       "      <th>patient_nbr</th>\n",
       "      <td>8222157</td>\n",
       "      <td>55629189</td>\n",
       "      <td>86047875</td>\n",
       "      <td>82442376</td>\n",
       "      <td>42519267</td>\n",
       "    </tr>\n",
       "    <tr>\n",
       "      <th>race</th>\n",
       "      <td>Caucasian</td>\n",
       "      <td>Caucasian</td>\n",
       "      <td>AfricanAmerican</td>\n",
       "      <td>Caucasian</td>\n",
       "      <td>Caucasian</td>\n",
       "    </tr>\n",
       "    <tr>\n",
       "      <th>gender</th>\n",
       "      <td>Female</td>\n",
       "      <td>Female</td>\n",
       "      <td>Female</td>\n",
       "      <td>Male</td>\n",
       "      <td>Male</td>\n",
       "    </tr>\n",
       "    <tr>\n",
       "      <th>age</th>\n",
       "      <td>[0-10)</td>\n",
       "      <td>[10-20)</td>\n",
       "      <td>[20-30)</td>\n",
       "      <td>[30-40)</td>\n",
       "      <td>[40-50)</td>\n",
       "    </tr>\n",
       "    <tr>\n",
       "      <th>weight</th>\n",
       "      <td>None</td>\n",
       "      <td>None</td>\n",
       "      <td>None</td>\n",
       "      <td>None</td>\n",
       "      <td>None</td>\n",
       "    </tr>\n",
       "    <tr>\n",
       "      <th>admission_type_id</th>\n",
       "      <td>6</td>\n",
       "      <td>1</td>\n",
       "      <td>1</td>\n",
       "      <td>1</td>\n",
       "      <td>1</td>\n",
       "    </tr>\n",
       "    <tr>\n",
       "      <th>discharge_disposition_id</th>\n",
       "      <td>25</td>\n",
       "      <td>1</td>\n",
       "      <td>1</td>\n",
       "      <td>1</td>\n",
       "      <td>1</td>\n",
       "    </tr>\n",
       "    <tr>\n",
       "      <th>admission_source_id</th>\n",
       "      <td>1</td>\n",
       "      <td>7</td>\n",
       "      <td>7</td>\n",
       "      <td>7</td>\n",
       "      <td>7</td>\n",
       "    </tr>\n",
       "    <tr>\n",
       "      <th>time_in_hospital</th>\n",
       "      <td>1</td>\n",
       "      <td>3</td>\n",
       "      <td>2</td>\n",
       "      <td>2</td>\n",
       "      <td>1</td>\n",
       "    </tr>\n",
       "    <tr>\n",
       "      <th>payer_code</th>\n",
       "      <td>None</td>\n",
       "      <td>None</td>\n",
       "      <td>None</td>\n",
       "      <td>None</td>\n",
       "      <td>None</td>\n",
       "    </tr>\n",
       "    <tr>\n",
       "      <th>medical_specialty</th>\n",
       "      <td>Pediatrics-Endocrinology</td>\n",
       "      <td>None</td>\n",
       "      <td>None</td>\n",
       "      <td>None</td>\n",
       "      <td>None</td>\n",
       "    </tr>\n",
       "    <tr>\n",
       "      <th>num_lab_procedures</th>\n",
       "      <td>41</td>\n",
       "      <td>59</td>\n",
       "      <td>11</td>\n",
       "      <td>44</td>\n",
       "      <td>51</td>\n",
       "    </tr>\n",
       "    <tr>\n",
       "      <th>num_procedures</th>\n",
       "      <td>0</td>\n",
       "      <td>0</td>\n",
       "      <td>5</td>\n",
       "      <td>1</td>\n",
       "      <td>0</td>\n",
       "    </tr>\n",
       "    <tr>\n",
       "      <th>num_medications</th>\n",
       "      <td>1</td>\n",
       "      <td>18</td>\n",
       "      <td>13</td>\n",
       "      <td>16</td>\n",
       "      <td>8</td>\n",
       "    </tr>\n",
       "    <tr>\n",
       "      <th>number_outpatient</th>\n",
       "      <td>0</td>\n",
       "      <td>0</td>\n",
       "      <td>2</td>\n",
       "      <td>0</td>\n",
       "      <td>0</td>\n",
       "    </tr>\n",
       "    <tr>\n",
       "      <th>number_emergency</th>\n",
       "      <td>0</td>\n",
       "      <td>0</td>\n",
       "      <td>0</td>\n",
       "      <td>0</td>\n",
       "      <td>0</td>\n",
       "    </tr>\n",
       "    <tr>\n",
       "      <th>number_inpatient</th>\n",
       "      <td>0</td>\n",
       "      <td>0</td>\n",
       "      <td>1</td>\n",
       "      <td>0</td>\n",
       "      <td>0</td>\n",
       "    </tr>\n",
       "    <tr>\n",
       "      <th>diag_1</th>\n",
       "      <td>250.83</td>\n",
       "      <td>276</td>\n",
       "      <td>648</td>\n",
       "      <td>8</td>\n",
       "      <td>197</td>\n",
       "    </tr>\n",
       "    <tr>\n",
       "      <th>diag_2</th>\n",
       "      <td>None</td>\n",
       "      <td>250.01</td>\n",
       "      <td>250</td>\n",
       "      <td>250.43</td>\n",
       "      <td>157</td>\n",
       "    </tr>\n",
       "    <tr>\n",
       "      <th>diag_3</th>\n",
       "      <td>None</td>\n",
       "      <td>255</td>\n",
       "      <td>V27</td>\n",
       "      <td>403</td>\n",
       "      <td>250</td>\n",
       "    </tr>\n",
       "    <tr>\n",
       "      <th>number_diagnoses</th>\n",
       "      <td>1</td>\n",
       "      <td>9</td>\n",
       "      <td>6</td>\n",
       "      <td>7</td>\n",
       "      <td>5</td>\n",
       "    </tr>\n",
       "    <tr>\n",
       "      <th>max_glu_serum</th>\n",
       "      <td>None</td>\n",
       "      <td>None</td>\n",
       "      <td>None</td>\n",
       "      <td>None</td>\n",
       "      <td>None</td>\n",
       "    </tr>\n",
       "    <tr>\n",
       "      <th>A1Cresult</th>\n",
       "      <td>None</td>\n",
       "      <td>None</td>\n",
       "      <td>None</td>\n",
       "      <td>None</td>\n",
       "      <td>None</td>\n",
       "    </tr>\n",
       "    <tr>\n",
       "      <th>metformin</th>\n",
       "      <td>No</td>\n",
       "      <td>No</td>\n",
       "      <td>No</td>\n",
       "      <td>No</td>\n",
       "      <td>No</td>\n",
       "    </tr>\n",
       "    <tr>\n",
       "      <th>repaglinide</th>\n",
       "      <td>No</td>\n",
       "      <td>No</td>\n",
       "      <td>No</td>\n",
       "      <td>No</td>\n",
       "      <td>No</td>\n",
       "    </tr>\n",
       "    <tr>\n",
       "      <th>nateglinide</th>\n",
       "      <td>No</td>\n",
       "      <td>No</td>\n",
       "      <td>No</td>\n",
       "      <td>No</td>\n",
       "      <td>No</td>\n",
       "    </tr>\n",
       "    <tr>\n",
       "      <th>chlorpropamide</th>\n",
       "      <td>No</td>\n",
       "      <td>No</td>\n",
       "      <td>No</td>\n",
       "      <td>No</td>\n",
       "      <td>No</td>\n",
       "    </tr>\n",
       "    <tr>\n",
       "      <th>glimepiride</th>\n",
       "      <td>No</td>\n",
       "      <td>No</td>\n",
       "      <td>No</td>\n",
       "      <td>No</td>\n",
       "      <td>No</td>\n",
       "    </tr>\n",
       "    <tr>\n",
       "      <th>acetohexamide</th>\n",
       "      <td>No</td>\n",
       "      <td>No</td>\n",
       "      <td>No</td>\n",
       "      <td>No</td>\n",
       "      <td>No</td>\n",
       "    </tr>\n",
       "    <tr>\n",
       "      <th>glipizide</th>\n",
       "      <td>No</td>\n",
       "      <td>No</td>\n",
       "      <td>Steady</td>\n",
       "      <td>No</td>\n",
       "      <td>Steady</td>\n",
       "    </tr>\n",
       "    <tr>\n",
       "      <th>glyburide</th>\n",
       "      <td>No</td>\n",
       "      <td>No</td>\n",
       "      <td>No</td>\n",
       "      <td>No</td>\n",
       "      <td>No</td>\n",
       "    </tr>\n",
       "    <tr>\n",
       "      <th>tolbutamide</th>\n",
       "      <td>No</td>\n",
       "      <td>No</td>\n",
       "      <td>No</td>\n",
       "      <td>No</td>\n",
       "      <td>No</td>\n",
       "    </tr>\n",
       "    <tr>\n",
       "      <th>pioglitazone</th>\n",
       "      <td>No</td>\n",
       "      <td>No</td>\n",
       "      <td>No</td>\n",
       "      <td>No</td>\n",
       "      <td>No</td>\n",
       "    </tr>\n",
       "    <tr>\n",
       "      <th>rosiglitazone</th>\n",
       "      <td>No</td>\n",
       "      <td>No</td>\n",
       "      <td>No</td>\n",
       "      <td>No</td>\n",
       "      <td>No</td>\n",
       "    </tr>\n",
       "    <tr>\n",
       "      <th>acarbose</th>\n",
       "      <td>No</td>\n",
       "      <td>No</td>\n",
       "      <td>No</td>\n",
       "      <td>No</td>\n",
       "      <td>No</td>\n",
       "    </tr>\n",
       "    <tr>\n",
       "      <th>miglitol</th>\n",
       "      <td>No</td>\n",
       "      <td>No</td>\n",
       "      <td>No</td>\n",
       "      <td>No</td>\n",
       "      <td>No</td>\n",
       "    </tr>\n",
       "    <tr>\n",
       "      <th>troglitazone</th>\n",
       "      <td>No</td>\n",
       "      <td>No</td>\n",
       "      <td>No</td>\n",
       "      <td>No</td>\n",
       "      <td>No</td>\n",
       "    </tr>\n",
       "    <tr>\n",
       "      <th>tolazamide</th>\n",
       "      <td>No</td>\n",
       "      <td>No</td>\n",
       "      <td>No</td>\n",
       "      <td>No</td>\n",
       "      <td>No</td>\n",
       "    </tr>\n",
       "    <tr>\n",
       "      <th>examide</th>\n",
       "      <td>No</td>\n",
       "      <td>No</td>\n",
       "      <td>No</td>\n",
       "      <td>No</td>\n",
       "      <td>No</td>\n",
       "    </tr>\n",
       "    <tr>\n",
       "      <th>citoglipton</th>\n",
       "      <td>No</td>\n",
       "      <td>No</td>\n",
       "      <td>No</td>\n",
       "      <td>No</td>\n",
       "      <td>No</td>\n",
       "    </tr>\n",
       "    <tr>\n",
       "      <th>insulin</th>\n",
       "      <td>No</td>\n",
       "      <td>Up</td>\n",
       "      <td>No</td>\n",
       "      <td>Up</td>\n",
       "      <td>Steady</td>\n",
       "    </tr>\n",
       "    <tr>\n",
       "      <th>glyburide-metformin</th>\n",
       "      <td>No</td>\n",
       "      <td>No</td>\n",
       "      <td>No</td>\n",
       "      <td>No</td>\n",
       "      <td>No</td>\n",
       "    </tr>\n",
       "    <tr>\n",
       "      <th>glipizide-metformin</th>\n",
       "      <td>No</td>\n",
       "      <td>No</td>\n",
       "      <td>No</td>\n",
       "      <td>No</td>\n",
       "      <td>No</td>\n",
       "    </tr>\n",
       "    <tr>\n",
       "      <th>glimepiride-pioglitazone</th>\n",
       "      <td>No</td>\n",
       "      <td>No</td>\n",
       "      <td>No</td>\n",
       "      <td>No</td>\n",
       "      <td>No</td>\n",
       "    </tr>\n",
       "    <tr>\n",
       "      <th>metformin-rosiglitazone</th>\n",
       "      <td>No</td>\n",
       "      <td>No</td>\n",
       "      <td>No</td>\n",
       "      <td>No</td>\n",
       "      <td>No</td>\n",
       "    </tr>\n",
       "    <tr>\n",
       "      <th>metformin-pioglitazone</th>\n",
       "      <td>No</td>\n",
       "      <td>No</td>\n",
       "      <td>No</td>\n",
       "      <td>No</td>\n",
       "      <td>No</td>\n",
       "    </tr>\n",
       "    <tr>\n",
       "      <th>change</th>\n",
       "      <td>No</td>\n",
       "      <td>Ch</td>\n",
       "      <td>No</td>\n",
       "      <td>Ch</td>\n",
       "      <td>Ch</td>\n",
       "    </tr>\n",
       "    <tr>\n",
       "      <th>diabetesMed</th>\n",
       "      <td>No</td>\n",
       "      <td>Yes</td>\n",
       "      <td>Yes</td>\n",
       "      <td>Yes</td>\n",
       "      <td>Yes</td>\n",
       "    </tr>\n",
       "    <tr>\n",
       "      <th>readmitted</th>\n",
       "      <td>NO</td>\n",
       "      <td>&gt;30</td>\n",
       "      <td>NO</td>\n",
       "      <td>NO</td>\n",
       "      <td>NO</td>\n",
       "    </tr>\n",
       "  </tbody>\n",
       "</table>\n",
       "</div>"
      ],
      "text/plain": [
       "                                                 0  ...          4\n",
       "encounter_id                               2278392  ...      16680\n",
       "patient_nbr                                8222157  ...   42519267\n",
       "race                                     Caucasian  ...  Caucasian\n",
       "gender                                      Female  ...       Male\n",
       "age                                         [0-10)  ...    [40-50)\n",
       "weight                                        None  ...       None\n",
       "admission_type_id                                6  ...          1\n",
       "discharge_disposition_id                        25  ...          1\n",
       "admission_source_id                              1  ...          7\n",
       "time_in_hospital                                 1  ...          1\n",
       "payer_code                                    None  ...       None\n",
       "medical_specialty         Pediatrics-Endocrinology  ...       None\n",
       "num_lab_procedures                              41  ...         51\n",
       "num_procedures                                   0  ...          0\n",
       "num_medications                                  1  ...          8\n",
       "number_outpatient                                0  ...          0\n",
       "number_emergency                                 0  ...          0\n",
       "number_inpatient                                 0  ...          0\n",
       "diag_1                                      250.83  ...        197\n",
       "diag_2                                        None  ...        157\n",
       "diag_3                                        None  ...        250\n",
       "number_diagnoses                                 1  ...          5\n",
       "max_glu_serum                                 None  ...       None\n",
       "A1Cresult                                     None  ...       None\n",
       "metformin                                       No  ...         No\n",
       "repaglinide                                     No  ...         No\n",
       "nateglinide                                     No  ...         No\n",
       "chlorpropamide                                  No  ...         No\n",
       "glimepiride                                     No  ...         No\n",
       "acetohexamide                                   No  ...         No\n",
       "glipizide                                       No  ...     Steady\n",
       "glyburide                                       No  ...         No\n",
       "tolbutamide                                     No  ...         No\n",
       "pioglitazone                                    No  ...         No\n",
       "rosiglitazone                                   No  ...         No\n",
       "acarbose                                        No  ...         No\n",
       "miglitol                                        No  ...         No\n",
       "troglitazone                                    No  ...         No\n",
       "tolazamide                                      No  ...         No\n",
       "examide                                         No  ...         No\n",
       "citoglipton                                     No  ...         No\n",
       "insulin                                         No  ...     Steady\n",
       "glyburide-metformin                             No  ...         No\n",
       "glipizide-metformin                             No  ...         No\n",
       "glimepiride-pioglitazone                        No  ...         No\n",
       "metformin-rosiglitazone                         No  ...         No\n",
       "metformin-pioglitazone                          No  ...         No\n",
       "change                                          No  ...         Ch\n",
       "diabetesMed                                     No  ...        Yes\n",
       "readmitted                                      NO  ...         NO\n",
       "\n",
       "[50 rows x 5 columns]"
      ]
     },
     "execution_count": 10,
     "metadata": {
      "tags": []
     },
     "output_type": "execute_result"
    }
   ],
   "source": [
    "import pandas as pd\n",
    "pd.DataFrame(df.take(5), columns=df.columns).transpose()"
   ]
  },
  {
   "cell_type": "code",
   "execution_count": 11,
   "metadata": {
    "colab": {
     "base_uri": "https://localhost:8080/"
    },
    "executionInfo": {
     "elapsed": 525967,
     "status": "ok",
     "timestamp": 1606640452159,
     "user": {
      "displayName": "Saruk Shaikh",
      "photoUrl": "https://lh3.googleusercontent.com/a-/AOh14Ghv-rUYie3uSseucKXRotW62K0IYvrJgTooV-W8=s64",
      "userId": "04024120848573542282"
     },
     "user_tz": -330
    },
    "id": "BBQEeUXr4RP6",
    "outputId": "37c82e67-a53b-44b0-d144-264895609614"
   },
   "outputs": [
    {
     "data": {
      "text/plain": [
       "pyspark.sql.dataframe.DataFrame"
      ]
     },
     "execution_count": 11,
     "metadata": {
      "tags": []
     },
     "output_type": "execute_result"
    }
   ],
   "source": [
    "type(df)"
   ]
  },
  {
   "cell_type": "code",
   "execution_count": 12,
   "metadata": {
    "colab": {
     "base_uri": "https://localhost:8080/"
    },
    "executionInfo": {
     "elapsed": 526572,
     "status": "ok",
     "timestamp": 1606640452776,
     "user": {
      "displayName": "Saruk Shaikh",
      "photoUrl": "https://lh3.googleusercontent.com/a-/AOh14Ghv-rUYie3uSseucKXRotW62K0IYvrJgTooV-W8=s64",
      "userId": "04024120848573542282"
     },
     "user_tz": -330
    },
    "id": "5vUbTa_534c7",
    "outputId": "6ae72cf8-f4e2-485d-bb9c-edf7224f14f5"
   },
   "outputs": [
    {
     "data": {
      "text/plain": [
       "101766"
      ]
     },
     "execution_count": 12,
     "metadata": {
      "tags": []
     },
     "output_type": "execute_result"
    }
   ],
   "source": [
    "df.count()"
   ]
  },
  {
   "cell_type": "code",
   "execution_count": 13,
   "metadata": {
    "colab": {
     "base_uri": "https://localhost:8080/"
    },
    "executionInfo": {
     "elapsed": 526561,
     "status": "ok",
     "timestamp": 1606640452778,
     "user": {
      "displayName": "Saruk Shaikh",
      "photoUrl": "https://lh3.googleusercontent.com/a-/AOh14Ghv-rUYie3uSseucKXRotW62K0IYvrJgTooV-W8=s64",
      "userId": "04024120848573542282"
     },
     "user_tz": -330
    },
    "id": "IwuydUAxP38x",
    "outputId": "8e50b791-9f9b-4a65-9db7-93ed4125dadc"
   },
   "outputs": [
    {
     "data": {
      "text/plain": [
       "[('encounter_id', 'int'),\n",
       " ('patient_nbr', 'int'),\n",
       " ('race', 'string'),\n",
       " ('gender', 'string'),\n",
       " ('age', 'string'),\n",
       " ('weight', 'string'),\n",
       " ('admission_type_id', 'int'),\n",
       " ('discharge_disposition_id', 'int'),\n",
       " ('admission_source_id', 'int'),\n",
       " ('time_in_hospital', 'int'),\n",
       " ('payer_code', 'string'),\n",
       " ('medical_specialty', 'string'),\n",
       " ('num_lab_procedures', 'int'),\n",
       " ('num_procedures', 'int'),\n",
       " ('num_medications', 'int'),\n",
       " ('number_outpatient', 'int'),\n",
       " ('number_emergency', 'int'),\n",
       " ('number_inpatient', 'int'),\n",
       " ('diag_1', 'string'),\n",
       " ('diag_2', 'string'),\n",
       " ('diag_3', 'string'),\n",
       " ('number_diagnoses', 'int'),\n",
       " ('max_glu_serum', 'string'),\n",
       " ('A1Cresult', 'string'),\n",
       " ('metformin', 'string'),\n",
       " ('repaglinide', 'string'),\n",
       " ('nateglinide', 'string'),\n",
       " ('chlorpropamide', 'string'),\n",
       " ('glimepiride', 'string'),\n",
       " ('acetohexamide', 'string'),\n",
       " ('glipizide', 'string'),\n",
       " ('glyburide', 'string'),\n",
       " ('tolbutamide', 'string'),\n",
       " ('pioglitazone', 'string'),\n",
       " ('rosiglitazone', 'string'),\n",
       " ('acarbose', 'string'),\n",
       " ('miglitol', 'string'),\n",
       " ('troglitazone', 'string'),\n",
       " ('tolazamide', 'string'),\n",
       " ('examide', 'string'),\n",
       " ('citoglipton', 'string'),\n",
       " ('insulin', 'string'),\n",
       " ('glyburide-metformin', 'string'),\n",
       " ('glipizide-metformin', 'string'),\n",
       " ('glimepiride-pioglitazone', 'string'),\n",
       " ('metformin-rosiglitazone', 'string'),\n",
       " ('metformin-pioglitazone', 'string'),\n",
       " ('change', 'string'),\n",
       " ('diabetesMed', 'string'),\n",
       " ('readmitted', 'string')]"
      ]
     },
     "execution_count": 13,
     "metadata": {
      "tags": []
     },
     "output_type": "execute_result"
    }
   ],
   "source": [
    "df.dtypes"
   ]
  },
  {
   "cell_type": "markdown",
   "metadata": {
    "id": "YIOaQF1TS5Zs"
   },
   "source": [
    "# Data Cleaning"
   ]
  },
  {
   "cell_type": "markdown",
   "metadata": {
    "id": "55zVpuCPQBLg"
   },
   "source": [
    "### Most missing data at columns (indicated by ?): Weight, Payer Code, and Medical Speciality"
   ]
  },
  {
   "cell_type": "code",
   "execution_count": 14,
   "metadata": {
    "colab": {
     "base_uri": "https://localhost:8080/"
    },
    "executionInfo": {
     "elapsed": 530473,
     "status": "ok",
     "timestamp": 1606640456702,
     "user": {
      "displayName": "Saruk Shaikh",
      "photoUrl": "https://lh3.googleusercontent.com/a-/AOh14Ghv-rUYie3uSseucKXRotW62K0IYvrJgTooV-W8=s64",
      "userId": "04024120848573542282"
     },
     "user_tz": -330
    },
    "id": "TJL5BR63P6w8",
    "outputId": "7c8ce599-024d-4043-e8ec-81fe51fefc06"
   },
   "outputs": [
    {
     "data": {
      "text/plain": [
       "{'A1Cresult': 0,\n",
       " 'acarbose': 0,\n",
       " 'acetohexamide': 0,\n",
       " 'admission_source_id': 0,\n",
       " 'admission_type_id': 0,\n",
       " 'age': 0,\n",
       " 'change': 0,\n",
       " 'chlorpropamide': 0,\n",
       " 'citoglipton': 0,\n",
       " 'diabetesMed': 0,\n",
       " 'diag_1': 21,\n",
       " 'diag_2': 358,\n",
       " 'diag_3': 1423,\n",
       " 'discharge_disposition_id': 0,\n",
       " 'encounter_id': 0,\n",
       " 'examide': 0,\n",
       " 'gender': 0,\n",
       " 'glimepiride': 0,\n",
       " 'glimepiride-pioglitazone': 0,\n",
       " 'glipizide': 0,\n",
       " 'glipizide-metformin': 0,\n",
       " 'glyburide': 0,\n",
       " 'glyburide-metformin': 0,\n",
       " 'insulin': 0,\n",
       " 'max_glu_serum': 0,\n",
       " 'medical_specialty': 49949,\n",
       " 'metformin': 0,\n",
       " 'metformin-pioglitazone': 0,\n",
       " 'metformin-rosiglitazone': 0,\n",
       " 'miglitol': 0,\n",
       " 'nateglinide': 0,\n",
       " 'num_lab_procedures': 0,\n",
       " 'num_medications': 0,\n",
       " 'num_procedures': 0,\n",
       " 'number_diagnoses': 0,\n",
       " 'number_emergency': 0,\n",
       " 'number_inpatient': 0,\n",
       " 'number_outpatient': 0,\n",
       " 'patient_nbr': 0,\n",
       " 'payer_code': 40256,\n",
       " 'pioglitazone': 0,\n",
       " 'race': 2273,\n",
       " 'readmitted': 0,\n",
       " 'repaglinide': 0,\n",
       " 'rosiglitazone': 0,\n",
       " 'time_in_hospital': 0,\n",
       " 'tolazamide': 0,\n",
       " 'tolbutamide': 0,\n",
       " 'troglitazone': 0,\n",
       " 'weight': 98569}"
      ]
     },
     "execution_count": 14,
     "metadata": {
      "tags": []
     },
     "output_type": "execute_result"
    }
   ],
   "source": [
    "# counting null values\n",
    "df.select([F.count(F.when(F.isnull(c), c)).alias(c) for c in df.columns]).first().asDict()"
   ]
  },
  {
   "cell_type": "markdown",
   "metadata": {
    "id": "Aum1uH6WSLha"
   },
   "source": [
    "### drop the columns"
   ]
  },
  {
   "cell_type": "code",
   "execution_count": 15,
   "metadata": {
    "executionInfo": {
     "elapsed": 530467,
     "status": "ok",
     "timestamp": 1606640456705,
     "user": {
      "displayName": "Saruk Shaikh",
      "photoUrl": "https://lh3.googleusercontent.com/a-/AOh14Ghv-rUYie3uSseucKXRotW62K0IYvrJgTooV-W8=s64",
      "userId": "04024120848573542282"
     },
     "user_tz": -330
    },
    "id": "Q89fLSJ6QHhQ"
   },
   "outputs": [],
   "source": [
    "df = df.drop(df.weight)\n",
    "df = df.drop(df.payer_code)\n",
    "df = df.drop(df.medical_specialty)"
   ]
  },
  {
   "cell_type": "code",
   "execution_count": 16,
   "metadata": {
    "executionInfo": {
     "elapsed": 530465,
     "status": "ok",
     "timestamp": 1606640456708,
     "user": {
      "displayName": "Saruk Shaikh",
      "photoUrl": "https://lh3.googleusercontent.com/a-/AOh14Ghv-rUYie3uSseucKXRotW62K0IYvrJgTooV-W8=s64",
      "userId": "04024120848573542282"
     },
     "user_tz": -330
    },
    "id": "et7ggM0IR8a8"
   },
   "outputs": [],
   "source": [
    "df = df.dropna()"
   ]
  },
  {
   "cell_type": "markdown",
   "metadata": {
    "id": "7VQ11Tu1SVRq"
   },
   "source": [
    "### counting null values again"
   ]
  },
  {
   "cell_type": "code",
   "execution_count": 17,
   "metadata": {
    "colab": {
     "base_uri": "https://localhost:8080/"
    },
    "executionInfo": {
     "elapsed": 533288,
     "status": "ok",
     "timestamp": 1606640459540,
     "user": {
      "displayName": "Saruk Shaikh",
      "photoUrl": "https://lh3.googleusercontent.com/a-/AOh14Ghv-rUYie3uSseucKXRotW62K0IYvrJgTooV-W8=s64",
      "userId": "04024120848573542282"
     },
     "user_tz": -330
    },
    "id": "lEokAKMmSULm",
    "outputId": "5e3af8fe-3d81-47bc-e7a8-efeb61411718"
   },
   "outputs": [
    {
     "data": {
      "text/plain": [
       "{'A1Cresult': 0,\n",
       " 'acarbose': 0,\n",
       " 'acetohexamide': 0,\n",
       " 'admission_source_id': 0,\n",
       " 'admission_type_id': 0,\n",
       " 'age': 0,\n",
       " 'change': 0,\n",
       " 'chlorpropamide': 0,\n",
       " 'citoglipton': 0,\n",
       " 'diabetesMed': 0,\n",
       " 'diag_1': 0,\n",
       " 'diag_2': 0,\n",
       " 'diag_3': 0,\n",
       " 'discharge_disposition_id': 0,\n",
       " 'encounter_id': 0,\n",
       " 'examide': 0,\n",
       " 'gender': 0,\n",
       " 'glimepiride': 0,\n",
       " 'glimepiride-pioglitazone': 0,\n",
       " 'glipizide': 0,\n",
       " 'glipizide-metformin': 0,\n",
       " 'glyburide': 0,\n",
       " 'glyburide-metformin': 0,\n",
       " 'insulin': 0,\n",
       " 'max_glu_serum': 0,\n",
       " 'metformin': 0,\n",
       " 'metformin-pioglitazone': 0,\n",
       " 'metformin-rosiglitazone': 0,\n",
       " 'miglitol': 0,\n",
       " 'nateglinide': 0,\n",
       " 'num_lab_procedures': 0,\n",
       " 'num_medications': 0,\n",
       " 'num_procedures': 0,\n",
       " 'number_diagnoses': 0,\n",
       " 'number_emergency': 0,\n",
       " 'number_inpatient': 0,\n",
       " 'number_outpatient': 0,\n",
       " 'patient_nbr': 0,\n",
       " 'pioglitazone': 0,\n",
       " 'race': 0,\n",
       " 'readmitted': 0,\n",
       " 'repaglinide': 0,\n",
       " 'rosiglitazone': 0,\n",
       " 'time_in_hospital': 0,\n",
       " 'tolazamide': 0,\n",
       " 'tolbutamide': 0,\n",
       " 'troglitazone': 0}"
      ]
     },
     "execution_count": 17,
     "metadata": {
      "tags": []
     },
     "output_type": "execute_result"
    }
   ],
   "source": [
    "df.select([F.count(F.when(F.isnull(c), c)).alias(c) for c in df.columns]).first().asDict()"
   ]
  },
  {
   "cell_type": "code",
   "execution_count": 18,
   "metadata": {
    "colab": {
     "base_uri": "https://localhost:8080/"
    },
    "executionInfo": {
     "elapsed": 535258,
     "status": "ok",
     "timestamp": 1606640461524,
     "user": {
      "displayName": "Saruk Shaikh",
      "photoUrl": "https://lh3.googleusercontent.com/a-/AOh14Ghv-rUYie3uSseucKXRotW62K0IYvrJgTooV-W8=s64",
      "userId": "04024120848573542282"
     },
     "user_tz": -330
    },
    "id": "lGh59E_mSUIh",
    "outputId": "99ba4b14-c796-4d38-b4c8-23a31fb1eeac"
   },
   "outputs": [
    {
     "data": {
      "text/plain": [
       "98053"
      ]
     },
     "execution_count": 18,
     "metadata": {
      "tags": []
     },
     "output_type": "execute_result"
    }
   ],
   "source": [
    "df.count()"
   ]
  },
  {
   "cell_type": "markdown",
   "metadata": {
    "id": "2EUtWLUXSe5J"
   },
   "source": [
    "### drop the columns with IDs"
   ]
  },
  {
   "cell_type": "code",
   "execution_count": 19,
   "metadata": {
    "executionInfo": {
     "elapsed": 535252,
     "status": "ok",
     "timestamp": 1606640461527,
     "user": {
      "displayName": "Saruk Shaikh",
      "photoUrl": "https://lh3.googleusercontent.com/a-/AOh14Ghv-rUYie3uSseucKXRotW62K0IYvrJgTooV-W8=s64",
      "userId": "04024120848573542282"
     },
     "user_tz": -330
    },
    "id": "b6NXkyVDScWT"
   },
   "outputs": [],
   "source": [
    "df = df.drop(df.encounter_id)\n",
    "df = df.drop(df.patient_nbr)\n",
    "df = df.drop(df.admission_type_id)\n",
    "df = df.drop(df.discharge_disposition_id)\n",
    "df = df.drop(df.admission_source_id)"
   ]
  },
  {
   "cell_type": "markdown",
   "metadata": {
    "id": "CTsE_YoJQ29d"
   },
   "source": [
    "\n",
    "### Convert string/categorical values into integers\n",
    "These string columns will be encoded\n"
   ]
  },
  {
   "cell_type": "code",
   "execution_count": 20,
   "metadata": {
    "colab": {
     "base_uri": "https://localhost:8080/"
    },
    "executionInfo": {
     "elapsed": 535240,
     "status": "ok",
     "timestamp": 1606640461528,
     "user": {
      "displayName": "Saruk Shaikh",
      "photoUrl": "https://lh3.googleusercontent.com/a-/AOh14Ghv-rUYie3uSseucKXRotW62K0IYvrJgTooV-W8=s64",
      "userId": "04024120848573542282"
     },
     "user_tz": -330
    },
    "id": "VlQ97URrQufd",
    "outputId": "30302d65-64ad-4407-ba85-1731733c362b"
   },
   "outputs": [
    {
     "data": {
      "text/plain": [
       "['race',\n",
       " 'gender',\n",
       " 'age',\n",
       " 'max_glu_serum',\n",
       " 'A1Cresult',\n",
       " 'metformin',\n",
       " 'repaglinide',\n",
       " 'nateglinide',\n",
       " 'chlorpropamide',\n",
       " 'glimepiride',\n",
       " 'acetohexamide',\n",
       " 'glipizide',\n",
       " 'glyburide',\n",
       " 'tolbutamide',\n",
       " 'pioglitazone',\n",
       " 'rosiglitazone',\n",
       " 'acarbose',\n",
       " 'miglitol',\n",
       " 'troglitazone',\n",
       " 'tolazamide',\n",
       " 'examide',\n",
       " 'citoglipton',\n",
       " 'insulin',\n",
       " 'glyburide-metformin',\n",
       " 'glipizide-metformin',\n",
       " 'glimepiride-pioglitazone',\n",
       " 'metformin-rosiglitazone',\n",
       " 'metformin-pioglitazone',\n",
       " 'change',\n",
       " 'diabetesMed']"
      ]
     },
     "execution_count": 20,
     "metadata": {
      "tags": []
     },
     "output_type": "execute_result"
    }
   ],
   "source": [
    "string_columns = [column for column in df.columns if df.schema[column].jsonValue().get('type') == 'string']\n",
    "string_columns.remove('readmitted')\n",
    "string_columns.remove('diag_1')\n",
    "string_columns.remove('diag_2')\n",
    "string_columns.remove('diag_3')\n",
    "string_columns"
   ]
  },
  {
   "cell_type": "markdown",
   "metadata": {
    "id": "ITjO2bHhRGPQ"
   },
   "source": [
    "### The readmitted column should be of numeric type"
   ]
  },
  {
   "cell_type": "code",
   "execution_count": 21,
   "metadata": {
    "colab": {
     "base_uri": "https://localhost:8080/"
    },
    "executionInfo": {
     "elapsed": 535219,
     "status": "ok",
     "timestamp": 1606640461532,
     "user": {
      "displayName": "Saruk Shaikh",
      "photoUrl": "https://lh3.googleusercontent.com/a-/AOh14Ghv-rUYie3uSseucKXRotW62K0IYvrJgTooV-W8=s64",
      "userId": "04024120848573542282"
     },
     "user_tz": -330
    },
    "id": "nF47_lGHQ-Wq",
    "outputId": "04f6f9f3-408a-438f-b204-2d9d552aebd6"
   },
   "outputs": [
    {
     "data": {
      "text/plain": [
       "['time_in_hospital',\n",
       " 'num_lab_procedures',\n",
       " 'num_procedures',\n",
       " 'num_medications',\n",
       " 'number_outpatient',\n",
       " 'number_emergency',\n",
       " 'number_inpatient',\n",
       " 'number_diagnoses']"
      ]
     },
     "execution_count": 21,
     "metadata": {
      "tags": []
     },
     "output_type": "execute_result"
    }
   ],
   "source": [
    "numeric_columns = [column for column in df.columns if df.schema[column].jsonValue().get('type') == 'integer']\n",
    "numeric_columns"
   ]
  },
  {
   "cell_type": "code",
   "execution_count": 22,
   "metadata": {
    "executionInfo": {
     "elapsed": 602949,
     "status": "ok",
     "timestamp": 1606640529278,
     "user": {
      "displayName": "Saruk Shaikh",
      "photoUrl": "https://lh3.googleusercontent.com/a-/AOh14Ghv-rUYie3uSseucKXRotW62K0IYvrJgTooV-W8=s64",
      "userId": "04024120848573542282"
     },
     "user_tz": -330
    },
    "id": "Ol4NSs0oRJxE"
   },
   "outputs": [],
   "source": [
    "for col in string_columns:\n",
    "    for val in df.select(col).distinct().collect():\n",
    "        df = df.withColumn(col + '_' + val[0], F.when(val[0] == df[col], 1).otherwise(0))"
   ]
  },
  {
   "cell_type": "code",
   "execution_count": 23,
   "metadata": {
    "executionInfo": {
     "elapsed": 602943,
     "status": "ok",
     "timestamp": 1606640529281,
     "user": {
      "displayName": "Saruk Shaikh",
      "photoUrl": "https://lh3.googleusercontent.com/a-/AOh14Ghv-rUYie3uSseucKXRotW62K0IYvrJgTooV-W8=s64",
      "userId": "04024120848573542282"
     },
     "user_tz": -330
    },
    "id": "kwvYVQHyRRfo"
   },
   "outputs": [],
   "source": [
    "for col in string_columns:\n",
    "    df = df.drop(df[col])"
   ]
  },
  {
   "cell_type": "code",
   "execution_count": 24,
   "metadata": {
    "colab": {
     "base_uri": "https://localhost:8080/"
    },
    "executionInfo": {
     "elapsed": 602936,
     "status": "ok",
     "timestamp": 1606640529284,
     "user": {
      "displayName": "Saruk Shaikh",
      "photoUrl": "https://lh3.googleusercontent.com/a-/AOh14Ghv-rUYie3uSseucKXRotW62K0IYvrJgTooV-W8=s64",
      "userId": "04024120848573542282"
     },
     "user_tz": -330
    },
    "id": "Y8rGmAODRVWz",
    "outputId": "56685d2f-b873-4d46-b4db-172c6ac47017"
   },
   "outputs": [
    {
     "name": "stdout",
     "output_type": "stream",
     "text": [
      "root\n",
      " |-- time_in_hospital: integer (nullable = true)\n",
      " |-- num_lab_procedures: integer (nullable = true)\n",
      " |-- num_procedures: integer (nullable = true)\n",
      " |-- num_medications: integer (nullable = true)\n",
      " |-- number_outpatient: integer (nullable = true)\n",
      " |-- number_emergency: integer (nullable = true)\n",
      " |-- number_inpatient: integer (nullable = true)\n",
      " |-- diag_1: string (nullable = true)\n",
      " |-- diag_2: string (nullable = true)\n",
      " |-- diag_3: string (nullable = true)\n",
      " |-- number_diagnoses: integer (nullable = true)\n",
      " |-- readmitted: string (nullable = true)\n",
      " |-- race_Caucasian: integer (nullable = false)\n",
      " |-- race_Other: integer (nullable = false)\n",
      " |-- race_AfricanAmerican: integer (nullable = false)\n",
      " |-- race_Hispanic: integer (nullable = false)\n",
      " |-- race_Asian: integer (nullable = false)\n",
      " |-- gender_Female: integer (nullable = false)\n",
      " |-- gender_Unknown/Invalid: integer (nullable = false)\n",
      " |-- gender_Male: integer (nullable = false)\n",
      " |-- age_[70-80): integer (nullable = false)\n",
      " |-- age_[90-100): integer (nullable = false)\n",
      " |-- age_[40-50): integer (nullable = false)\n",
      " |-- age_[10-20): integer (nullable = false)\n",
      " |-- age_[20-30): integer (nullable = false)\n",
      " |-- age_[30-40): integer (nullable = false)\n",
      " |-- age_[0-10): integer (nullable = false)\n",
      " |-- age_[80-90): integer (nullable = false)\n",
      " |-- age_[50-60): integer (nullable = false)\n",
      " |-- age_[60-70): integer (nullable = false)\n",
      " |-- max_glu_serum_None: integer (nullable = false)\n",
      " |-- max_glu_serum_>300: integer (nullable = false)\n",
      " |-- max_glu_serum_Norm: integer (nullable = false)\n",
      " |-- max_glu_serum_>200: integer (nullable = false)\n",
      " |-- A1Cresult_None: integer (nullable = false)\n",
      " |-- A1Cresult_>8: integer (nullable = false)\n",
      " |-- A1Cresult_Norm: integer (nullable = false)\n",
      " |-- A1Cresult_>7: integer (nullable = false)\n",
      " |-- metformin_Steady: integer (nullable = false)\n",
      " |-- metformin_Up: integer (nullable = false)\n",
      " |-- metformin_No: integer (nullable = false)\n",
      " |-- metformin_Down: integer (nullable = false)\n",
      " |-- repaglinide_Steady: integer (nullable = false)\n",
      " |-- repaglinide_Up: integer (nullable = false)\n",
      " |-- repaglinide_No: integer (nullable = false)\n",
      " |-- repaglinide_Down: integer (nullable = false)\n",
      " |-- nateglinide_Steady: integer (nullable = false)\n",
      " |-- nateglinide_Up: integer (nullable = false)\n",
      " |-- nateglinide_No: integer (nullable = false)\n",
      " |-- nateglinide_Down: integer (nullable = false)\n",
      " |-- chlorpropamide_Steady: integer (nullable = false)\n",
      " |-- chlorpropamide_Up: integer (nullable = false)\n",
      " |-- chlorpropamide_No: integer (nullable = false)\n",
      " |-- chlorpropamide_Down: integer (nullable = false)\n",
      " |-- glimepiride_Steady: integer (nullable = false)\n",
      " |-- glimepiride_Up: integer (nullable = false)\n",
      " |-- glimepiride_No: integer (nullable = false)\n",
      " |-- glimepiride_Down: integer (nullable = false)\n",
      " |-- acetohexamide_Steady: integer (nullable = false)\n",
      " |-- acetohexamide_No: integer (nullable = false)\n",
      " |-- glipizide_Steady: integer (nullable = false)\n",
      " |-- glipizide_Up: integer (nullable = false)\n",
      " |-- glipizide_No: integer (nullable = false)\n",
      " |-- glipizide_Down: integer (nullable = false)\n",
      " |-- glyburide_Steady: integer (nullable = false)\n",
      " |-- glyburide_Up: integer (nullable = false)\n",
      " |-- glyburide_No: integer (nullable = false)\n",
      " |-- glyburide_Down: integer (nullable = false)\n",
      " |-- tolbutamide_Steady: integer (nullable = false)\n",
      " |-- tolbutamide_No: integer (nullable = false)\n",
      " |-- pioglitazone_Steady: integer (nullable = false)\n",
      " |-- pioglitazone_Up: integer (nullable = false)\n",
      " |-- pioglitazone_No: integer (nullable = false)\n",
      " |-- pioglitazone_Down: integer (nullable = false)\n",
      " |-- rosiglitazone_Steady: integer (nullable = false)\n",
      " |-- rosiglitazone_Up: integer (nullable = false)\n",
      " |-- rosiglitazone_No: integer (nullable = false)\n",
      " |-- rosiglitazone_Down: integer (nullable = false)\n",
      " |-- acarbose_Steady: integer (nullable = false)\n",
      " |-- acarbose_Up: integer (nullable = false)\n",
      " |-- acarbose_No: integer (nullable = false)\n",
      " |-- acarbose_Down: integer (nullable = false)\n",
      " |-- miglitol_Steady: integer (nullable = false)\n",
      " |-- miglitol_Up: integer (nullable = false)\n",
      " |-- miglitol_No: integer (nullable = false)\n",
      " |-- miglitol_Down: integer (nullable = false)\n",
      " |-- troglitazone_Steady: integer (nullable = false)\n",
      " |-- troglitazone_No: integer (nullable = false)\n",
      " |-- tolazamide_Steady: integer (nullable = false)\n",
      " |-- tolazamide_Up: integer (nullable = false)\n",
      " |-- tolazamide_No: integer (nullable = false)\n",
      " |-- examide_No: integer (nullable = false)\n",
      " |-- citoglipton_No: integer (nullable = false)\n",
      " |-- insulin_Steady: integer (nullable = false)\n",
      " |-- insulin_Up: integer (nullable = false)\n",
      " |-- insulin_No: integer (nullable = false)\n",
      " |-- insulin_Down: integer (nullable = false)\n",
      " |-- glyburide-metformin_Steady: integer (nullable = false)\n",
      " |-- glyburide-metformin_Up: integer (nullable = false)\n",
      " |-- glyburide-metformin_No: integer (nullable = false)\n",
      " |-- glyburide-metformin_Down: integer (nullable = false)\n",
      " |-- glipizide-metformin_Steady: integer (nullable = false)\n",
      " |-- glipizide-metformin_No: integer (nullable = false)\n",
      " |-- glimepiride-pioglitazone_Steady: integer (nullable = false)\n",
      " |-- glimepiride-pioglitazone_No: integer (nullable = false)\n",
      " |-- metformin-rosiglitazone_No: integer (nullable = false)\n",
      " |-- metformin-pioglitazone_Steady: integer (nullable = false)\n",
      " |-- metformin-pioglitazone_No: integer (nullable = false)\n",
      " |-- change_Ch: integer (nullable = false)\n",
      " |-- change_No: integer (nullable = false)\n",
      " |-- diabetesMed_No: integer (nullable = false)\n",
      " |-- diabetesMed_Yes: integer (nullable = false)\n",
      "\n"
     ]
    }
   ],
   "source": [
    "df.printSchema()"
   ]
  },
  {
   "cell_type": "markdown",
   "metadata": {
    "id": "Ogx0HopyTEnQ"
   },
   "source": [
    "### diag_1, diag_2, diag_3 have many unique values which greatly increase the size of dataset so we take only those values of these variables which occur more than 2500 times in the dataset"
   ]
  },
  {
   "cell_type": "markdown",
   "metadata": {
    "id": "4rf0y7dFTKMK"
   },
   "source": [
    "####  for diag_1"
   ]
  },
  {
   "cell_type": "code",
   "execution_count": 25,
   "metadata": {
    "executionInfo": {
     "elapsed": 603523,
     "status": "ok",
     "timestamp": 1606640529881,
     "user": {
      "displayName": "Saruk Shaikh",
      "photoUrl": "https://lh3.googleusercontent.com/a-/AOh14Ghv-rUYie3uSseucKXRotW62K0IYvrJgTooV-W8=s64",
      "userId": "04024120848573542282"
     },
     "user_tz": -330
    },
    "id": "EsYr1GegTP6-"
   },
   "outputs": [],
   "source": [
    "diag1_dataset = df.select(\"diag_1\").groupBy(\"diag_1\").count().filter('count > 2500')"
   ]
  },
  {
   "cell_type": "code",
   "execution_count": 26,
   "metadata": {
    "colab": {
     "base_uri": "https://localhost:8080/"
    },
    "executionInfo": {
     "elapsed": 606605,
     "status": "ok",
     "timestamp": 1606640532972,
     "user": {
      "displayName": "Saruk Shaikh",
      "photoUrl": "https://lh3.googleusercontent.com/a-/AOh14Ghv-rUYie3uSseucKXRotW62K0IYvrJgTooV-W8=s64",
      "userId": "04024120848573542282"
     },
     "user_tz": -330
    },
    "id": "UNTZ3QqcTPz4",
    "outputId": "88f8800d-0bfd-49dc-89ed-e5712acdae90"
   },
   "outputs": [
    {
     "data": {
      "text/plain": [
       "[Row(diag_1='428', count=6730),\n",
       " Row(diag_1='786', count=3900),\n",
       " Row(diag_1='410', count=3514),\n",
       " Row(diag_1='486', count=3412),\n",
       " Row(diag_1='414', count=6374),\n",
       " Row(diag_1='427', count=2701)]"
      ]
     },
     "execution_count": 26,
     "metadata": {
      "tags": []
     },
     "output_type": "execute_result"
    }
   ],
   "source": [
    "diag1_dataset.collect()"
   ]
  },
  {
   "cell_type": "code",
   "execution_count": 27,
   "metadata": {
    "executionInfo": {
     "elapsed": 607400,
     "status": "ok",
     "timestamp": 1606640533772,
     "user": {
      "displayName": "Saruk Shaikh",
      "photoUrl": "https://lh3.googleusercontent.com/a-/AOh14Ghv-rUYie3uSseucKXRotW62K0IYvrJgTooV-W8=s64",
      "userId": "04024120848573542282"
     },
     "user_tz": -330
    },
    "id": "NDNnMj8JTVov"
   },
   "outputs": [],
   "source": [
    "for val in diag1_dataset.collect():\n",
    "    df = df.withColumn('diag_1' + '_' + val[0], F.when(val[0] == df['diag_1'], 1).otherwise(0))"
   ]
  },
  {
   "cell_type": "code",
   "execution_count": 28,
   "metadata": {
    "executionInfo": {
     "elapsed": 607398,
     "status": "ok",
     "timestamp": 1606640533775,
     "user": {
      "displayName": "Saruk Shaikh",
      "photoUrl": "https://lh3.googleusercontent.com/a-/AOh14Ghv-rUYie3uSseucKXRotW62K0IYvrJgTooV-W8=s64",
      "userId": "04024120848573542282"
     },
     "user_tz": -330
    },
    "id": "A15-4IR3TXZg"
   },
   "outputs": [],
   "source": [
    "df = df.drop(df['diag_1'])"
   ]
  },
  {
   "cell_type": "markdown",
   "metadata": {
    "id": "rc9zTNXtTKGK"
   },
   "source": [
    "####  for diag_2"
   ]
  },
  {
   "cell_type": "code",
   "execution_count": 29,
   "metadata": {
    "executionInfo": {
     "elapsed": 607396,
     "status": "ok",
     "timestamp": 1606640533778,
     "user": {
      "displayName": "Saruk Shaikh",
      "photoUrl": "https://lh3.googleusercontent.com/a-/AOh14Ghv-rUYie3uSseucKXRotW62K0IYvrJgTooV-W8=s64",
      "userId": "04024120848573542282"
     },
     "user_tz": -330
    },
    "id": "FgJH3cHRTQWc"
   },
   "outputs": [],
   "source": [
    "# for diag_2\n",
    "diag2_dataset = df.select(\"diag_2\").groupBy(\"diag_2\").count().filter('count > 2500')"
   ]
  },
  {
   "cell_type": "code",
   "execution_count": 30,
   "metadata": {
    "executionInfo": {
     "elapsed": 610580,
     "status": "ok",
     "timestamp": 1606640536967,
     "user": {
      "displayName": "Saruk Shaikh",
      "photoUrl": "https://lh3.googleusercontent.com/a-/AOh14Ghv-rUYie3uSseucKXRotW62K0IYvrJgTooV-W8=s64",
      "userId": "04024120848573542282"
     },
     "user_tz": -330
    },
    "id": "wP4uIR8vTQTs"
   },
   "outputs": [],
   "source": [
    "for val in diag2_dataset.collect():\n",
    "    df = df.withColumn('diag_2' + '_' + val[0], F.when(val[0] == df['diag_2'], 1).otherwise(0))"
   ]
  },
  {
   "cell_type": "code",
   "execution_count": 31,
   "metadata": {
    "executionInfo": {
     "elapsed": 610579,
     "status": "ok",
     "timestamp": 1606640536971,
     "user": {
      "displayName": "Saruk Shaikh",
      "photoUrl": "https://lh3.googleusercontent.com/a-/AOh14Ghv-rUYie3uSseucKXRotW62K0IYvrJgTooV-W8=s64",
      "userId": "04024120848573542282"
     },
     "user_tz": -330
    },
    "id": "SsU-aSsjTf8L"
   },
   "outputs": [],
   "source": [
    "df = df.drop(df['diag_2'])"
   ]
  },
  {
   "cell_type": "markdown",
   "metadata": {
    "id": "IWP9VEImTJ-E"
   },
   "source": [
    "####  for diag_3"
   ]
  },
  {
   "cell_type": "code",
   "execution_count": 32,
   "metadata": {
    "executionInfo": {
     "elapsed": 610574,
     "status": "ok",
     "timestamp": 1606640536973,
     "user": {
      "displayName": "Saruk Shaikh",
      "photoUrl": "https://lh3.googleusercontent.com/a-/AOh14Ghv-rUYie3uSseucKXRotW62K0IYvrJgTooV-W8=s64",
      "userId": "04024120848573542282"
     },
     "user_tz": -330
    },
    "id": "skbPJCECTGFL"
   },
   "outputs": [],
   "source": [
    "diag3_dataset = df.select(\"diag_3\").groupBy(\"diag_3\").count().filter('count > 2500')"
   ]
  },
  {
   "cell_type": "code",
   "execution_count": 33,
   "metadata": {
    "executionInfo": {
     "elapsed": 613218,
     "status": "ok",
     "timestamp": 1606640539622,
     "user": {
      "displayName": "Saruk Shaikh",
      "photoUrl": "https://lh3.googleusercontent.com/a-/AOh14Ghv-rUYie3uSseucKXRotW62K0IYvrJgTooV-W8=s64",
      "userId": "04024120848573542282"
     },
     "user_tz": -330
    },
    "id": "_h1RqxxHTmMR"
   },
   "outputs": [],
   "source": [
    "for val in diag3_dataset.collect():\n",
    "    df = df.withColumn('diag_3' + '_' + val[0], F.when(val[0] == df['diag_3'], 1).otherwise(0))"
   ]
  },
  {
   "cell_type": "code",
   "execution_count": 34,
   "metadata": {
    "executionInfo": {
     "elapsed": 613225,
     "status": "ok",
     "timestamp": 1606640539635,
     "user": {
      "displayName": "Saruk Shaikh",
      "photoUrl": "https://lh3.googleusercontent.com/a-/AOh14Ghv-rUYie3uSseucKXRotW62K0IYvrJgTooV-W8=s64",
      "userId": "04024120848573542282"
     },
     "user_tz": -330
    },
    "id": "_rG930NLTmJi"
   },
   "outputs": [],
   "source": [
    "df = df.drop(df['diag_3'])"
   ]
  },
  {
   "cell_type": "code",
   "execution_count": 35,
   "metadata": {
    "colab": {
     "base_uri": "https://localhost:8080/"
    },
    "executionInfo": {
     "elapsed": 613223,
     "status": "ok",
     "timestamp": 1606640539638,
     "user": {
      "displayName": "Saruk Shaikh",
      "photoUrl": "https://lh3.googleusercontent.com/a-/AOh14Ghv-rUYie3uSseucKXRotW62K0IYvrJgTooV-W8=s64",
      "userId": "04024120848573542282"
     },
     "user_tz": -330
    },
    "id": "_W9Gkp_PTubb",
    "outputId": "94f58109-9860-4957-b52c-b1307baaa4f8"
   },
   "outputs": [
    {
     "name": "stdout",
     "output_type": "stream",
     "text": [
      "root\n",
      " |-- time_in_hospital: integer (nullable = true)\n",
      " |-- num_lab_procedures: integer (nullable = true)\n",
      " |-- num_procedures: integer (nullable = true)\n",
      " |-- num_medications: integer (nullable = true)\n",
      " |-- number_outpatient: integer (nullable = true)\n",
      " |-- number_emergency: integer (nullable = true)\n",
      " |-- number_inpatient: integer (nullable = true)\n",
      " |-- number_diagnoses: integer (nullable = true)\n",
      " |-- readmitted: string (nullable = true)\n",
      " |-- race_Caucasian: integer (nullable = false)\n",
      " |-- race_Other: integer (nullable = false)\n",
      " |-- race_AfricanAmerican: integer (nullable = false)\n",
      " |-- race_Hispanic: integer (nullable = false)\n",
      " |-- race_Asian: integer (nullable = false)\n",
      " |-- gender_Female: integer (nullable = false)\n",
      " |-- gender_Unknown/Invalid: integer (nullable = false)\n",
      " |-- gender_Male: integer (nullable = false)\n",
      " |-- age_[70-80): integer (nullable = false)\n",
      " |-- age_[90-100): integer (nullable = false)\n",
      " |-- age_[40-50): integer (nullable = false)\n",
      " |-- age_[10-20): integer (nullable = false)\n",
      " |-- age_[20-30): integer (nullable = false)\n",
      " |-- age_[30-40): integer (nullable = false)\n",
      " |-- age_[0-10): integer (nullable = false)\n",
      " |-- age_[80-90): integer (nullable = false)\n",
      " |-- age_[50-60): integer (nullable = false)\n",
      " |-- age_[60-70): integer (nullable = false)\n",
      " |-- max_glu_serum_None: integer (nullable = false)\n",
      " |-- max_glu_serum_>300: integer (nullable = false)\n",
      " |-- max_glu_serum_Norm: integer (nullable = false)\n",
      " |-- max_glu_serum_>200: integer (nullable = false)\n",
      " |-- A1Cresult_None: integer (nullable = false)\n",
      " |-- A1Cresult_>8: integer (nullable = false)\n",
      " |-- A1Cresult_Norm: integer (nullable = false)\n",
      " |-- A1Cresult_>7: integer (nullable = false)\n",
      " |-- metformin_Steady: integer (nullable = false)\n",
      " |-- metformin_Up: integer (nullable = false)\n",
      " |-- metformin_No: integer (nullable = false)\n",
      " |-- metformin_Down: integer (nullable = false)\n",
      " |-- repaglinide_Steady: integer (nullable = false)\n",
      " |-- repaglinide_Up: integer (nullable = false)\n",
      " |-- repaglinide_No: integer (nullable = false)\n",
      " |-- repaglinide_Down: integer (nullable = false)\n",
      " |-- nateglinide_Steady: integer (nullable = false)\n",
      " |-- nateglinide_Up: integer (nullable = false)\n",
      " |-- nateglinide_No: integer (nullable = false)\n",
      " |-- nateglinide_Down: integer (nullable = false)\n",
      " |-- chlorpropamide_Steady: integer (nullable = false)\n",
      " |-- chlorpropamide_Up: integer (nullable = false)\n",
      " |-- chlorpropamide_No: integer (nullable = false)\n",
      " |-- chlorpropamide_Down: integer (nullable = false)\n",
      " |-- glimepiride_Steady: integer (nullable = false)\n",
      " |-- glimepiride_Up: integer (nullable = false)\n",
      " |-- glimepiride_No: integer (nullable = false)\n",
      " |-- glimepiride_Down: integer (nullable = false)\n",
      " |-- acetohexamide_Steady: integer (nullable = false)\n",
      " |-- acetohexamide_No: integer (nullable = false)\n",
      " |-- glipizide_Steady: integer (nullable = false)\n",
      " |-- glipizide_Up: integer (nullable = false)\n",
      " |-- glipizide_No: integer (nullable = false)\n",
      " |-- glipizide_Down: integer (nullable = false)\n",
      " |-- glyburide_Steady: integer (nullable = false)\n",
      " |-- glyburide_Up: integer (nullable = false)\n",
      " |-- glyburide_No: integer (nullable = false)\n",
      " |-- glyburide_Down: integer (nullable = false)\n",
      " |-- tolbutamide_Steady: integer (nullable = false)\n",
      " |-- tolbutamide_No: integer (nullable = false)\n",
      " |-- pioglitazone_Steady: integer (nullable = false)\n",
      " |-- pioglitazone_Up: integer (nullable = false)\n",
      " |-- pioglitazone_No: integer (nullable = false)\n",
      " |-- pioglitazone_Down: integer (nullable = false)\n",
      " |-- rosiglitazone_Steady: integer (nullable = false)\n",
      " |-- rosiglitazone_Up: integer (nullable = false)\n",
      " |-- rosiglitazone_No: integer (nullable = false)\n",
      " |-- rosiglitazone_Down: integer (nullable = false)\n",
      " |-- acarbose_Steady: integer (nullable = false)\n",
      " |-- acarbose_Up: integer (nullable = false)\n",
      " |-- acarbose_No: integer (nullable = false)\n",
      " |-- acarbose_Down: integer (nullable = false)\n",
      " |-- miglitol_Steady: integer (nullable = false)\n",
      " |-- miglitol_Up: integer (nullable = false)\n",
      " |-- miglitol_No: integer (nullable = false)\n",
      " |-- miglitol_Down: integer (nullable = false)\n",
      " |-- troglitazone_Steady: integer (nullable = false)\n",
      " |-- troglitazone_No: integer (nullable = false)\n",
      " |-- tolazamide_Steady: integer (nullable = false)\n",
      " |-- tolazamide_Up: integer (nullable = false)\n",
      " |-- tolazamide_No: integer (nullable = false)\n",
      " |-- examide_No: integer (nullable = false)\n",
      " |-- citoglipton_No: integer (nullable = false)\n",
      " |-- insulin_Steady: integer (nullable = false)\n",
      " |-- insulin_Up: integer (nullable = false)\n",
      " |-- insulin_No: integer (nullable = false)\n",
      " |-- insulin_Down: integer (nullable = false)\n",
      " |-- glyburide-metformin_Steady: integer (nullable = false)\n",
      " |-- glyburide-metformin_Up: integer (nullable = false)\n",
      " |-- glyburide-metformin_No: integer (nullable = false)\n",
      " |-- glyburide-metformin_Down: integer (nullable = false)\n",
      " |-- glipizide-metformin_Steady: integer (nullable = false)\n",
      " |-- glipizide-metformin_No: integer (nullable = false)\n",
      " |-- glimepiride-pioglitazone_Steady: integer (nullable = false)\n",
      " |-- glimepiride-pioglitazone_No: integer (nullable = false)\n",
      " |-- metformin-rosiglitazone_No: integer (nullable = false)\n",
      " |-- metformin-pioglitazone_Steady: integer (nullable = false)\n",
      " |-- metformin-pioglitazone_No: integer (nullable = false)\n",
      " |-- change_Ch: integer (nullable = false)\n",
      " |-- change_No: integer (nullable = false)\n",
      " |-- diabetesMed_No: integer (nullable = false)\n",
      " |-- diabetesMed_Yes: integer (nullable = false)\n",
      " |-- diag_1_428: integer (nullable = false)\n",
      " |-- diag_1_786: integer (nullable = false)\n",
      " |-- diag_1_410: integer (nullable = false)\n",
      " |-- diag_1_486: integer (nullable = false)\n",
      " |-- diag_1_414: integer (nullable = false)\n",
      " |-- diag_1_427: integer (nullable = false)\n",
      " |-- diag_2_428: integer (nullable = false)\n",
      " |-- diag_2_250: integer (nullable = false)\n",
      " |-- diag_2_276: integer (nullable = false)\n",
      " |-- diag_2_401: integer (nullable = false)\n",
      " |-- diag_2_496: integer (nullable = false)\n",
      " |-- diag_2_403: integer (nullable = false)\n",
      " |-- diag_2_414: integer (nullable = false)\n",
      " |-- diag_2_427: integer (nullable = false)\n",
      " |-- diag_2_599: integer (nullable = false)\n",
      " |-- diag_3_428: integer (nullable = false)\n",
      " |-- diag_3_250: integer (nullable = false)\n",
      " |-- diag_3_276: integer (nullable = false)\n",
      " |-- diag_3_401: integer (nullable = false)\n",
      " |-- diag_3_496: integer (nullable = false)\n",
      " |-- diag_3_414: integer (nullable = false)\n",
      " |-- diag_3_427: integer (nullable = false)\n",
      "\n"
     ]
    }
   ],
   "source": [
    "df.printSchema()"
   ]
  },
  {
   "cell_type": "markdown",
   "metadata": {
    "id": "WHcCulNoT6Js"
   },
   "source": [
    "### Now for the Readmitted column"
   ]
  },
  {
   "cell_type": "code",
   "execution_count": 36,
   "metadata": {
    "executionInfo": {
     "elapsed": 613221,
     "status": "ok",
     "timestamp": 1606640539640,
     "user": {
      "displayName": "Saruk Shaikh",
      "photoUrl": "https://lh3.googleusercontent.com/a-/AOh14Ghv-rUYie3uSseucKXRotW62K0IYvrJgTooV-W8=s64",
      "userId": "04024120848573542282"
     },
     "user_tz": -330
    },
    "id": "Pwp32afhTyuI"
   },
   "outputs": [],
   "source": [
    "df = df.withColumn(\"readmitted\", F.when(df[\"readmitted\"] == \"NO\", 0).otherwise(1))"
   ]
  },
  {
   "cell_type": "code",
   "execution_count": 37,
   "metadata": {
    "executionInfo": {
     "elapsed": 613217,
     "status": "ok",
     "timestamp": 1606640539643,
     "user": {
      "displayName": "Saruk Shaikh",
      "photoUrl": "https://lh3.googleusercontent.com/a-/AOh14Ghv-rUYie3uSseucKXRotW62K0IYvrJgTooV-W8=s64",
      "userId": "04024120848573542282"
     },
     "user_tz": -330
    },
    "id": "0nAUisZ7T5CL"
   },
   "outputs": [],
   "source": [
    "df = df.withColumnRenamed('age_[70-80)', 'age_[70-80]')\n",
    "df = df.withColumnRenamed('age_[90-100)', 'age_[90-100]')\n",
    "df = df.withColumnRenamed('age_[40-50)', 'age_[40-50]')\n",
    "df = df.withColumnRenamed('age_[10-20)', 'age_[10-20]')\n",
    "df = df.withColumnRenamed('age_[20-30)', 'age_[20-30]')\n",
    "df = df.withColumnRenamed('age_[30-40)', 'age_[30-40]')\n",
    "df = df.withColumnRenamed('age_[0-10)', 'age_[0-10]')\n",
    "df = df.withColumnRenamed('age_[80-90)', 'age_[80-90]')\n",
    "df = df.withColumnRenamed('age_[50-60)', 'age_[50-60]')\n",
    "df = df.withColumnRenamed('age_[60-70)', 'age_[60-70]')"
   ]
  },
  {
   "cell_type": "markdown",
   "metadata": {
    "id": "pQGDrfe3Wc6y"
   },
   "source": [
    "### Now the Data is Clean"
   ]
  },
  {
   "cell_type": "code",
   "execution_count": 38,
   "metadata": {
    "colab": {
     "base_uri": "https://localhost:8080/",
     "height": 419
    },
    "executionInfo": {
     "elapsed": 614008,
     "status": "ok",
     "timestamp": 1606640540439,
     "user": {
      "displayName": "Saruk Shaikh",
      "photoUrl": "https://lh3.googleusercontent.com/a-/AOh14Ghv-rUYie3uSseucKXRotW62K0IYvrJgTooV-W8=s64",
      "userId": "04024120848573542282"
     },
     "user_tz": -330
    },
    "id": "JC0OX23vUfR4",
    "outputId": "6cf494fa-3aff-4231-cf87-68d669674321"
   },
   "outputs": [
    {
     "data": {
      "text/html": [
       "<div>\n",
       "<style scoped>\n",
       "    .dataframe tbody tr th:only-of-type {\n",
       "        vertical-align: middle;\n",
       "    }\n",
       "\n",
       "    .dataframe tbody tr th {\n",
       "        vertical-align: top;\n",
       "    }\n",
       "\n",
       "    .dataframe thead th {\n",
       "        text-align: right;\n",
       "    }\n",
       "</style>\n",
       "<table border=\"1\" class=\"dataframe\">\n",
       "  <thead>\n",
       "    <tr style=\"text-align: right;\">\n",
       "      <th></th>\n",
       "      <th>0</th>\n",
       "      <th>1</th>\n",
       "      <th>2</th>\n",
       "      <th>3</th>\n",
       "      <th>4</th>\n",
       "    </tr>\n",
       "  </thead>\n",
       "  <tbody>\n",
       "    <tr>\n",
       "      <th>time_in_hospital</th>\n",
       "      <td>3</td>\n",
       "      <td>2</td>\n",
       "      <td>2</td>\n",
       "      <td>1</td>\n",
       "      <td>3</td>\n",
       "    </tr>\n",
       "    <tr>\n",
       "      <th>num_lab_procedures</th>\n",
       "      <td>59</td>\n",
       "      <td>11</td>\n",
       "      <td>44</td>\n",
       "      <td>51</td>\n",
       "      <td>31</td>\n",
       "    </tr>\n",
       "    <tr>\n",
       "      <th>num_procedures</th>\n",
       "      <td>0</td>\n",
       "      <td>5</td>\n",
       "      <td>1</td>\n",
       "      <td>0</td>\n",
       "      <td>6</td>\n",
       "    </tr>\n",
       "    <tr>\n",
       "      <th>num_medications</th>\n",
       "      <td>18</td>\n",
       "      <td>13</td>\n",
       "      <td>16</td>\n",
       "      <td>8</td>\n",
       "      <td>16</td>\n",
       "    </tr>\n",
       "    <tr>\n",
       "      <th>number_outpatient</th>\n",
       "      <td>0</td>\n",
       "      <td>2</td>\n",
       "      <td>0</td>\n",
       "      <td>0</td>\n",
       "      <td>0</td>\n",
       "    </tr>\n",
       "    <tr>\n",
       "      <th>...</th>\n",
       "      <td>...</td>\n",
       "      <td>...</td>\n",
       "      <td>...</td>\n",
       "      <td>...</td>\n",
       "      <td>...</td>\n",
       "    </tr>\n",
       "    <tr>\n",
       "      <th>diag_3_276</th>\n",
       "      <td>0</td>\n",
       "      <td>0</td>\n",
       "      <td>0</td>\n",
       "      <td>0</td>\n",
       "      <td>0</td>\n",
       "    </tr>\n",
       "    <tr>\n",
       "      <th>diag_3_401</th>\n",
       "      <td>0</td>\n",
       "      <td>0</td>\n",
       "      <td>0</td>\n",
       "      <td>0</td>\n",
       "      <td>0</td>\n",
       "    </tr>\n",
       "    <tr>\n",
       "      <th>diag_3_496</th>\n",
       "      <td>0</td>\n",
       "      <td>0</td>\n",
       "      <td>0</td>\n",
       "      <td>0</td>\n",
       "      <td>0</td>\n",
       "    </tr>\n",
       "    <tr>\n",
       "      <th>diag_3_414</th>\n",
       "      <td>0</td>\n",
       "      <td>0</td>\n",
       "      <td>0</td>\n",
       "      <td>0</td>\n",
       "      <td>0</td>\n",
       "    </tr>\n",
       "    <tr>\n",
       "      <th>diag_3_427</th>\n",
       "      <td>0</td>\n",
       "      <td>0</td>\n",
       "      <td>0</td>\n",
       "      <td>0</td>\n",
       "      <td>0</td>\n",
       "    </tr>\n",
       "  </tbody>\n",
       "</table>\n",
       "<p>131 rows × 5 columns</p>\n",
       "</div>"
      ],
      "text/plain": [
       "                     0   1   2   3   4\n",
       "time_in_hospital     3   2   2   1   3\n",
       "num_lab_procedures  59  11  44  51  31\n",
       "num_procedures       0   5   1   0   6\n",
       "num_medications     18  13  16   8  16\n",
       "number_outpatient    0   2   0   0   0\n",
       "...                 ..  ..  ..  ..  ..\n",
       "diag_3_276           0   0   0   0   0\n",
       "diag_3_401           0   0   0   0   0\n",
       "diag_3_496           0   0   0   0   0\n",
       "diag_3_414           0   0   0   0   0\n",
       "diag_3_427           0   0   0   0   0\n",
       "\n",
       "[131 rows x 5 columns]"
      ]
     },
     "execution_count": 38,
     "metadata": {
      "tags": []
     },
     "output_type": "execute_result"
    }
   ],
   "source": [
    "pd.DataFrame(df.take(5), columns=df.columns).transpose()"
   ]
  },
  {
   "cell_type": "markdown",
   "metadata": {
    "id": "_SiBw44x-rr8"
   },
   "source": [
    "## Visualization"
   ]
  },
  {
   "cell_type": "markdown",
   "metadata": {
    "id": "cDlpN8UMA31O"
   },
   "source": [
    "### We can see data is almost balanced"
   ]
  },
  {
   "cell_type": "code",
   "execution_count": 39,
   "metadata": {
    "colab": {
     "base_uri": "https://localhost:8080/",
     "height": 111
    },
    "executionInfo": {
     "elapsed": 617269,
     "status": "ok",
     "timestamp": 1606640543705,
     "user": {
      "displayName": "Saruk Shaikh",
      "photoUrl": "https://lh3.googleusercontent.com/a-/AOh14Ghv-rUYie3uSseucKXRotW62K0IYvrJgTooV-W8=s64",
      "userId": "04024120848573542282"
     },
     "user_tz": -330
    },
    "id": "xfI4u8JNWZ1u",
    "outputId": "7da0e1d0-f3a1-4fd7-b411-cee1e24f167b"
   },
   "outputs": [
    {
     "data": {
      "text/html": [
       "<div>\n",
       "<style scoped>\n",
       "    .dataframe tbody tr th:only-of-type {\n",
       "        vertical-align: middle;\n",
       "    }\n",
       "\n",
       "    .dataframe tbody tr th {\n",
       "        vertical-align: top;\n",
       "    }\n",
       "\n",
       "    .dataframe thead th {\n",
       "        text-align: right;\n",
       "    }\n",
       "</style>\n",
       "<table border=\"1\" class=\"dataframe\">\n",
       "  <thead>\n",
       "    <tr style=\"text-align: right;\">\n",
       "      <th></th>\n",
       "      <th>readmitted</th>\n",
       "      <th>count</th>\n",
       "    </tr>\n",
       "  </thead>\n",
       "  <tbody>\n",
       "    <tr>\n",
       "      <th>0</th>\n",
       "      <td>1</td>\n",
       "      <td>45715</td>\n",
       "    </tr>\n",
       "    <tr>\n",
       "      <th>1</th>\n",
       "      <td>0</td>\n",
       "      <td>52338</td>\n",
       "    </tr>\n",
       "  </tbody>\n",
       "</table>\n",
       "</div>"
      ],
      "text/plain": [
       "   readmitted  count\n",
       "0           1  45715\n",
       "1           0  52338"
      ]
     },
     "execution_count": 39,
     "metadata": {
      "tags": []
     },
     "output_type": "execute_result"
    }
   ],
   "source": [
    "df.groupby('readmitted').count().toPandas()"
   ]
  },
  {
   "cell_type": "code",
   "execution_count": 40,
   "metadata": {
    "colab": {
     "base_uri": "https://localhost:8080/",
     "height": 282
    },
    "executionInfo": {
     "elapsed": 630472,
     "status": "ok",
     "timestamp": 1606640556914,
     "user": {
      "displayName": "Saruk Shaikh",
      "photoUrl": "https://lh3.googleusercontent.com/a-/AOh14Ghv-rUYie3uSseucKXRotW62K0IYvrJgTooV-W8=s64",
      "userId": "04024120848573542282"
     },
     "user_tz": -330
    },
    "id": "uVHG_a-A-mUz",
    "outputId": "3cf76e22-cab9-4641-d2fa-d38304d440d9"
   },
   "outputs": [
    {
     "data": {
      "image/png": "[encoded data removed]",
      "text/plain": [
       "<Figure size 432x288 with 1 Axes>"
      ]
     },
     "metadata": {
      "tags": []
     },
     "output_type": "display_data"
    }
   ],
   "source": [
    "sns.countplot('readmitted', data=pd.DataFrame(df.take(98053),columns = df.columns))\n",
    "plt.show()"
   ]
  },
  {
   "cell_type": "code",
   "execution_count": 41,
   "metadata": {
    "executionInfo": {
     "elapsed": 630470,
     "status": "ok",
     "timestamp": 1606640556917,
     "user": {
      "displayName": "Saruk Shaikh",
      "photoUrl": "https://lh3.googleusercontent.com/a-/AOh14Ghv-rUYie3uSseucKXRotW62K0IYvrJgTooV-W8=s64",
      "userId": "04024120848573542282"
     },
     "user_tz": -330
    },
    "id": "dzG4-1JH-4cZ"
   },
   "outputs": [],
   "source": [
    "dff = pd.read_csv(path)"
   ]
  },
  {
   "cell_type": "code",
   "execution_count": 42,
   "metadata": {
    "executionInfo": {
     "elapsed": 632104,
     "status": "ok",
     "timestamp": 1606640558556,
     "user": {
      "displayName": "Saruk Shaikh",
      "photoUrl": "https://lh3.googleusercontent.com/a-/AOh14Ghv-rUYie3uSseucKXRotW62K0IYvrJgTooV-W8=s64",
      "userId": "04024120848573542282"
     },
     "user_tz": -330
    },
    "id": "6YfzDZk6Dami"
   },
   "outputs": [],
   "source": [
    "for i in range(24,47): #No-0,Down-1,Up-2,Steady-3\n",
    "    dff[dff.columns[i]] = dff[dff.columns[i]].map({'No': -2, 'Down': -1, \"Up\":1, 'Steady':0})\n",
    "dff['readmitted'] = dff['readmitted'].map({'NO': 0, '<30': 1, \">30\":2})\n",
    "dff['readmittedbinary'] = dff['readmitted'].map({0: 0, 1: 1, 2:1})\n",
    "dff['change'] = dff['change'].map({'No': -1, 'Ch': 1})#No-0,Ch-1\n",
    "dff['max_glu_serum'] = dff['max_glu_serum'].map({'None': 0, '>200': 2,'>300':3,'Norm':1})\n",
    "dff['A1Cresult'] = dff['A1Cresult'].map({'None': 0, '>7': 7,'>8':8,'Norm':5})\n",
    "dff['diabetesMed'] = dff['diabetesMed'].map({'No': -1, 'Yes': 1})\n",
    "dff['age'] = dff['age'].map({'[0-10)':5,'[10-20)':15, '[20-30)':25,'[30-40)':35,'[40-50)':45,'[50-60)':55,'[60-70)':65,'[70-80)':75,'[80-90)':85,'[90-100)':95})\n",
    "dff.drop(['encounter_id','patient_nbr','weight','admission_type_id','discharge_disposition_id','admission_source_id','medical_specialty','payer_code'],axis=1,inplace=True)\n",
    "dff=dff.loc[dff['gender'].isin(['Male','Female'])]\n",
    "dff.replace('?', np.nan, inplace = True)\n",
    "dff= dff.dropna()\n"
   ]
  },
  {
   "cell_type": "markdown",
   "metadata": {
    "id": "0hSoRJbJLeXs"
   },
   "source": [
    "### Caucasians and AfricanAmerican are the one who Mostly suffers with Diabetes"
   ]
  },
  {
   "cell_type": "code",
   "execution_count": 43,
   "metadata": {
    "colab": {
     "base_uri": "https://localhost:8080/",
     "height": 282
    },
    "executionInfo": {
     "elapsed": 632118,
     "status": "ok",
     "timestamp": 1606640558576,
     "user": {
      "displayName": "Saruk Shaikh",
      "photoUrl": "https://lh3.googleusercontent.com/a-/AOh14Ghv-rUYie3uSseucKXRotW62K0IYvrJgTooV-W8=s64",
      "userId": "04024120848573542282"
     },
     "user_tz": -330
    },
    "id": "307b4XRFEMG5",
    "outputId": "0197e035-aa03-486a-8e2c-8c1f55a11e49"
   },
   "outputs": [
    {
     "data": {
      "image/png": "[encoded data removed]",
      "text/plain": [
       "<Figure size 432x288 with 1 Axes>"
      ]
     },
     "metadata": {
      "tags": []
     },
     "output_type": "display_data"
    }
   ],
   "source": [
    "c = sns.countplot(x = dff['race'], hue= dff['readmitted'])\n"
   ]
  },
  {
   "cell_type": "markdown",
   "metadata": {
    "id": "G7usWUQjMAN1"
   },
   "source": [
    "Here we can see Higer the Persons age , Higher is the chance to get Diabetes"
   ]
  },
  {
   "cell_type": "code",
   "execution_count": 44,
   "metadata": {
    "colab": {
     "base_uri": "https://localhost:8080/",
     "height": 282
    },
    "executionInfo": {
     "elapsed": 632116,
     "status": "ok",
     "timestamp": 1606640558579,
     "user": {
      "displayName": "Saruk Shaikh",
      "photoUrl": "https://lh3.googleusercontent.com/a-/AOh14Ghv-rUYie3uSseucKXRotW62K0IYvrJgTooV-W8=s64",
      "userId": "04024120848573542282"
     },
     "user_tz": -330
    },
    "id": "IIMr2Tq-EOUu",
    "outputId": "fb42c678-f455-4727-f176-cd9019cacf36"
   },
   "outputs": [
    {
     "data": {
      "image/png": "[encoded data removed]",
      "text/plain": [
       "<Figure size 432x288 with 1 Axes>"
      ]
     },
     "metadata": {
      "tags": []
     },
     "output_type": "display_data"
    }
   ],
   "source": [
    "count_of_y = dff[\"age\"].groupby(dff[\"readmitted\"]).value_counts().rename(\"counts\").reset_index()\n",
    "fig = sns.lineplot(x=\"age\", y=\"counts\", hue=\"readmitted\", data=count_of_y)"
   ]
  },
  {
   "cell_type": "code",
   "execution_count": 45,
   "metadata": {
    "colab": {
     "base_uri": "https://localhost:8080/",
     "height": 643
    },
    "executionInfo": {
     "elapsed": 633580,
     "status": "ok",
     "timestamp": 1606640560048,
     "user": {
      "displayName": "Saruk Shaikh",
      "photoUrl": "https://lh3.googleusercontent.com/a-/AOh14Ghv-rUYie3uSseucKXRotW62K0IYvrJgTooV-W8=s64",
      "userId": "04024120848573542282"
     },
     "user_tz": -330
    },
    "id": "E_En6xUVMT7S",
    "outputId": "be572a3f-2e8f-4423-d3cc-f4ba6c126743"
   },
   "outputs": [
    {
     "data": {
      "text/plain": [
       "Text(0.5, 1.0, 'Age of Patient VS. Readmission')"
      ]
     },
     "execution_count": 45,
     "metadata": {
      "tags": []
     },
     "output_type": "execute_result"
    },
    {
     "data": {
      "image/png": "[encoded data removed]",
      "text/plain": [
       "<Figure size 1080x720 with 1 Axes>"
      ]
     },
     "metadata": {
      "tags": []
     },
     "output_type": "display_data"
    }
   ],
   "source": [
    "fig = plt.figure(figsize=(15,10))\n",
    "sns.countplot(y= dff['age'], hue = dff['readmitted']).set_title('Age of Patient VS. Readmission')"
   ]
  },
  {
   "cell_type": "markdown",
   "metadata": {
    "id": "I0KBlWQiHAIR"
   },
   "source": [
    "## Correlation Plot\n",
    "Below we can see that there is very less Correlation Among the Features"
   ]
  },
  {
   "cell_type": "code",
   "execution_count": 46,
   "metadata": {
    "colab": {
     "base_uri": "https://localhost:8080/",
     "height": 396
    },
    "executionInfo": {
     "elapsed": 633575,
     "status": "ok",
     "timestamp": 1606640560051,
     "user": {
      "displayName": "Saruk Shaikh",
      "photoUrl": "https://lh3.googleusercontent.com/a-/AOh14Ghv-rUYie3uSseucKXRotW62K0IYvrJgTooV-W8=s64",
      "userId": "04024120848573542282"
     },
     "user_tz": -330
    },
    "id": "o-LhAm5JETrQ",
    "outputId": "dfcaa7af-1a06-4937-964c-6c809efea590"
   },
   "outputs": [
    {
     "data": {
      "text/plain": [
       "<matplotlib.axes._subplots.AxesSubplot at 0x7fb7a1ae84a8>"
      ]
     },
     "execution_count": 46,
     "metadata": {
      "tags": []
     },
     "output_type": "execute_result"
    },
    {
     "data": {
      "image/png": "[encoded data removed]",
      "text/plain": [
       "<Figure size 432x288 with 2 Axes>"
      ]
     },
     "metadata": {
      "tags": []
     },
     "output_type": "display_data"
    }
   ],
   "source": [
    "sns.heatmap(dff.corr())"
   ]
  },
  {
   "cell_type": "markdown",
   "metadata": {
    "id": "zoyXBIl6HK13"
   },
   "source": [
    "### We can Se here that in Some Cases if the Patient Spends more time in Hospital, has more chance to be Readmitted"
   ]
  },
  {
   "cell_type": "code",
   "execution_count": 47,
   "metadata": {
    "colab": {
     "base_uri": "https://localhost:8080/",
     "height": 513
    },
    "executionInfo": {
     "elapsed": 634641,
     "status": "ok",
     "timestamp": 1606640561122,
     "user": {
      "displayName": "Saruk Shaikh",
      "photoUrl": "https://lh3.googleusercontent.com/a-/AOh14Ghv-rUYie3uSseucKXRotW62K0IYvrJgTooV-W8=s64",
      "userId": "04024120848573542282"
     },
     "user_tz": -330
    },
    "id": "XCdWOyrtEVc-",
    "outputId": "51744a41-0517-48d3-fbcf-c1a0623c590b"
   },
   "outputs": [
    {
     "name": "stdout",
     "output_type": "stream",
     "text": [
      "Red: Readmitted\n",
      "Blue: Not Readmitted\n"
     ]
    },
    {
     "data": {
      "text/plain": [
       "Text(0.5, 1.0, 'Time in Hospital VS. Readmission')"
      ]
     },
     "execution_count": 47,
     "metadata": {
      "tags": []
     },
     "output_type": "execute_result"
    },
    {
     "data": {
      "image/png": "[encoded data removed]",
      "text/plain": [
       "<Figure size 936x504 with 1 Axes>"
      ]
     },
     "metadata": {
      "tags": []
     },
     "output_type": "display_data"
    }
   ],
   "source": [
    "import matplotlib.patches as mpatches\n",
    "print(\"Red: Readmitted\")\n",
    "print(\"Blue: Not Readmitted\")\n",
    "fig = plt.figure(figsize=(13,7),)\n",
    "ax=sns.kdeplot(dff.loc[(dff['readmitted'] == 1),'time_in_hospital'] , color='b',shade=True,label='Not Readmitted')\n",
    "ax=sns.kdeplot(dff.loc[(dff['readmitted'] == 2),'time_in_hospital'] , color='r',shade=True, label='Readmitted')\n",
    "red_patch = mpatches.Patch(color='red', label='Readmitted',)\n",
    "blue_patch = mpatches.Patch(color='blue', label='Not Readmitted',)\n",
    "ax.set(xlabel='Time in Hospital', ylabel='Frequency')\n",
    "plt.title('Time in Hospital VS. Readmission')"
   ]
  },
  {
   "cell_type": "markdown",
   "metadata": {
    "id": "ySMPUrvvKawP"
   },
   "source": [
    "### Number of Medications are almost Same for all"
   ]
  },
  {
   "cell_type": "code",
   "execution_count": 48,
   "metadata": {
    "colab": {
     "base_uri": "https://localhost:8080/",
     "height": 534
    },
    "executionInfo": {
     "elapsed": 635797,
     "status": "ok",
     "timestamp": 1606640562284,
     "user": {
      "displayName": "Saruk Shaikh",
      "photoUrl": "https://lh3.googleusercontent.com/a-/AOh14Ghv-rUYie3uSseucKXRotW62K0IYvrJgTooV-W8=s64",
      "userId": "04024120848573542282"
     },
     "user_tz": -330
    },
    "id": "A3G6JmjZF2JR",
    "outputId": "38676160-b3db-42b3-a293-e49c15c074fa"
   },
   "outputs": [
    {
     "data": {
      "text/plain": [
       "Text(0.5, 1.0, 'Number of medication used VS. Readmission')"
      ]
     },
     "execution_count": 48,
     "metadata": {
      "tags": []
     },
     "output_type": "execute_result"
    },
    {
     "data": {
      "image/png": "[encoded data removed]",
      "text/plain": [
       "<Figure size 576x576 with 1 Axes>"
      ]
     },
     "metadata": {
      "tags": []
     },
     "output_type": "display_data"
    }
   ],
   "source": [
    "fig = plt.figure(figsize=(8,8))\n",
    "sns.barplot(x = dff['readmitted'], y = dff['num_medications']).set_title(\"Number of medication used VS. Readmission\")"
   ]
  },
  {
   "cell_type": "markdown",
   "metadata": {
    "id": "GCOwFAZDGFp5"
   },
   "source": [
    "#### Below We can see that females are the more wo suffers with Diabetes and gets Readmitted"
   ]
  },
  {
   "cell_type": "code",
   "execution_count": 49,
   "metadata": {
    "colab": {
     "base_uri": "https://localhost:8080/",
     "height": 534
    },
    "executionInfo": {
     "elapsed": 635794,
     "status": "ok",
     "timestamp": 1606640562286,
     "user": {
      "displayName": "Saruk Shaikh",
      "photoUrl": "https://lh3.googleusercontent.com/a-/AOh14Ghv-rUYie3uSseucKXRotW62K0IYvrJgTooV-W8=s64",
      "userId": "04024120848573542282"
     },
     "user_tz": -330
    },
    "id": "pGrnF9EpF9ex",
    "outputId": "2cbcf276-14d7-4d3e-811b-5b487d4dca5b"
   },
   "outputs": [
    {
     "data": {
      "text/plain": [
       "Text(0.5, 1.0, 'Gender of Patient VS. Readmission')"
      ]
     },
     "execution_count": 49,
     "metadata": {
      "tags": []
     },
     "output_type": "execute_result"
    },
    {
     "data": {
      "image/png": "[encoded data removed]",
      "text/plain": [
       "<Figure size 576x576 with 1 Axes>"
      ]
     },
     "metadata": {
      "tags": []
     },
     "output_type": "display_data"
    }
   ],
   "source": [
    "fig = plt.figure(figsize=(8,8))\n",
    "sns.countplot(dff['gender'], hue = dff['readmitted']).set_title(\"Gender of Patient VS. Readmission\")"
   ]
  },
  {
   "cell_type": "markdown",
   "metadata": {
    "id": "MvKbxVjzJWbx"
   },
   "source": [
    "### Change is Medication doesn't gives a clear indication about Readmission"
   ]
  },
  {
   "cell_type": "code",
   "execution_count": 50,
   "metadata": {
    "colab": {
     "base_uri": "https://localhost:8080/",
     "height": 534
    },
    "executionInfo": {
     "elapsed": 635790,
     "status": "ok",
     "timestamp": 1606640562288,
     "user": {
      "displayName": "Saruk Shaikh",
      "photoUrl": "https://lh3.googleusercontent.com/a-/AOh14Ghv-rUYie3uSseucKXRotW62K0IYvrJgTooV-W8=s64",
      "userId": "04024120848573542282"
     },
     "user_tz": -330
    },
    "id": "fxblTwORGFEC",
    "outputId": "1013079d-c63e-4a13-c2ff-06b010b661a5"
   },
   "outputs": [
    {
     "data": {
      "text/plain": [
       "Text(0.5, 1.0, 'Change of Medication VS. Readmission')"
      ]
     },
     "execution_count": 50,
     "metadata": {
      "tags": []
     },
     "output_type": "execute_result"
    },
    {
     "data": {
      "image/png": "[encoded data removed]",
      "text/plain": [
       "<Figure size 576x576 with 1 Axes>"
      ]
     },
     "metadata": {
      "tags": []
     },
     "output_type": "display_data"
    }
   ],
   "source": [
    "fig = plt.figure(figsize=(8,8))\n",
    "sns.countplot(dff['change'], hue = dff['readmitted']).set_title('Change of Medication VS. Readmission')"
   ]
  },
  {
   "cell_type": "markdown",
   "metadata": {
    "id": "sTbY1vavJBkj"
   },
   "source": [
    "### Below we can see that, If the patient is prescribed some Medication still he has to visit or in most of the cases Patients are Readmitted"
   ]
  },
  {
   "cell_type": "code",
   "execution_count": 51,
   "metadata": {
    "colab": {
     "base_uri": "https://localhost:8080/",
     "height": 534
    },
    "executionInfo": {
     "elapsed": 637386,
     "status": "ok",
     "timestamp": 1606640563889,
     "user": {
      "displayName": "Saruk Shaikh",
      "photoUrl": "https://lh3.googleusercontent.com/a-/AOh14Ghv-rUYie3uSseucKXRotW62K0IYvrJgTooV-W8=s64",
      "userId": "04024120848573542282"
     },
     "user_tz": -330
    },
    "id": "R2W5FCiWG-MX",
    "outputId": "3cb45e33-3818-47eb-8c80-758fb927810f"
   },
   "outputs": [
    {
     "data": {
      "text/plain": [
       "Text(0.5, 1.0, 'Diabetes Medication prescribed VS Readmission')"
      ]
     },
     "execution_count": 51,
     "metadata": {
      "tags": []
     },
     "output_type": "execute_result"
    },
    {
     "data": {
      "image/png": "[encoded data removed]",
      "text/plain": [
       "<Figure size 576x576 with 1 Axes>"
      ]
     },
     "metadata": {
      "tags": []
     },
     "output_type": "display_data"
    }
   ],
   "source": [
    "fig = plt.figure(figsize=(8,8))\n",
    "sns.countplot(dff['diabetesMed'], hue = dff['readmitted']).set_title('Diabetes Medication prescribed VS Readmission')"
   ]
  },
  {
   "cell_type": "markdown",
   "metadata": {
    "id": "8y7FkEypI0I1"
   },
   "source": [
    "### Below we can see that Number of Lab Procedures are Same for All the Patients"
   ]
  },
  {
   "cell_type": "code",
   "execution_count": 52,
   "metadata": {
    "colab": {
     "base_uri": "https://localhost:8080/",
     "height": 425
    },
    "executionInfo": {
     "elapsed": 637383,
     "status": "ok",
     "timestamp": 1606640563890,
     "user": {
      "displayName": "Saruk Shaikh",
      "photoUrl": "https://lh3.googleusercontent.com/a-/AOh14Ghv-rUYie3uSseucKXRotW62K0IYvrJgTooV-W8=s64",
      "userId": "04024120848573542282"
     },
     "user_tz": -330
    },
    "id": "P6LhmuuqHNQr",
    "outputId": "cc0c82bb-e7d4-46e1-e1b2-caf26ec002f4"
   },
   "outputs": [
    {
     "data": {
      "text/plain": [
       "Text(0.5, 1.0, 'Number of lab procedure VS. Readmission')"
      ]
     },
     "execution_count": 52,
     "metadata": {
      "tags": []
     },
     "output_type": "execute_result"
    },
    {
     "data": {
      "image/png": "[encoded data removed]",
      "text/plain": [
       "<Figure size 1080x432 with 1 Axes>"
      ]
     },
     "metadata": {
      "tags": []
     },
     "output_type": "display_data"
    }
   ],
   "source": [
    "fig = plt.figure(figsize=(15,6),)\n",
    "ax=sns.kdeplot(dff.loc[(dff['readmitted'] == 1),'num_lab_procedures'] , color='b',shade=True,label='Not readmitted')\n",
    "ax=sns.kdeplot(dff.loc[(dff['readmitted'] == 2),'num_lab_procedures'] , color='r',shade=True, label='readmitted')\n",
    "ax.set(xlabel='Number of lab procedure', ylabel='Frequency')\n",
    "plt.title('Number of lab procedure VS. Readmission')"
   ]
  },
  {
   "cell_type": "markdown",
   "metadata": {
    "id": "dEq7p7skxdD3"
   },
   "source": [
    "## Model Building"
   ]
  },
  {
   "cell_type": "code",
   "execution_count": 53,
   "metadata": {
    "colab": {
     "base_uri": "https://localhost:8080/"
    },
    "executionInfo": {
     "elapsed": 638179,
     "status": "ok",
     "timestamp": 1606640564693,
     "user": {
      "displayName": "Saruk Shaikh",
      "photoUrl": "https://lh3.googleusercontent.com/a-/AOh14Ghv-rUYie3uSseucKXRotW62K0IYvrJgTooV-W8=s64",
      "userId": "04024120848573542282"
     },
     "user_tz": -330
    },
    "id": "7Lckbgh9N5rm",
    "outputId": "c870477e-bcfd-42cb-d6f6-15f0597e2d78"
   },
   "outputs": [
    {
     "data": {
      "text/plain": [
       "[Row(race='Caucasian', gender='Female', age='[0-10)', weight=None, admission_type_id='6', discharge_disposition_id='25', admission_source_id='1', time_in_hospital='1', payer_code=None, medical_specialty='Pediatrics-Endocrinology', num_lab_procedures='41', num_procedures='0', num_medications='1', number_outpatient='0', number_emergency='0', number_inpatient='0', diag_1='250.83', diag_2=None, diag_3=None, number_diagnoses='1', max_glu_serum='None', A1Cresult='None', metformin='No', repaglinide='No', nateglinide='No', chlorpropamide='No', glimepiride='No', acetohexamide='No', glipizide='No', glyburide='No', tolbutamide='No', pioglitazone='No', rosiglitazone='No', acarbose='No', miglitol='No', troglitazone='No', tolazamide='No', examide='No', citoglipton='No', insulin='No', glyburide-metformin='No', glipizide-metformin='No', glimepiride-pioglitazone='No', metformin-rosiglitazone='No', metformin-pioglitazone='No', change='No', diabetesMed='No', readmitted='NO')]"
      ]
     },
     "execution_count": 53,
     "metadata": {
      "tags": []
     },
     "output_type": "execute_result"
    }
   ],
   "source": [
    "rawData = df2.drop('encounter_id', 'patient_nbr')\n",
    "\n",
    "from pyspark.sql.types import *\n",
    "field_names = rawData.columns\n",
    "fields = [StructField(field_name, StringType(), True) for field_name in field_names]\n",
    "rddWithoutQues = rawData.rdd.map(lambda x: [None if string == \"?\" else string for string in x])\n",
    "schema = StructType(fields)\n",
    "diabetes = spark.createDataFrame(rddWithoutQues, schema)\n",
    "diabetes.take(1)"
   ]
  },
  {
   "cell_type": "code",
   "execution_count": 54,
   "metadata": {
    "colab": {
     "base_uri": "https://localhost:8080/"
    },
    "executionInfo": {
     "elapsed": 642581,
     "status": "ok",
     "timestamp": 1606640569101,
     "user": {
      "displayName": "Saruk Shaikh",
      "photoUrl": "https://lh3.googleusercontent.com/a-/AOh14Ghv-rUYie3uSseucKXRotW62K0IYvrJgTooV-W8=s64",
      "userId": "04024120848573542282"
     },
     "user_tz": -330
    },
    "id": "_j7Prydzb03f",
    "outputId": "d7af7e40-376a-444d-aed8-ae86e5207cb8"
   },
   "outputs": [
    {
     "data": {
      "text/plain": [
       "[Row(race='Caucasian', gender='Female', age='[0-10)', weight=None, admission_type_id='6', discharge_disposition_id='25', admission_source_id='1', time_in_hospital='1', payer_code=None, medical_specialty='Pediatrics-Endocrinology', num_lab_procedures='41', num_procedures='0', num_medications='1', number_outpatient='0', number_emergency='0', number_inpatient='0', diag_1='250.83', diag_2=None, diag_3=None, number_diagnoses='1', max_glu_serum='None', A1Cresult='None', metformin='No', repaglinide='No', nateglinide='No', chlorpropamide='No', glimepiride='No', acetohexamide='No', glipizide='No', glyburide='No', tolbutamide='No', pioglitazone='No', rosiglitazone='No', acarbose='No', miglitol='No', troglitazone='No', tolazamide='No', examide='No', citoglipton='No', insulin='No', glyburide-metformin='No', glipizide-metformin='No', glimepiride-pioglitazone='No', metformin-rosiglitazone='No', metformin-pioglitazone='No', change='No', diabetesMed='No', readmitted='No')]"
      ]
     },
     "execution_count": 54,
     "metadata": {
      "tags": []
     },
     "output_type": "execute_result"
    }
   ],
   "source": [
    "\n",
    "from pyspark.sql.types import StringType\n",
    "from pyspark.sql.functions import udf\n",
    "\n",
    "def modify_values(r):\n",
    "    if r == \">30\" or r ==\"<30\":\n",
    "        return \"Yes\"\n",
    "    else:\n",
    "        return \"No\"\n",
    "ol_val = udf(modify_values, StringType())\n",
    "diabetes = diabetes.withColumn(\"readmitted\",ol_val(diabetes.readmitted))\n",
    "diabetes.take(1)"
   ]
  },
  {
   "cell_type": "code",
   "execution_count": 55,
   "metadata": {
    "executionInfo": {
     "elapsed": 642579,
     "status": "ok",
     "timestamp": 1606640569104,
     "user": {
      "displayName": "Saruk Shaikh",
      "photoUrl": "https://lh3.googleusercontent.com/a-/AOh14Ghv-rUYie3uSseucKXRotW62K0IYvrJgTooV-W8=s64",
      "userId": "04024120848573542282"
     },
     "user_tz": -330
    },
    "id": "m3NLcYQPb6Ce"
   },
   "outputs": [],
   "source": [
    "diabetes = diabetes.drop('weight', 'payer_code', 'medical_specialty')"
   ]
  },
  {
   "cell_type": "code",
   "execution_count": 56,
   "metadata": {
    "executionInfo": {
     "elapsed": 642576,
     "status": "ok",
     "timestamp": 1606640569106,
     "user": {
      "displayName": "Saruk Shaikh",
      "photoUrl": "https://lh3.googleusercontent.com/a-/AOh14Ghv-rUYie3uSseucKXRotW62K0IYvrJgTooV-W8=s64",
      "userId": "04024120848573542282"
     },
     "user_tz": -330
    },
    "id": "hbt1I_L9b8in"
   },
   "outputs": [],
   "source": [
    "diabetes = diabetes.withColumn(\"diag_2\", diabetes[\"diag_2\"].cast(DoubleType()))\n",
    "diabetes = diabetes.withColumn(\"diag_3\", diabetes[\"diag_3\"].cast(DoubleType()))\n",
    "diabetes = diabetes.withColumn(\"diag_1\", diabetes[\"diag_1\"].cast(DoubleType()))\n",
    "diabetes = diabetes.withColumn(\"time_in_hospital\", diabetes[\"time_in_hospital\"].cast(DoubleType()))\n",
    "diabetes = diabetes.withColumn(\"num_lab_procedures\", diabetes[\"num_lab_procedures\"].cast(DoubleType()))\n",
    "diabetes = diabetes.withColumn(\"num_medications\", diabetes[\"num_medications\"].cast(DoubleType()))\n",
    "diabetes = diabetes.withColumn(\"number_emergency\", diabetes[\"number_emergency\"].cast(DoubleType()))\n",
    "diabetes = diabetes.withColumn(\"number_inpatient\", diabetes[\"number_inpatient\"].cast(DoubleType()))\n",
    "diabetes = diabetes.withColumn(\"number_diagnoses\", diabetes[\"number_diagnoses\"].cast(DoubleType()))\n",
    "\n",
    "# Dropping the remaining few NA rows\n",
    "diabetes = diabetes.dropna()"
   ]
  },
  {
   "cell_type": "code",
   "execution_count": 57,
   "metadata": {
    "colab": {
     "base_uri": "https://localhost:8080/"
    },
    "executionInfo": {
     "elapsed": 642574,
     "status": "ok",
     "timestamp": 1606640569109,
     "user": {
      "displayName": "Saruk Shaikh",
      "photoUrl": "https://lh3.googleusercontent.com/a-/AOh14Ghv-rUYie3uSseucKXRotW62K0IYvrJgTooV-W8=s64",
      "userId": "04024120848573542282"
     },
     "user_tz": -330
    },
    "id": "gBTXb0itb-rL",
    "outputId": "1a403fb5-fe02-4f04-bde0-5804ae482949"
   },
   "outputs": [
    {
     "data": {
      "text/plain": [
       "DataFrame[race: string, gender: string, age: string, admission_type_id: string, discharge_disposition_id: string, admission_source_id: string, time_in_hospital: double, num_lab_procedures: double, num_procedures: string, num_medications: double, number_outpatient: string, number_emergency: double, number_inpatient: double, diag_1: double, diag_2: double, diag_3: double, number_diagnoses: double, max_glu_serum: string, A1Cresult: string, metformin: string, glimepiride: string, glipizide: string, glyburide: string, pioglitazone: string, rosiglitazone: string, insulin: string, change: string, diabetesMed: string, readmitted: string]"
      ]
     },
     "execution_count": 57,
     "metadata": {
      "tags": []
     },
     "output_type": "execute_result"
    }
   ],
   "source": [
    "\n",
    "# Redundant and unbalacned feature list imported from R\n",
    "diabetes = diabetes.drop('examide', 'citoglipton', 'metformin-rosiglitazone', 'metformin-pioglitazone', \n",
    "         'glimepiride-pioglitazone', 'citoglipton, examide', 'acetohexamide',\n",
    "    'repaglinide', 'nateglinide', 'chlorpropamide', 'tolbutamide', 'acarbose', 'miglitol',\n",
    "         'troglitazone', 'tolazamide', 'glyburide-metformin', 'glipizide-metformin')\n",
    "diabetes"
   ]
  },
  {
   "cell_type": "markdown",
   "metadata": {
    "id": "134SL2BaxRU0"
   },
   "source": [
    "### Preparing for modelling stage"
   ]
  },
  {
   "cell_type": "code",
   "execution_count": 58,
   "metadata": {
    "colab": {
     "base_uri": "https://localhost:8080/"
    },
    "executionInfo": {
     "elapsed": 849880,
     "status": "ok",
     "timestamp": 1606640776421,
     "user": {
      "displayName": "Saruk Shaikh",
      "photoUrl": "https://lh3.googleusercontent.com/a-/AOh14Ghv-rUYie3uSseucKXRotW62K0IYvrJgTooV-W8=s64",
      "userId": "04024120848573542282"
     },
     "user_tz": -330
    },
    "id": "HDZtILkrxAkp",
    "outputId": "4a7172d8-2ac4-47c1-aaba-d561a7e414cd"
   },
   "outputs": [
    {
     "data": {
      "text/plain": [
       "DataFrame[race: string, gender: string, age: string, admission_type_id: string, discharge_disposition_id: string, admission_source_id: string, time_in_hospital: double, num_lab_procedures: double, num_procedures: string, num_medications: double, number_outpatient: string, number_emergency: double, number_inpatient: double, diag_1: double, diag_2: double, diag_3: double, number_diagnoses: double, max_glu_serum: string, A1Cresult: string, metformin: string, glimepiride: string, glipizide: string, glyburide: string, pioglitazone: string, rosiglitazone: string, insulin: string, change: string, diabetesMed: string, readmitted: string, race_index: double, gender_index: double, age_index: double, admission_type_id_index: double, discharge_disposition_id_index: double, admission_source_id_index: double, num_procedures_index: double, number_outpatient_index: double, max_glu_serum_index: double, A1Cresult_index: double, metformin_index: double, glimepiride_index: double, glipizide_index: double, glyburide_index: double, pioglitazone_index: double, rosiglitazone_index: double, insulin_index: double, change_index: double, diabetesMed_index: double, readmitted_index: double]"
      ]
     },
     "execution_count": 58,
     "metadata": {
      "tags": []
     },
     "output_type": "execute_result"
    }
   ],
   "source": [
    "from pyspark.ml import Pipeline\n",
    "from pyspark.ml.feature import StringIndexer# Creating a list of STRING dtype columns\n",
    "cols_to_index_1 = [x[0] if x[1] == \"string\" else None for x in diabetes.dtypes]\n",
    "cols_to_index = [x for x in cols_to_index_1 if x != None]\n",
    "\n",
    "# Creating the indexers for each column\n",
    "indexers = [StringIndexer(inputCol=column, outputCol=column+\"_index\") for column in cols_to_index]\n",
    "indexers_fitted = [ind.fit(diabetes) for ind in indexers]\n",
    "\n",
    "# Passing it on to the Pipeline function\n",
    "# Pipeline transforms our DF using \"stages\" \n",
    "pipeline = Pipeline(stages=indexers_fitted)\n",
    "diabetes_indexed = pipeline.fit(diabetes).transform(diabetes)\n",
    "diabetes_indexed"
   ]
  },
  {
   "cell_type": "code",
   "execution_count": 59,
   "metadata": {
    "executionInfo": {
     "elapsed": 849877,
     "status": "ok",
     "timestamp": 1606640776423,
     "user": {
      "displayName": "Saruk Shaikh",
      "photoUrl": "https://lh3.googleusercontent.com/a-/AOh14Ghv-rUYie3uSseucKXRotW62K0IYvrJgTooV-W8=s64",
      "userId": "04024120848573542282"
     },
     "user_tz": -330
    },
    "id": "AyZR2FCAxOr_"
   },
   "outputs": [],
   "source": [
    "diabetes_indexed = diabetes_indexed.drop('race',\n",
    " 'gender',\n",
    " 'age',\n",
    " 'admission_type_id',\n",
    " 'discharge_disposition_id',\n",
    " 'admission_source_id',\n",
    " 'num_procedures',\n",
    " 'number_outpatient',\n",
    " 'max_glu_serum',\n",
    " 'A1Cresult',\n",
    " 'metformin',\n",
    " 'glimepiride',\n",
    " 'glipizide',\n",
    " 'glyburide',\n",
    " 'pioglitazone',\n",
    " 'rosiglitazone',\n",
    " 'insulin',\n",
    " 'change',\n",
    " 'diabetesMed',\n",
    " 'readmitted')\n",
    "\n"
   ]
  },
  {
   "cell_type": "code",
   "execution_count": 60,
   "metadata": {
    "executionInfo": {
     "elapsed": 849871,
     "status": "ok",
     "timestamp": 1606640776424,
     "user": {
      "displayName": "Saruk Shaikh",
      "photoUrl": "https://lh3.googleusercontent.com/a-/AOh14Ghv-rUYie3uSseucKXRotW62K0IYvrJgTooV-W8=s64",
      "userId": "04024120848573542282"
     },
     "user_tz": -330
    },
    "id": "2sYewRtbYnZz"
   },
   "outputs": [],
   "source": [
    "diabetes_indexed = diabetes_indexed.withColumnRenamed(\"readmitted_index\", \"readmitted\")"
   ]
  },
  {
   "cell_type": "code",
   "execution_count": 61,
   "metadata": {
    "colab": {
     "base_uri": "https://localhost:8080/"
    },
    "executionInfo": {
     "elapsed": 849867,
     "status": "ok",
     "timestamp": 1606640776425,
     "user": {
      "displayName": "Saruk Shaikh",
      "photoUrl": "https://lh3.googleusercontent.com/a-/AOh14Ghv-rUYie3uSseucKXRotW62K0IYvrJgTooV-W8=s64",
      "userId": "04024120848573542282"
     },
     "user_tz": -330
    },
    "id": "6Ll6G1mxdeuv",
    "outputId": "ee00059b-93ce-49e6-80c6-1f199fcc84ff"
   },
   "outputs": [
    {
     "data": {
      "text/plain": [
       "['race',\n",
       " 'gender',\n",
       " 'age',\n",
       " 'admission_type_id',\n",
       " 'discharge_disposition_id',\n",
       " 'admission_source_id',\n",
       " 'num_procedures',\n",
       " 'number_outpatient',\n",
       " 'max_glu_serum',\n",
       " 'A1Cresult',\n",
       " 'metformin',\n",
       " 'glimepiride',\n",
       " 'glipizide',\n",
       " 'glyburide',\n",
       " 'pioglitazone',\n",
       " 'rosiglitazone',\n",
       " 'insulin',\n",
       " 'change',\n",
       " 'diabetesMed',\n",
       " 'readmitted']"
      ]
     },
     "execution_count": 61,
     "metadata": {
      "tags": []
     },
     "output_type": "execute_result"
    }
   ],
   "source": [
    "cols_to_index"
   ]
  },
  {
   "cell_type": "markdown",
   "metadata": {
    "id": "imJf135yxJ42"
   },
   "source": [
    "### One Hot Encoding\n",
    "- Creating a list of features to be OHE"
   ]
  },
  {
   "cell_type": "code",
   "execution_count": 62,
   "metadata": {
    "colab": {
     "base_uri": "https://localhost:8080/"
    },
    "executionInfo": {
     "elapsed": 849862,
     "status": "ok",
     "timestamp": 1606640776426,
     "user": {
      "displayName": "Saruk Shaikh",
      "photoUrl": "https://lh3.googleusercontent.com/a-/AOh14Ghv-rUYie3uSseucKXRotW62K0IYvrJgTooV-W8=s64",
      "userId": "04024120848573542282"
     },
     "user_tz": -330
    },
    "id": "AN91VleMxbuN",
    "outputId": "725aedc1-97a4-4dc3-d714-14e1469df598"
   },
   "outputs": [
    {
     "data": {
      "text/plain": [
       "['race_index',\n",
       " 'gender_index',\n",
       " 'age_index',\n",
       " 'admission_type_id_index',\n",
       " 'discharge_disposition_id_index',\n",
       " 'admission_source_id_index',\n",
       " 'num_procedures_index',\n",
       " 'number_outpatient_index',\n",
       " 'max_glu_serum_index',\n",
       " 'A1Cresult_index',\n",
       " 'metformin_index',\n",
       " 'glimepiride_index',\n",
       " 'glipizide_index',\n",
       " 'glyburide_index',\n",
       " 'pioglitazone_index',\n",
       " 'rosiglitazone_index',\n",
       " 'insulin_index',\n",
       " 'change_index',\n",
       " 'diabetesMed_index']"
      ]
     },
     "execution_count": 62,
     "metadata": {
      "tags": []
     },
     "output_type": "execute_result"
    }
   ],
   "source": [
    "cols_to_ohe = cols_to_index\n",
    "cols_to_ohe.remove(\"readmitted\")\n",
    "cols_to_ohe_ = [col+\"_index\" for col in cols_to_ohe]\n",
    "cols_to_ohe_"
   ]
  },
  {
   "cell_type": "code",
   "execution_count": 63,
   "metadata": {
    "colab": {
     "base_uri": "https://localhost:8080/"
    },
    "executionInfo": {
     "elapsed": 857509,
     "status": "ok",
     "timestamp": 1606640784079,
     "user": {
      "displayName": "Saruk Shaikh",
      "photoUrl": "https://lh3.googleusercontent.com/a-/AOh14Ghv-rUYie3uSseucKXRotW62K0IYvrJgTooV-W8=s64",
      "userId": "04024120848573542282"
     },
     "user_tz": -330
    },
    "id": "GFGuqeo3xfkS",
    "outputId": "253c45d2-96d0-43ad-c59c-0b6cba456bb3"
   },
   "outputs": [
    {
     "data": {
      "text/plain": [
       "[Row(time_in_hospital=3.0, num_lab_procedures=59.0, num_medications=18.0, number_emergency=0.0, number_inpatient=0.0, diag_1=276.0, diag_2=250.01, diag_3=255.0, number_diagnoses=9.0, race_index=0.0, gender_index=0.0, age_index=8.0, admission_type_id_index=0.0, discharge_disposition_id_index=0.0, admission_source_id_index=0.0, num_procedures_index=0.0, number_outpatient_index=0.0, max_glu_serum_index=0.0, A1Cresult_index=0.0, metformin_index=0.0, glimepiride_index=0.0, glipizide_index=0.0, glyburide_index=0.0, pioglitazone_index=0.0, rosiglitazone_index=0.0, insulin_index=3.0, change_index=1.0, diabetesMed_index=0.0, readmitted=1.0, metformin_index_vector=SparseVector(3, {0: 1.0}), admission_source_id_index_vector=SparseVector(15, {0: 1.0}), rosiglitazone_index_vector=SparseVector(3, {0: 1.0}), glimepiride_index_vector=SparseVector(3, {0: 1.0}), discharge_disposition_id_index_vector=SparseVector(25, {0: 1.0}), glipizide_index_vector=SparseVector(3, {0: 1.0}), max_glu_serum_index_vector=SparseVector(3, {0: 1.0}), gender_index_vector=SparseVector(2, {0: 1.0}), number_outpatient_index_vector=SparseVector(38, {0: 1.0}), race_index_vector=SparseVector(4, {0: 1.0}), diabetesMed_index_vector=SparseVector(1, {0: 1.0}), admission_type_id_index_vector=SparseVector(7, {0: 1.0}), A1Cresult_index_vector=SparseVector(3, {0: 1.0}), change_index_vector=SparseVector(1, {}), glyburide_index_vector=SparseVector(3, {0: 1.0}), age_index_vector=SparseVector(9, {8: 1.0}), insulin_index_vector=SparseVector(3, {}), pioglitazone_index_vector=SparseVector(3, {0: 1.0}), num_procedures_index_vector=SparseVector(6, {0: 1.0}))]"
      ]
     },
     "execution_count": 63,
     "metadata": {
      "tags": []
     },
     "output_type": "execute_result"
    }
   ],
   "source": [
    "output_ohe_cols = [x+\"_vector\" for x in cols_to_ohe_]\n",
    "\n",
    "from pyspark.ml.feature import OneHotEncoderEstimator\n",
    "encoder = OneHotEncoderEstimator(inputCols=cols_to_ohe_,\n",
    "                                 outputCols=output_ohe_cols)\n",
    "\n",
    "model_ohe = encoder.fit(diabetes_indexed)\n",
    "diabetes_ohe = model_ohe.transform(diabetes_indexed)\n",
    "diabetes_ohe.take(1)"
   ]
  },
  {
   "cell_type": "code",
   "execution_count": 64,
   "metadata": {
    "colab": {
     "base_uri": "https://localhost:8080/"
    },
    "executionInfo": {
     "elapsed": 857509,
     "status": "ok",
     "timestamp": 1606640784084,
     "user": {
      "displayName": "Saruk Shaikh",
      "photoUrl": "https://lh3.googleusercontent.com/a-/AOh14Ghv-rUYie3uSseucKXRotW62K0IYvrJgTooV-W8=s64",
      "userId": "04024120848573542282"
     },
     "user_tz": -330
    },
    "id": "yqThqhU_xhpv",
    "outputId": "1ca9f249-6542-4d79-b189-594978d366de"
   },
   "outputs": [
    {
     "data": {
      "text/plain": [
       "DataFrame[time_in_hospital: double, num_lab_procedures: double, num_medications: double, number_emergency: double, number_inpatient: double, diag_1: double, diag_2: double, diag_3: double, number_diagnoses: double, readmitted: double, metformin_index_vector: vector, admission_source_id_index_vector: vector, rosiglitazone_index_vector: vector, glimepiride_index_vector: vector, discharge_disposition_id_index_vector: vector, glipizide_index_vector: vector, max_glu_serum_index_vector: vector, gender_index_vector: vector, number_outpatient_index_vector: vector, race_index_vector: vector, diabetesMed_index_vector: vector, admission_type_id_index_vector: vector, A1Cresult_index_vector: vector, change_index_vector: vector, glyburide_index_vector: vector, age_index_vector: vector, insulin_index_vector: vector, pioglitazone_index_vector: vector, num_procedures_index_vector: vector]"
      ]
     },
     "execution_count": 64,
     "metadata": {
      "tags": []
     },
     "output_type": "execute_result"
    }
   ],
   "source": [
    "diabetes_ohe = diabetes_ohe.drop('race_index',\n",
    " 'gender_index',\n",
    " 'age_index',\n",
    " 'admission_type_id_index',\n",
    " 'discharge_disposition_id_index',\n",
    " 'admission_source_id_index',\n",
    " 'num_procedures_index',\n",
    " 'number_outpatient_index',\n",
    " 'max_glu_serum_index',\n",
    " 'A1Cresult_index',\n",
    " 'metformin_index',\n",
    " 'glimepiride_index',\n",
    " 'glipizide_index',\n",
    " 'glyburide_index',\n",
    " 'pioglitazone_index',\n",
    " 'rosiglitazone_index',\n",
    " 'insulin_index',\n",
    " 'change_index',\n",
    " 'diabetesMed_index')\n",
    "diabetes_ohe"
   ]
  },
  {
   "cell_type": "code",
   "execution_count": 65,
   "metadata": {
    "colab": {
     "base_uri": "https://localhost:8080/"
    },
    "executionInfo": {
     "elapsed": 863672,
     "status": "ok",
     "timestamp": 1606640790252,
     "user": {
      "displayName": "Saruk Shaikh",
      "photoUrl": "https://lh3.googleusercontent.com/a-/AOh14Ghv-rUYie3uSseucKXRotW62K0IYvrJgTooV-W8=s64",
      "userId": "04024120848573542282"
     },
     "user_tz": -330
    },
    "id": "SKnmrJilbmNn",
    "outputId": "ee9a8515-4b15-4773-ed65-95059f39a4f6"
   },
   "outputs": [
    {
     "name": "stdout",
     "output_type": "stream",
     "text": [
      "+----------+--------------------+\n",
      "|readmitted|            features|\n",
      "+----------+--------------------+\n",
      "|       1.0|(144,[0,1,2,5,6,7...|\n",
      "|       0.0|(144,[0,1,2,5,6,7...|\n",
      "|       0.0|(144,[0,1,2,5,6,7...|\n",
      "|       1.0|(144,[0,1,2,5,6,7...|\n",
      "|       1.0|(144,[0,1,2,5,6,7...|\n",
      "+----------+--------------------+\n",
      "only showing top 5 rows\n",
      "\n"
     ]
    }
   ],
   "source": [
    "# The following code will take in all of these columns and convert it to 1 column named \"features\" which will store data of\n",
    "# ALL features for 1 record (row)\n",
    "\n",
    "from pyspark.ml.feature import VectorAssembler\n",
    "\n",
    "assembler = VectorAssembler(\n",
    "    inputCols=['time_in_hospital',\n",
    " 'num_lab_procedures',\n",
    " 'num_medications',\n",
    " 'number_emergency',\n",
    " 'number_inpatient',\n",
    " 'diag_1',\n",
    " 'diag_2',\n",
    " 'diag_3',\n",
    " 'number_diagnoses',\n",
    " 'metformin_index_vector',\n",
    " 'admission_source_id_index_vector',\n",
    " 'rosiglitazone_index_vector',\n",
    " 'glimepiride_index_vector',\n",
    " 'discharge_disposition_id_index_vector',\n",
    " 'glipizide_index_vector',\n",
    " 'max_glu_serum_index_vector',\n",
    " 'gender_index_vector',\n",
    " 'number_outpatient_index_vector',\n",
    " 'race_index_vector',\n",
    " 'diabetesMed_index_vector',\n",
    " 'admission_type_id_index_vector',\n",
    " 'A1Cresult_index_vector',\n",
    " 'change_index_vector',\n",
    " 'glyburide_index_vector',\n",
    " 'age_index_vector',\n",
    " 'insulin_index_vector',\n",
    " 'pioglitazone_index_vector',\n",
    " 'num_procedures_index_vector'],\n",
    "    outputCol=\"features\")\n",
    "\n",
    "output = assembler.transform(diabetes_ohe)\n",
    "\n",
    "output = output.drop('time_in_hospital',\n",
    " 'num_lab_procedures',\n",
    " 'num_medications',\n",
    " 'number_emergency',\n",
    " 'number_inpatient',\n",
    " 'diag_1',\n",
    " 'diag_2',\n",
    " 'diag_3',\n",
    " 'number_diagnoses',\n",
    " 'metformin_index_vector',\n",
    " 'admission_source_id_index_vector',\n",
    " 'rosiglitazone_index_vector',\n",
    " 'glimepiride_index_vector',\n",
    " 'discharge_disposition_id_index_vector',\n",
    " 'glipizide_index_vector',\n",
    " 'max_glu_serum_index_vector',\n",
    " 'gender_index_vector',\n",
    " 'number_outpatient_index_vector',\n",
    " 'race_index_vector',\n",
    " 'diabetesMed_index_vector',\n",
    " 'admission_type_id_index_vector',\n",
    " 'A1Cresult_index_vector',\n",
    " 'change_index_vector',\n",
    " 'glyburide_index_vector',\n",
    " 'age_index_vector',\n",
    " 'insulin_index_vector',\n",
    " 'pioglitazone_index_vector',\n",
    " 'num_procedures_index_vector')\n",
    "\n",
    "output.show(5)\n"
   ]
  },
  {
   "cell_type": "markdown",
   "metadata": {
    "id": "hk8uQIEzfGHg"
   },
   "source": [
    "#### RANDOM FOREST"
   ]
  },
  {
   "cell_type": "code",
   "execution_count": 66,
   "metadata": {
    "colab": {
     "base_uri": "https://localhost:8080/"
    },
    "executionInfo": {
     "elapsed": 963373,
     "status": "ok",
     "timestamp": 1606640889958,
     "user": {
      "displayName": "Saruk Shaikh",
      "photoUrl": "https://lh3.googleusercontent.com/a-/AOh14Ghv-rUYie3uSseucKXRotW62K0IYvrJgTooV-W8=s64",
      "userId": "04024120848573542282"
     },
     "user_tz": -330
    },
    "id": "QZ2I9-HtfDAh",
    "outputId": "3801c43d-319f-458a-fefd-1ab0086ec6ae"
   },
   "outputs": [
    {
     "name": "stdout",
     "output_type": "stream",
     "text": [
      "Accuracy = 0.628925\n"
     ]
    }
   ],
   "source": [
    "from pyspark.ml.classification import RandomForestClassifier\n",
    "from pyspark.ml.evaluation import MulticlassClassificationEvaluator\n",
    "\n",
    "training, testing = output.randomSplit([0.8,0.2])\n",
    "rf = RandomForestClassifier(numTrees=100, maxDepth=6, labelCol=\"readmitted\", seed=42,\n",
    "                           featureSubsetStrategy='onethird')\n",
    "model = rf.fit(training)\n",
    "\n",
    "predictions = model.transform(testing)\n",
    "\n",
    "# Select (prediction, true label) and compute test error\n",
    "evaluator = MulticlassClassificationEvaluator(\n",
    "    labelCol=\"readmitted\", predictionCol=\"prediction\", metricName=\"accuracy\")\n",
    "\n",
    "accuracy = evaluator.evaluate(predictions)\n",
    "print(\"Accuracy = %g\" % accuracy)"
   ]
  },
  {
   "cell_type": "code",
   "execution_count": 67,
   "metadata": {
    "colab": {
     "base_uri": "https://localhost:8080/",
     "height": 255
    },
    "executionInfo": {
     "elapsed": 971369,
     "status": "ok",
     "timestamp": 1606640897959,
     "user": {
      "displayName": "Saruk Shaikh",
      "photoUrl": "https://lh3.googleusercontent.com/a-/AOh14Ghv-rUYie3uSseucKXRotW62K0IYvrJgTooV-W8=s64",
      "userId": "04024120848573542282"
     },
     "user_tz": -330
    },
    "id": "RXERW9KqYvmc",
    "outputId": "dc9b43da-a3b1-4680-918e-e1ff77bdfe60"
   },
   "outputs": [
    {
     "data": {
      "text/html": [
       "<div>\n",
       "<style scoped>\n",
       "    .dataframe tbody tr th:only-of-type {\n",
       "        vertical-align: middle;\n",
       "    }\n",
       "\n",
       "    .dataframe tbody tr th {\n",
       "        vertical-align: top;\n",
       "    }\n",
       "\n",
       "    .dataframe thead th {\n",
       "        text-align: right;\n",
       "    }\n",
       "</style>\n",
       "<table border=\"1\" class=\"dataframe\">\n",
       "  <thead>\n",
       "    <tr style=\"text-align: right;\">\n",
       "      <th></th>\n",
       "      <th>0</th>\n",
       "      <th>1</th>\n",
       "      <th>2</th>\n",
       "      <th>3</th>\n",
       "      <th>4</th>\n",
       "    </tr>\n",
       "  </thead>\n",
       "  <tbody>\n",
       "    <tr>\n",
       "      <th>readmitted</th>\n",
       "      <td>0</td>\n",
       "      <td>0</td>\n",
       "      <td>0</td>\n",
       "      <td>0</td>\n",
       "      <td>0</td>\n",
       "    </tr>\n",
       "    <tr>\n",
       "      <th>features</th>\n",
       "      <td>(1.0, 73.0, 18.0, 1.0, 1.0, 414.0, 411.0, 428....</td>\n",
       "      <td>(3.0, 68.0, 11.0, 1.0, 1.0, 250.1, 682.0, 459....</td>\n",
       "      <td>(1.0, 58.0, 9.0, 1.0, 1.0, 785.0, 411.0, 250.0...</td>\n",
       "      <td>(4.0, 63.0, 17.0, 1.0, 2.0, 518.0, 428.0, 425....</td>\n",
       "      <td>(1.0, 43.0, 6.0, 2.0, 1.0, 560.0, 276.0, 276.0...</td>\n",
       "    </tr>\n",
       "    <tr>\n",
       "      <th>rawPrediction</th>\n",
       "      <td>[38.34541639282579, 61.654583607174196]</td>\n",
       "      <td>[38.72874009036157, 61.27125990963842]</td>\n",
       "      <td>[39.41151983150862, 60.58848016849137]</td>\n",
       "      <td>[29.083848245312918, 70.91615175468705]</td>\n",
       "      <td>[38.22785117526562, 61.772148824734394]</td>\n",
       "    </tr>\n",
       "    <tr>\n",
       "      <th>probability</th>\n",
       "      <td>[0.38345416392825793, 0.6165458360717421]</td>\n",
       "      <td>[0.38728740090361574, 0.6127125990963842]</td>\n",
       "      <td>[0.3941151983150862, 0.6058848016849138]</td>\n",
       "      <td>[0.29083848245312927, 0.7091615175468707]</td>\n",
       "      <td>[0.38227851175265615, 0.6177214882473439]</td>\n",
       "    </tr>\n",
       "    <tr>\n",
       "      <th>prediction</th>\n",
       "      <td>1</td>\n",
       "      <td>1</td>\n",
       "      <td>1</td>\n",
       "      <td>1</td>\n",
       "      <td>1</td>\n",
       "    </tr>\n",
       "  </tbody>\n",
       "</table>\n",
       "</div>"
      ],
      "text/plain": [
       "                                                               0  ...                                                  4\n",
       "readmitted                                                     0  ...                                                  0\n",
       "features       (1.0, 73.0, 18.0, 1.0, 1.0, 414.0, 411.0, 428....  ...  (1.0, 43.0, 6.0, 2.0, 1.0, 560.0, 276.0, 276.0...\n",
       "rawPrediction            [38.34541639282579, 61.654583607174196]  ...            [38.22785117526562, 61.772148824734394]\n",
       "probability            [0.38345416392825793, 0.6165458360717421]  ...          [0.38227851175265615, 0.6177214882473439]\n",
       "prediction                                                     1  ...                                                  1\n",
       "\n",
       "[5 rows x 5 columns]"
      ]
     },
     "execution_count": 67,
     "metadata": {
      "tags": []
     },
     "output_type": "execute_result"
    }
   ],
   "source": [
    "pd.DataFrame(predictions.take(5), columns=predictions.columns).transpose()"
   ]
  },
  {
   "cell_type": "markdown",
   "metadata": {
    "id": "pqr6CwoEbYIg"
   },
   "source": [
    "### FEATURE IMPORTANCES"
   ]
  },
  {
   "cell_type": "code",
   "execution_count": 68,
   "metadata": {
    "colab": {
     "base_uri": "https://localhost:8080/"
    },
    "executionInfo": {
     "elapsed": 971374,
     "status": "ok",
     "timestamp": 1606640897970,
     "user": {
      "displayName": "Saruk Shaikh",
      "photoUrl": "https://lh3.googleusercontent.com/a-/AOh14Ghv-rUYie3uSseucKXRotW62K0IYvrJgTooV-W8=s64",
      "userId": "04024120848573542282"
     },
     "user_tz": -330
    },
    "id": "awu5XaY3bWYZ",
    "outputId": "4bce2b52-1b36-4c47-9f32-f37a8fdee622"
   },
   "outputs": [
    {
     "data": {
      "text/plain": [
       "SparseVector(144, {0: 0.004, 1: 0.0048, 2: 0.0136, 3: 0.1096, 4: 0.4867, 5: 0.0018, 6: 0.0018, 7: 0.0058, 8: 0.0672, 9: 0.0002, 10: 0.0003, 11: 0.0, 12: 0.018, 13: 0.0003, 14: 0.0002, 15: 0.0077, 16: 0.0038, 17: 0.0001, 18: 0.0003, 20: 0.0, 27: 0.0, 28: 0.0002, 30: 0.0002, 31: 0.0001, 32: 0.0, 33: 0.0041, 34: 0.0008, 35: 0.0036, 36: 0.0, 37: 0.0001, 38: 0.0004, 39: 0.1685, 40: 0.0003, 41: 0.0001, 42: 0.0001, 43: 0.0, 44: 0.0001, 45: 0.0071, 46: 0.0089, 47: 0.0, 48: 0.0, 49: 0.0, 51: 0.0, 58: 0.0002, 59: 0.0001, 60: 0.0, 61: 0.0015, 62: 0.0003, 63: 0.0003, 64: 0.0001, 65: 0.0001, 66: 0.0447, 67: 0.0061, 68: 0.0004, 69: 0.0001, 70: 0.0001, 71: 0.0, 72: 0.0, 73: 0.0001, 75: 0.0, 76: 0.0, 79: 0.0, 81: 0.0, 85: 0.0, 104: 0.0005, 105: 0.0001, 106: 0.0002, 107: 0.0001, 108: 0.005, 109: 0.0006, 110: 0.0007, 111: 0.0023, 112: 0.0028, 113: 0.0004, 114: 0.0001, 116: 0.0003, 117: 0.0003, 118: 0.0002, 119: 0.0003, 120: 0.0, 121: 0.0001, 122: 0.0001, 123: 0.0014, 124: 0.0001, 125: 0.0006, 126: 0.0004, 127: 0.0003, 128: 0.0002, 129: 0.0021, 130: 0.0002, 131: 0.0001, 132: 0.0002, 133: 0.0001, 134: 0.0011, 135: 0.0001, 136: 0.0001, 137: 0.0001, 138: 0.0025, 139: 0.0001, 140: 0.0002, 141: 0.0004, 142: 0.0001, 143: 0.0002})"
      ]
     },
     "execution_count": 68,
     "metadata": {
      "tags": []
     },
     "output_type": "execute_result"
    }
   ],
   "source": [
    "model.featureImportances"
   ]
  },
  {
   "cell_type": "markdown",
   "metadata": {
    "id": "pPW-I118YrMV"
   },
   "source": [
    "### Logistic Regression"
   ]
  },
  {
   "cell_type": "code",
   "execution_count": 69,
   "metadata": {
    "colab": {
     "base_uri": "https://localhost:8080/"
    },
    "executionInfo": {
     "elapsed": 1009447,
     "status": "ok",
     "timestamp": 1606640936049,
     "user": {
      "displayName": "Saruk Shaikh",
      "photoUrl": "https://lh3.googleusercontent.com/a-/AOh14Ghv-rUYie3uSseucKXRotW62K0IYvrJgTooV-W8=s64",
      "userId": "04024120848573542282"
     },
     "user_tz": -330
    },
    "id": "9lek3Kz7hjQg",
    "outputId": "a1107af2-804c-49f6-ac67-743534aa36da"
   },
   "outputs": [
    {
     "name": "stdout",
     "output_type": "stream",
     "text": [
      "Accuracy = 0.530987\n"
     ]
    }
   ],
   "source": [
    "from pyspark.ml.classification import LogisticRegression\n",
    "lr = LogisticRegression(maxIter=100, regParam=0.3, elasticNetParam=0.8, labelCol=\"readmitted\", \n",
    "                        featuresCol=\"features\")\n",
    "lrModel = lr.fit(training)\n",
    "\n",
    "preds_lr = lrModel.transform(testing)\n",
    "\n",
    "# Select (prediction, true label) and compute test error\n",
    "evaluator = MulticlassClassificationEvaluator(\n",
    "    labelCol=\"readmitted\", predictionCol=\"prediction\", metricName=\"accuracy\")\n",
    "\n",
    "accuracy = evaluator.evaluate(preds_lr)\n",
    "print(\"Accuracy = %g\" % accuracy)"
   ]
  },
  {
   "cell_type": "code",
   "execution_count": 70,
   "metadata": {
    "colab": {
     "base_uri": "https://localhost:8080/",
     "height": 255
    },
    "executionInfo": {
     "elapsed": 1016173,
     "status": "ok",
     "timestamp": 1606640942780,
     "user": {
      "displayName": "Saruk Shaikh",
      "photoUrl": "https://lh3.googleusercontent.com/a-/AOh14Ghv-rUYie3uSseucKXRotW62K0IYvrJgTooV-W8=s64",
      "userId": "04024120848573542282"
     },
     "user_tz": -330
    },
    "id": "ijQzvY1lYnaA",
    "outputId": "00ac8749-5c44-4c09-d6dd-1834b4a3081d"
   },
   "outputs": [
    {
     "data": {
      "text/html": [
       "<div>\n",
       "<style scoped>\n",
       "    .dataframe tbody tr th:only-of-type {\n",
       "        vertical-align: middle;\n",
       "    }\n",
       "\n",
       "    .dataframe tbody tr th {\n",
       "        vertical-align: top;\n",
       "    }\n",
       "\n",
       "    .dataframe thead th {\n",
       "        text-align: right;\n",
       "    }\n",
       "</style>\n",
       "<table border=\"1\" class=\"dataframe\">\n",
       "  <thead>\n",
       "    <tr style=\"text-align: right;\">\n",
       "      <th></th>\n",
       "      <th>0</th>\n",
       "      <th>1</th>\n",
       "      <th>2</th>\n",
       "      <th>3</th>\n",
       "      <th>4</th>\n",
       "    </tr>\n",
       "  </thead>\n",
       "  <tbody>\n",
       "    <tr>\n",
       "      <th>readmitted</th>\n",
       "      <td>0</td>\n",
       "      <td>0</td>\n",
       "      <td>0</td>\n",
       "      <td>0</td>\n",
       "      <td>0</td>\n",
       "    </tr>\n",
       "    <tr>\n",
       "      <th>features</th>\n",
       "      <td>(1.0, 73.0, 18.0, 1.0, 1.0, 414.0, 411.0, 428....</td>\n",
       "      <td>(3.0, 68.0, 11.0, 1.0, 1.0, 250.1, 682.0, 459....</td>\n",
       "      <td>(1.0, 58.0, 9.0, 1.0, 1.0, 785.0, 411.0, 250.0...</td>\n",
       "      <td>(4.0, 63.0, 17.0, 1.0, 2.0, 518.0, 428.0, 425....</td>\n",
       "      <td>(1.0, 43.0, 6.0, 2.0, 1.0, 560.0, 276.0, 276.0...</td>\n",
       "    </tr>\n",
       "    <tr>\n",
       "      <th>rawPrediction</th>\n",
       "      <td>[0.13706348441922514, -0.13706348441922514]</td>\n",
       "      <td>[0.13706348441922514, -0.13706348441922514]</td>\n",
       "      <td>[0.13706348441922514, -0.13706348441922514]</td>\n",
       "      <td>[0.13706348441922514, -0.13706348441922514]</td>\n",
       "      <td>[0.13706348441922514, -0.13706348441922514]</td>\n",
       "    </tr>\n",
       "    <tr>\n",
       "      <th>probability</th>\n",
       "      <td>[0.5342123273321508, 0.46578767266784915]</td>\n",
       "      <td>[0.5342123273321508, 0.46578767266784915]</td>\n",
       "      <td>[0.5342123273321508, 0.46578767266784915]</td>\n",
       "      <td>[0.5342123273321508, 0.46578767266784915]</td>\n",
       "      <td>[0.5342123273321508, 0.46578767266784915]</td>\n",
       "    </tr>\n",
       "    <tr>\n",
       "      <th>prediction</th>\n",
       "      <td>0</td>\n",
       "      <td>0</td>\n",
       "      <td>0</td>\n",
       "      <td>0</td>\n",
       "      <td>0</td>\n",
       "    </tr>\n",
       "  </tbody>\n",
       "</table>\n",
       "</div>"
      ],
      "text/plain": [
       "                                                               0  ...                                                  4\n",
       "readmitted                                                     0  ...                                                  0\n",
       "features       (1.0, 73.0, 18.0, 1.0, 1.0, 414.0, 411.0, 428....  ...  (1.0, 43.0, 6.0, 2.0, 1.0, 560.0, 276.0, 276.0...\n",
       "rawPrediction        [0.13706348441922514, -0.13706348441922514]  ...        [0.13706348441922514, -0.13706348441922514]\n",
       "probability            [0.5342123273321508, 0.46578767266784915]  ...          [0.5342123273321508, 0.46578767266784915]\n",
       "prediction                                                     0  ...                                                  0\n",
       "\n",
       "[5 rows x 5 columns]"
      ]
     },
     "execution_count": 70,
     "metadata": {
      "tags": []
     },
     "output_type": "execute_result"
    }
   ],
   "source": [
    "pd.DataFrame(preds_lr.take(5), columns=preds_lr.columns).transpose()"
   ]
  },
  {
   "cell_type": "markdown",
   "metadata": {
    "id": "8BoKv9eq30Xj"
   },
   "source": [
    "### ROC"
   ]
  },
  {
   "cell_type": "code",
   "execution_count": 71,
   "metadata": {
    "colab": {
     "base_uri": "https://localhost:8080/",
     "height": 316
    },
    "executionInfo": {
     "elapsed": 1030189,
     "status": "ok",
     "timestamp": 1606640956800,
     "user": {
      "displayName": "Saruk Shaikh",
      "photoUrl": "https://lh3.googleusercontent.com/a-/AOh14Ghv-rUYie3uSseucKXRotW62K0IYvrJgTooV-W8=s64",
      "userId": "04024120848573542282"
     },
     "user_tz": -330
    },
    "id": "cJmDpsPh339z",
    "outputId": "fa85e91a-10fe-41f4-8cf0-f92de695861b"
   },
   "outputs": [
    {
     "data": {
      "image/png": "[encoded data removed]",
      "text/plain": [
       "<Figure size 432x288 with 1 Axes>"
      ]
     },
     "metadata": {
      "tags": []
     },
     "output_type": "display_data"
    },
    {
     "name": "stdout",
     "output_type": "stream",
     "text": [
      "Training set areaUnderROC: 0.5\n"
     ]
    }
   ],
   "source": [
    "trainingSummary = lrModel.summary\n",
    "roc = trainingSummary.roc.toPandas()\n",
    "plt.plot(roc['FPR'],roc['TPR'])\n",
    "plt.ylabel('False Positive Rate')\n",
    "plt.xlabel('True Positive Rate')\n",
    "plt.title('ROC Curve')\n",
    "plt.show()\n",
    "print('Training set areaUnderROC: ' + str(trainingSummary.areaUnderROC))"
   ]
  },
  {
   "cell_type": "markdown",
   "metadata": {
    "id": "M0_3PSaww7Ck"
   },
   "source": [
    "### Gradient Boosting Model"
   ]
  },
  {
   "cell_type": "code",
   "execution_count": 72,
   "metadata": {
    "colab": {
     "base_uri": "https://localhost:8080/"
    },
    "executionInfo": {
     "elapsed": 1188719,
     "status": "ok",
     "timestamp": 1606641115336,
     "user": {
      "displayName": "Saruk Shaikh",
      "photoUrl": "https://lh3.googleusercontent.com/a-/AOh14Ghv-rUYie3uSseucKXRotW62K0IYvrJgTooV-W8=s64",
      "userId": "04024120848573542282"
     },
     "user_tz": -330
    },
    "id": "DfJniGWUnGro",
    "outputId": "a3f4a425-3e51-4c70-8ce9-83921746c533"
   },
   "outputs": [
    {
     "name": "stdout",
     "output_type": "stream",
     "text": [
      "Accuracy = 0.642123\n"
     ]
    }
   ],
   "source": [
    "from pyspark.ml.classification import GBTClassifier\n",
    "gbt = GBTClassifier(maxIter=100, labelCol=\"readmitted\",featuresCol=\"features\")\n",
    "gbtModel = gbt.fit(training)\n",
    "\n",
    "preds_gb = gbtModel.transform(testing)\n",
    "\n",
    "# Select (prediction, true label) and compute test error\n",
    "evaluator = MulticlassClassificationEvaluator(\n",
    "    labelCol=\"readmitted\", predictionCol=\"prediction\", metricName=\"accuracy\")\n",
    "\n",
    "accuracy = evaluator.evaluate(preds_gb)\n",
    "print(\"Accuracy = %g\" % accuracy)"
   ]
  },
  {
   "cell_type": "code",
   "execution_count": 73,
   "metadata": {
    "colab": {
     "base_uri": "https://localhost:8080/",
     "height": 255
    },
    "executionInfo": {
     "elapsed": 1195278,
     "status": "ok",
     "timestamp": 1606641121901,
     "user": {
      "displayName": "Saruk Shaikh",
      "photoUrl": "https://lh3.googleusercontent.com/a-/AOh14Ghv-rUYie3uSseucKXRotW62K0IYvrJgTooV-W8=s64",
      "userId": "04024120848573542282"
     },
     "user_tz": -330
    },
    "id": "htXl-jZsYfBN",
    "outputId": "e2ac1524-bbba-43ab-fc86-acfbbd62face"
   },
   "outputs": [
    {
     "data": {
      "text/html": [
       "<div>\n",
       "<style scoped>\n",
       "    .dataframe tbody tr th:only-of-type {\n",
       "        vertical-align: middle;\n",
       "    }\n",
       "\n",
       "    .dataframe tbody tr th {\n",
       "        vertical-align: top;\n",
       "    }\n",
       "\n",
       "    .dataframe thead th {\n",
       "        text-align: right;\n",
       "    }\n",
       "</style>\n",
       "<table border=\"1\" class=\"dataframe\">\n",
       "  <thead>\n",
       "    <tr style=\"text-align: right;\">\n",
       "      <th></th>\n",
       "      <th>0</th>\n",
       "      <th>1</th>\n",
       "      <th>2</th>\n",
       "      <th>3</th>\n",
       "      <th>4</th>\n",
       "    </tr>\n",
       "  </thead>\n",
       "  <tbody>\n",
       "    <tr>\n",
       "      <th>readmitted</th>\n",
       "      <td>0</td>\n",
       "      <td>0</td>\n",
       "      <td>0</td>\n",
       "      <td>0</td>\n",
       "      <td>0</td>\n",
       "    </tr>\n",
       "    <tr>\n",
       "      <th>features</th>\n",
       "      <td>(1.0, 73.0, 18.0, 1.0, 1.0, 414.0, 411.0, 428....</td>\n",
       "      <td>(3.0, 68.0, 11.0, 1.0, 1.0, 250.1, 682.0, 459....</td>\n",
       "      <td>(1.0, 58.0, 9.0, 1.0, 1.0, 785.0, 411.0, 250.0...</td>\n",
       "      <td>(4.0, 63.0, 17.0, 1.0, 2.0, 518.0, 428.0, 425....</td>\n",
       "      <td>(1.0, 43.0, 6.0, 2.0, 1.0, 560.0, 276.0, 276.0...</td>\n",
       "    </tr>\n",
       "    <tr>\n",
       "      <th>rawPrediction</th>\n",
       "      <td>[-0.2294567089139915, 0.2294567089139915]</td>\n",
       "      <td>[-0.1970429278011346, 0.1970429278011346]</td>\n",
       "      <td>[-0.10827441399478083, 0.10827441399478083]</td>\n",
       "      <td>[-0.4273797802078455, 0.4273797802078455]</td>\n",
       "      <td>[-0.0447337593928132, 0.0447337593928132]</td>\n",
       "    </tr>\n",
       "    <tr>\n",
       "      <th>probability</th>\n",
       "      <td>[0.38724362298665493, 0.6127563770133451]</td>\n",
       "      <td>[0.40273410230287954, 0.5972658976971205]</td>\n",
       "      <td>[0.44607336208004017, 0.5539266379199599]</td>\n",
       "      <td>[0.2984353851907016, 0.7015646148092984]</td>\n",
       "      <td>[0.4776480278941515, 0.5223519721058485]</td>\n",
       "    </tr>\n",
       "    <tr>\n",
       "      <th>prediction</th>\n",
       "      <td>1</td>\n",
       "      <td>1</td>\n",
       "      <td>1</td>\n",
       "      <td>1</td>\n",
       "      <td>1</td>\n",
       "    </tr>\n",
       "  </tbody>\n",
       "</table>\n",
       "</div>"
      ],
      "text/plain": [
       "                                                               0  ...                                                  4\n",
       "readmitted                                                     0  ...                                                  0\n",
       "features       (1.0, 73.0, 18.0, 1.0, 1.0, 414.0, 411.0, 428....  ...  (1.0, 43.0, 6.0, 2.0, 1.0, 560.0, 276.0, 276.0...\n",
       "rawPrediction          [-0.2294567089139915, 0.2294567089139915]  ...          [-0.0447337593928132, 0.0447337593928132]\n",
       "probability            [0.38724362298665493, 0.6127563770133451]  ...           [0.4776480278941515, 0.5223519721058485]\n",
       "prediction                                                     1  ...                                                  1\n",
       "\n",
       "[5 rows x 5 columns]"
      ]
     },
     "execution_count": 73,
     "metadata": {
      "tags": []
     },
     "output_type": "execute_result"
    }
   ],
   "source": [
    "pd.DataFrame(preds_gb.take(5), columns=preds_gb.columns).transpose()"
   ]
  },
  {
   "cell_type": "markdown",
   "metadata": {
    "id": "rVyuKvqkbhRv"
   },
   "source": [
    "### FEATURE IMPORTANCES"
   ]
  },
  {
   "cell_type": "code",
   "execution_count": 74,
   "metadata": {
    "colab": {
     "base_uri": "https://localhost:8080/"
    },
    "executionInfo": {
     "elapsed": 1195275,
     "status": "ok",
     "timestamp": 1606641121904,
     "user": {
      "displayName": "Saruk Shaikh",
      "photoUrl": "https://lh3.googleusercontent.com/a-/AOh14Ghv-rUYie3uSseucKXRotW62K0IYvrJgTooV-W8=s64",
      "userId": "04024120848573542282"
     },
     "user_tz": -330
    },
    "id": "yzai0P5aZ7y2",
    "outputId": "147cc130-f6a4-43fd-fb31-82e295bb1a16"
   },
   "outputs": [
    {
     "data": {
      "text/plain": [
       "SparseVector(144, {0: 0.0407, 1: 0.0541, 2: 0.0616, 3: 0.0217, 4: 0.0565, 5: 0.0911, 6: 0.0794, 7: 0.0519, 8: 0.0275, 9: 0.0091, 10: 0.0011, 11: 0.0018, 12: 0.0086, 13: 0.0092, 14: 0.0037, 15: 0.0121, 16: 0.0081, 17: 0.0031, 18: 0.0052, 19: 0.0008, 20: 0.0029, 27: 0.003, 28: 0.0037, 29: 0.0014, 30: 0.002, 31: 0.0014, 32: 0.0011, 33: 0.0242, 34: 0.0063, 35: 0.0092, 36: 0.0072, 37: 0.0041, 38: 0.0073, 39: 0.0488, 40: 0.0058, 41: 0.0018, 42: 0.0008, 43: 0.0003, 44: 0.0057, 45: 0.0151, 46: 0.021, 47: 0.0025, 48: 0.0036, 49: 0.0021, 50: 0.0004, 54: 0.0032, 56: 0.0007, 58: 0.003, 59: 0.0021, 60: 0.0015, 61: 0.0046, 62: 0.0036, 63: 0.0022, 64: 0.0076, 66: 0.0142, 67: 0.0027, 68: 0.004, 69: 0.0036, 70: 0.0025, 71: 0.0008, 72: 0.0013, 73: 0.0012, 74: 0.0017, 75: 0.0004, 76: 0.0004, 78: 0.0002, 81: 0.0009, 82: 0.0004, 86: 0.001, 87: 0.0009, 90: 0.0006, 92: 0.0015, 104: 0.0084, 105: 0.0029, 106: 0.0029, 107: 0.0017, 108: 0.0078, 109: 0.0053, 110: 0.0065, 111: 0.006, 112: 0.0082, 113: 0.0037, 114: 0.0037, 115: 0.0053, 116: 0.0039, 117: 0.0026, 118: 0.0081, 119: 0.0042, 120: 0.0047, 121: 0.0037, 122: 0.0019, 123: 0.0113, 124: 0.0072, 125: 0.0069, 126: 0.0118, 127: 0.0045, 128: 0.0067, 129: 0.0063, 130: 0.003, 131: 0.0025, 132: 0.0012, 133: 0.0067, 134: 0.0056, 135: 0.0039, 136: 0.0014, 137: 0.0001, 138: 0.0108, 139: 0.0047, 140: 0.0058, 141: 0.004, 142: 0.0029, 143: 0.0055})"
      ]
     },
     "execution_count": 74,
     "metadata": {
      "tags": []
     },
     "output_type": "execute_result"
    }
   ],
   "source": [
    "gbtModel.featureImportances"
   ]
  },
  {
   "cell_type": "markdown",
   "metadata": {
    "id": "Nr_1hn1L7ioR"
   },
   "source": [
    "### Scaling Dataset"
   ]
  },
  {
   "cell_type": "code",
   "execution_count": 75,
   "metadata": {
    "executionInfo": {
     "elapsed": 1209278,
     "status": "ok",
     "timestamp": 1606641135912,
     "user": {
      "displayName": "Saruk Shaikh",
      "photoUrl": "https://lh3.googleusercontent.com/a-/AOh14Ghv-rUYie3uSseucKXRotW62K0IYvrJgTooV-W8=s64",
      "userId": "04024120848573542282"
     },
     "user_tz": -330
    },
    "id": "oelIB5Kpd47E"
   },
   "outputs": [],
   "source": [
    "from pyspark.ml.feature import StandardScaler\n",
    "scaler = StandardScaler(inputCol=\"features\", outputCol=\"scaled_features\")\n",
    "scaler_model = scaler.fit(output)\n",
    "scaled_data = scaler_model.transform(output)\n"
   ]
  },
  {
   "cell_type": "code",
   "execution_count": 76,
   "metadata": {
    "colab": {
     "base_uri": "https://localhost:8080/",
     "height": 176
    },
    "executionInfo": {
     "elapsed": 1214818,
     "status": "ok",
     "timestamp": 1606641141458,
     "user": {
      "displayName": "Saruk Shaikh",
      "photoUrl": "https://lh3.googleusercontent.com/a-/AOh14Ghv-rUYie3uSseucKXRotW62K0IYvrJgTooV-W8=s64",
      "userId": "04024120848573542282"
     },
     "user_tz": -330
    },
    "id": "v9Dyv7-Ysf4w",
    "outputId": "0ffb4be0-8df8-48e0-e871-dde30b467fd1"
   },
   "outputs": [
    {
     "data": {
      "text/html": [
       "<div>\n",
       "<style scoped>\n",
       "    .dataframe tbody tr th:only-of-type {\n",
       "        vertical-align: middle;\n",
       "    }\n",
       "\n",
       "    .dataframe tbody tr th {\n",
       "        vertical-align: top;\n",
       "    }\n",
       "\n",
       "    .dataframe thead th {\n",
       "        text-align: right;\n",
       "    }\n",
       "</style>\n",
       "<table border=\"1\" class=\"dataframe\">\n",
       "  <thead>\n",
       "    <tr style=\"text-align: right;\">\n",
       "      <th></th>\n",
       "      <th>0</th>\n",
       "      <th>1</th>\n",
       "      <th>2</th>\n",
       "      <th>3</th>\n",
       "      <th>4</th>\n",
       "    </tr>\n",
       "  </thead>\n",
       "  <tbody>\n",
       "    <tr>\n",
       "      <th>readmitted</th>\n",
       "      <td>1</td>\n",
       "      <td>0</td>\n",
       "      <td>0</td>\n",
       "      <td>1</td>\n",
       "      <td>1</td>\n",
       "    </tr>\n",
       "    <tr>\n",
       "      <th>features</th>\n",
       "      <td>(3.0, 59.0, 18.0, 0.0, 0.0, 276.0, 250.01, 255...</td>\n",
       "      <td>(2.0, 44.0, 16.0, 0.0, 0.0, 8.0, 250.43, 403.0...</td>\n",
       "      <td>(1.0, 51.0, 8.0, 0.0, 0.0, 197.0, 157.0, 250.0...</td>\n",
       "      <td>(3.0, 31.0, 16.0, 0.0, 0.0, 414.0, 411.0, 250....</td>\n",
       "      <td>(5.0, 73.0, 12.0, 0.0, 0.0, 428.0, 492.0, 250....</td>\n",
       "    </tr>\n",
       "    <tr>\n",
       "      <th>scaled_features</th>\n",
       "      <td>(1.0095397801133665, 2.987995726639875, 2.1989...</td>\n",
       "      <td>(0.6730265200755776, 2.2283357961382118, 1.954...</td>\n",
       "      <td>(0.3365132600377888, 2.5828437637056547, 0.977...</td>\n",
       "      <td>(1.0095397801133665, 1.569963856370104, 1.9546...</td>\n",
       "      <td>(1.682566300188944, 3.6970116617747606, 1.4659...</td>\n",
       "    </tr>\n",
       "  </tbody>\n",
       "</table>\n",
       "</div>"
      ],
      "text/plain": [
       "                                                                 0  ...                                                  4\n",
       "readmitted                                                       1  ...                                                  1\n",
       "features         (3.0, 59.0, 18.0, 0.0, 0.0, 276.0, 250.01, 255...  ...  (5.0, 73.0, 12.0, 0.0, 0.0, 428.0, 492.0, 250....\n",
       "scaled_features  (1.0095397801133665, 2.987995726639875, 2.1989...  ...  (1.682566300188944, 3.6970116617747606, 1.4659...\n",
       "\n",
       "[3 rows x 5 columns]"
      ]
     },
     "execution_count": 76,
     "metadata": {
      "tags": []
     },
     "output_type": "execute_result"
    }
   ],
   "source": [
    "pd.DataFrame(scaled_data.take(5), columns=scaled_data.columns).transpose()"
   ]
  },
  {
   "cell_type": "code",
   "execution_count": 77,
   "metadata": {
    "colab": {
     "base_uri": "https://localhost:8080/"
    },
    "executionInfo": {
     "elapsed": 1214819,
     "status": "ok",
     "timestamp": 1606641141464,
     "user": {
      "displayName": "Saruk Shaikh",
      "photoUrl": "https://lh3.googleusercontent.com/a-/AOh14Ghv-rUYie3uSseucKXRotW62K0IYvrJgTooV-W8=s64",
      "userId": "04024120848573542282"
     },
     "user_tz": -330
    },
    "id": "49ja_xr2rS6m",
    "outputId": "9b28b155-12d0-4eb5-ff00-5ad077302abb"
   },
   "outputs": [
    {
     "data": {
      "text/plain": [
       "DataFrame[readmitted: double, features: vector, scaled_features: vector]"
      ]
     },
     "execution_count": 77,
     "metadata": {
      "tags": []
     },
     "output_type": "execute_result"
    }
   ],
   "source": [
    "# scaled_data = scaled_data.selectExpr( 'readmitted as readmitted',\"scaled_features as features\")\n",
    "\n",
    "output = scaled_data\n",
    "output"
   ]
  },
  {
   "cell_type": "markdown",
   "metadata": {
    "id": "EdnaGtVo7o7c"
   },
   "source": [
    "### Principal Component Analysis"
   ]
  },
  {
   "cell_type": "code",
   "execution_count": 78,
   "metadata": {
    "executionInfo": {
     "elapsed": 1241732,
     "status": "ok",
     "timestamp": 1606641168382,
     "user": {
      "displayName": "Saruk Shaikh",
      "photoUrl": "https://lh3.googleusercontent.com/a-/AOh14Ghv-rUYie3uSseucKXRotW62K0IYvrJgTooV-W8=s64",
      "userId": "04024120848573542282"
     },
     "user_tz": -330
    },
    "id": "nuTHBQEDbt2-"
   },
   "outputs": [],
   "source": [
    "from pyspark.ml.feature import PCA\n",
    "pca = PCA(k=3, inputCol='scaled_features', outputCol='features_pca')\n",
    "pca_model = pca.fit(output)\n"
   ]
  },
  {
   "cell_type": "code",
   "execution_count": 79,
   "metadata": {
    "colab": {
     "base_uri": "https://localhost:8080/",
     "height": 128
    },
    "executionInfo": {
     "elapsed": 1247134,
     "status": "ok",
     "timestamp": 1606641173788,
     "user": {
      "displayName": "Saruk Shaikh",
      "photoUrl": "https://lh3.googleusercontent.com/a-/AOh14Ghv-rUYie3uSseucKXRotW62K0IYvrJgTooV-W8=s64",
      "userId": "04024120848573542282"
     },
     "user_tz": -330
    },
    "id": "HsJ7xAfB2rxe",
    "outputId": "b9bee1ae-9662-4667-94b1-6f354dbbf39e"
   },
   "outputs": [
    {
     "data": {
      "text/html": [
       "<div>\n",
       "<style scoped>\n",
       "    .dataframe tbody tr th:only-of-type {\n",
       "        vertical-align: middle;\n",
       "    }\n",
       "\n",
       "    .dataframe tbody tr th {\n",
       "        vertical-align: top;\n",
       "    }\n",
       "\n",
       "    .dataframe thead th {\n",
       "        text-align: right;\n",
       "    }\n",
       "</style>\n",
       "<table border=\"1\" class=\"dataframe\">\n",
       "  <thead>\n",
       "    <tr style=\"text-align: right;\">\n",
       "      <th></th>\n",
       "      <th>0</th>\n",
       "      <th>1</th>\n",
       "      <th>2</th>\n",
       "      <th>3</th>\n",
       "      <th>4</th>\n",
       "    </tr>\n",
       "  </thead>\n",
       "  <tbody>\n",
       "    <tr>\n",
       "      <th>readmitted</th>\n",
       "      <td>1</td>\n",
       "      <td>0</td>\n",
       "      <td>0</td>\n",
       "      <td>1</td>\n",
       "      <td>1</td>\n",
       "    </tr>\n",
       "    <tr>\n",
       "      <th>features_pca</th>\n",
       "      <td>[4.564122110271177, 1.4876145116255661, -0.284...</td>\n",
       "      <td>[3.634299179923852, 1.0258262736774821, -0.986...</td>\n",
       "      <td>[4.021962988479493, 0.5763203518085738, -0.199...</td>\n",
       "      <td>[1.509947585851213, 0.1421744124158617, -2.817...</td>\n",
       "      <td>[3.8843580679969403, 1.65784736259487, -0.7649...</td>\n",
       "    </tr>\n",
       "  </tbody>\n",
       "</table>\n",
       "</div>"
      ],
      "text/plain": [
       "                                                              0  ...                                                  4\n",
       "readmitted                                                    1  ...                                                  1\n",
       "features_pca  [4.564122110271177, 1.4876145116255661, -0.284...  ...  [3.8843580679969403, 1.65784736259487, -0.7649...\n",
       "\n",
       "[2 rows x 5 columns]"
      ]
     },
     "execution_count": 79,
     "metadata": {
      "tags": []
     },
     "output_type": "execute_result"
    }
   ],
   "source": [
    "# pca_data = pca_data.selectExpr( 'readmitted as readmitted',\"pcaFeature as features\")\n",
    "pca_data = pca_model.transform(output).select('readmitted','features_pca')\n",
    "pd.DataFrame(pca_data.take(5), columns=pca_data.columns).transpose()"
   ]
  },
  {
   "cell_type": "code",
   "execution_count": 80,
   "metadata": {
    "executionInfo": {
     "elapsed": 1247131,
     "status": "ok",
     "timestamp": 1606641173791,
     "user": {
      "displayName": "Saruk Shaikh",
      "photoUrl": "https://lh3.googleusercontent.com/a-/AOh14Ghv-rUYie3uSseucKXRotW62K0IYvrJgTooV-W8=s64",
      "userId": "04024120848573542282"
     },
     "user_tz": -330
    },
    "id": "BHgzMIlEnkHi"
   },
   "outputs": [],
   "source": [
    "pca_data = pca_data.selectExpr( 'readmitted as readmitted',\"features_pca as features\")\n"
   ]
  },
  {
   "cell_type": "code",
   "execution_count": 81,
   "metadata": {
    "colab": {
     "base_uri": "https://localhost:8080/",
     "height": 128
    },
    "executionInfo": {
     "elapsed": 1252331,
     "status": "ok",
     "timestamp": 1606641178997,
     "user": {
      "displayName": "Saruk Shaikh",
      "photoUrl": "https://lh3.googleusercontent.com/a-/AOh14Ghv-rUYie3uSseucKXRotW62K0IYvrJgTooV-W8=s64",
      "userId": "04024120848573542282"
     },
     "user_tz": -330
    },
    "id": "peBpghXW4eRn",
    "outputId": "e9a36096-329e-434d-8538-7b39053c3493"
   },
   "outputs": [
    {
     "data": {
      "text/html": [
       "<div>\n",
       "<style scoped>\n",
       "    .dataframe tbody tr th:only-of-type {\n",
       "        vertical-align: middle;\n",
       "    }\n",
       "\n",
       "    .dataframe tbody tr th {\n",
       "        vertical-align: top;\n",
       "    }\n",
       "\n",
       "    .dataframe thead th {\n",
       "        text-align: right;\n",
       "    }\n",
       "</style>\n",
       "<table border=\"1\" class=\"dataframe\">\n",
       "  <thead>\n",
       "    <tr style=\"text-align: right;\">\n",
       "      <th></th>\n",
       "      <th>0</th>\n",
       "      <th>1</th>\n",
       "      <th>2</th>\n",
       "      <th>3</th>\n",
       "      <th>4</th>\n",
       "    </tr>\n",
       "  </thead>\n",
       "  <tbody>\n",
       "    <tr>\n",
       "      <th>readmitted</th>\n",
       "      <td>1</td>\n",
       "      <td>0</td>\n",
       "      <td>0</td>\n",
       "      <td>1</td>\n",
       "      <td>1</td>\n",
       "    </tr>\n",
       "    <tr>\n",
       "      <th>features</th>\n",
       "      <td>[4.564122110271177, 1.4876145116255661, -0.284...</td>\n",
       "      <td>[3.634299179923852, 1.0258262736774821, -0.986...</td>\n",
       "      <td>[4.021962988479493, 0.5763203518085738, -0.199...</td>\n",
       "      <td>[1.509947585851213, 0.1421744124158617, -2.817...</td>\n",
       "      <td>[3.8843580679969403, 1.65784736259487, -0.7649...</td>\n",
       "    </tr>\n",
       "  </tbody>\n",
       "</table>\n",
       "</div>"
      ],
      "text/plain": [
       "                                                            0  ...                                                  4\n",
       "readmitted                                                  1  ...                                                  1\n",
       "features    [4.564122110271177, 1.4876145116255661, -0.284...  ...  [3.8843580679969403, 1.65784736259487, -0.7649...\n",
       "\n",
       "[2 rows x 5 columns]"
      ]
     },
     "execution_count": 81,
     "metadata": {
      "tags": []
     },
     "output_type": "execute_result"
    }
   ],
   "source": [
    "pd.DataFrame(pca_data.take(5), columns=pca_data.columns).transpose()"
   ]
  },
  {
   "cell_type": "markdown",
   "metadata": {
    "id": "9rrRbhS77wHX"
   },
   "source": [
    "### Random Forest with PCA"
   ]
  },
  {
   "cell_type": "code",
   "execution_count": 82,
   "metadata": {
    "colab": {
     "base_uri": "https://localhost:8080/"
    },
    "executionInfo": {
     "elapsed": 1339295,
     "status": "ok",
     "timestamp": 1606641265966,
     "user": {
      "displayName": "Saruk Shaikh",
      "photoUrl": "https://lh3.googleusercontent.com/a-/AOh14Ghv-rUYie3uSseucKXRotW62K0IYvrJgTooV-W8=s64",
      "userId": "04024120848573542282"
     },
     "user_tz": -330
    },
    "id": "-0xnLs27geto",
    "outputId": "ec888852-7ca8-45ef-d4cf-ce04d562f92a"
   },
   "outputs": [
    {
     "name": "stdout",
     "output_type": "stream",
     "text": [
      "Accuracy = 0.56612\n"
     ]
    }
   ],
   "source": [
    "training, testing = pca_data.randomSplit([0.8,0.2])\n",
    "rf = RandomForestClassifier(numTrees=100, maxDepth=6, labelCol=\"readmitted\", seed=42,\n",
    "                           featureSubsetStrategy='onethird')\n",
    "model = rf.fit(training)\n",
    "\n",
    "predictions = model.transform(testing)\n",
    "\n",
    "# Select (prediction, true label) and compute test error\n",
    "evaluator = MulticlassClassificationEvaluator(\n",
    "    labelCol=\"readmitted\", predictionCol=\"prediction\", metricName=\"accuracy\")\n",
    "\n",
    "accuracy = evaluator.evaluate(predictions)\n",
    "print(\"Accuracy = %g\" % accuracy)"
   ]
  },
  {
   "cell_type": "markdown",
   "metadata": {
    "id": "xu0P9gt77yBK"
   },
   "source": [
    "### Logictic Regression with PCA"
   ]
  },
  {
   "cell_type": "code",
   "execution_count": 83,
   "metadata": {
    "colab": {
     "base_uri": "https://localhost:8080/"
    },
    "executionInfo": {
     "elapsed": 1378399,
     "status": "ok",
     "timestamp": 1606641305075,
     "user": {
      "displayName": "Saruk Shaikh",
      "photoUrl": "https://lh3.googleusercontent.com/a-/AOh14Ghv-rUYie3uSseucKXRotW62K0IYvrJgTooV-W8=s64",
      "userId": "04024120848573542282"
     },
     "user_tz": -330
    },
    "id": "X5PLGevSgeq9",
    "outputId": "a4f898ac-892a-4122-8655-0c0dbef872df"
   },
   "outputs": [
    {
     "name": "stdout",
     "output_type": "stream",
     "text": [
      "Accuracy = 0.529861\n"
     ]
    }
   ],
   "source": [
    "from pyspark.ml.classification import LogisticRegression\n",
    "lr = LogisticRegression(maxIter=100, regParam=0.3, elasticNetParam=0.8, labelCol=\"readmitted\", \n",
    "                        featuresCol=\"features\")\n",
    "lrModel = lr.fit(training)\n",
    "\n",
    "preds_lr = lrModel.transform(testing)\n",
    "\n",
    "# Select (prediction, true label) and compute test error\n",
    "evaluator = MulticlassClassificationEvaluator(\n",
    "    labelCol=\"readmitted\", predictionCol=\"prediction\", metricName=\"accuracy\")\n",
    "\n",
    "accuracy = evaluator.evaluate(preds_lr)\n",
    "print(\"Accuracy = %g\" % accuracy)"
   ]
  },
  {
   "cell_type": "markdown",
   "metadata": {
    "id": "CKWutUM8755P"
   },
   "source": [
    "### GBM with PCA"
   ]
  },
  {
   "cell_type": "code",
   "execution_count": 84,
   "metadata": {
    "colab": {
     "base_uri": "https://localhost:8080/"
    },
    "executionInfo": {
     "elapsed": 1496729,
     "status": "ok",
     "timestamp": 1606641423411,
     "user": {
      "displayName": "Saruk Shaikh",
      "photoUrl": "https://lh3.googleusercontent.com/a-/AOh14Ghv-rUYie3uSseucKXRotW62K0IYvrJgTooV-W8=s64",
      "userId": "04024120848573542282"
     },
     "user_tz": -330
    },
    "id": "wPP2mdLqgeop",
    "outputId": "4c7ee2a8-8abe-417e-e1db-3c05e8a9703b"
   },
   "outputs": [
    {
     "name": "stdout",
     "output_type": "stream",
     "text": [
      "Accuracy = 0.575157\n"
     ]
    }
   ],
   "source": [
    "from pyspark.ml.classification import GBTClassifier\n",
    "gbt = GBTClassifier(maxIter=100, labelCol=\"readmitted\",featuresCol=\"features\")\n",
    "gbtModel = gbt.fit(training)\n",
    "\n",
    "preds_gb = gbtModel.transform(testing)\n",
    "\n",
    "# Select (prediction, true label) and compute test error\n",
    "evaluator = MulticlassClassificationEvaluator(\n",
    "    labelCol=\"readmitted\", predictionCol=\"prediction\", metricName=\"accuracy\")\n",
    "\n",
    "accuracy = evaluator.evaluate(preds_gb)\n",
    "print(\"Accuracy = %g\" % accuracy)"
   ]
  },
  {
   "cell_type": "code",
   "execution_count": 85,
   "metadata": {
    "colab": {
     "base_uri": "https://localhost:8080/",
     "height": 142
    },
    "executionInfo": {
     "elapsed": 1496736,
     "status": "ok",
     "timestamp": 1606641423423,
     "user": {
      "displayName": "Saruk Shaikh",
      "photoUrl": "https://lh3.googleusercontent.com/a-/AOh14Ghv-rUYie3uSseucKXRotW62K0IYvrJgTooV-W8=s64",
      "userId": "04024120848573542282"
     },
     "user_tz": -330
    },
    "id": "CGGE7Wym3AAx",
    "outputId": "ca32f1f0-6d7d-4458-aa30-47da8192701e"
   },
   "outputs": [
    {
     "data": {
      "text/html": [
       "<div>\n",
       "<style scoped>\n",
       "    .dataframe tbody tr th:only-of-type {\n",
       "        vertical-align: middle;\n",
       "    }\n",
       "\n",
       "    .dataframe tbody tr th {\n",
       "        vertical-align: top;\n",
       "    }\n",
       "\n",
       "    .dataframe thead th {\n",
       "        text-align: right;\n",
       "    }\n",
       "</style>\n",
       "<table border=\"1\" class=\"dataframe\">\n",
       "  <thead>\n",
       "    <tr style=\"text-align: right;\">\n",
       "      <th></th>\n",
       "      <th>With PCA</th>\n",
       "      <th>Without PCA</th>\n",
       "    </tr>\n",
       "  </thead>\n",
       "  <tbody>\n",
       "    <tr>\n",
       "      <th>Random Forest</th>\n",
       "      <td>0.566648</td>\n",
       "      <td>0.627887</td>\n",
       "    </tr>\n",
       "    <tr>\n",
       "      <th>Logistic Regression</th>\n",
       "      <td>0.537008</td>\n",
       "      <td>0.529323</td>\n",
       "    </tr>\n",
       "    <tr>\n",
       "      <th>Gradient Boosting</th>\n",
       "      <td>0.567590</td>\n",
       "      <td>0.646053</td>\n",
       "    </tr>\n",
       "  </tbody>\n",
       "</table>\n",
       "</div>"
      ],
      "text/plain": [
       "                     With PCA  Without PCA\n",
       "Random Forest        0.566648     0.627887\n",
       "Logistic Regression  0.537008     0.529323\n",
       "Gradient Boosting    0.567590     0.646053"
      ]
     },
     "execution_count": 85,
     "metadata": {
      "tags": []
     },
     "output_type": "execute_result"
    }
   ],
   "source": [
    "import pandas as pd \n",
    "  \n",
    "# initialise data of lists. \n",
    "data = {'With PCA':[0.566648, 0.537008, 0.56759], \n",
    "        'Without PCA':[0.627887, 0.529323, 0.646053]} \n",
    "  \n",
    "# Creates pandas DataFrame. \n",
    "data = pd.DataFrame(data, index =['Random Forest', \n",
    "                                'Logistic Regression', \n",
    "                                'Gradient Boosting']) \n",
    "  \n",
    "# print the data \n",
    "data "
   ]
  },
  {
   "cell_type": "markdown",
   "metadata": {
    "id": "FYi1NEY_DC2h"
   },
   "source": [
    "# Conclusion"
   ]
  },
  {
   "cell_type": "markdown",
   "metadata": {
    "id": "vV3OpeDBF10r"
   },
   "source": [
    "As the Data is ***Sparse*** and Even due to the less correlation its been Difficult to map the features.\n",
    "As we can see Even Applying **Feature Reduction** doesn't boost the Accuracy\n",
    "\n",
    "We can Go Ahead with the **Gradient Boosting Model** as it also provides learning on weak Learners and showed better accuracy than other models"
   ]
  },
  {
   "cell_type": "markdown",
   "metadata": {
    "id": "DkobTzVoGYX0"
   },
   "source": [
    "### According to GBM and Random Forest \n",
    "For the given data  Below features are classified and **Important Features**\n",
    "\n",
    "'time_in_hospital',\n",
    " 'num_lab_procedures',\n",
    " 'num_medications',\n",
    " 'number_emergency',\n",
    " 'number_inpatient',\n",
    " 'diag_1',\n",
    " 'diag_2',\n",
    " 'diag_3',\n",
    " 'number_diagnoses',\n",
    " 'metformin_index_vector',"
   ]
  },
  {
   "cell_type": "code",
   "execution_count": 85,
   "metadata": {
    "executionInfo": {
     "elapsed": 1496732,
     "status": "ok",
     "timestamp": 1606641423424,
     "user": {
      "displayName": "Saruk Shaikh",
      "photoUrl": "https://lh3.googleusercontent.com/a-/AOh14Ghv-rUYie3uSseucKXRotW62K0IYvrJgTooV-W8=s64",
      "userId": "04024120848573542282"
     },
     "user_tz": -330
    },
    "id": "522OQ8l1GN6_"
   },
   "outputs": [],
   "source": []
  }
 ],
 "metadata": {
  "colab": {
   "authorship_tag": "ABX9TyP+cAbIWHulp59DlhvLJTjt",
   "collapsed_sections": [],
   "name": "Patient_Readmittance_Analysis.ipynb",
   "provenance": []
  },
  "kernelspec": {
   "display_name": "Python 3",
   "language": "python",
   "name": "python3"
  },
  "language_info": {
   "codemirror_mode": {
    "name": "ipython",
    "version": 3
   },
   "file_extension": ".py",
   "mimetype": "text/x-python",
   "name": "python",
   "nbconvert_exporter": "python",
   "pygments_lexer": "ipython3",
   "version": "3.7.1"
  }
 },
 "nbformat": 4,
 "nbformat_minor": 1
}
